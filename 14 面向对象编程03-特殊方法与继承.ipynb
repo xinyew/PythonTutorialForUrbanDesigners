{
 "cells": [
  {
   "cell_type": "markdown",
   "id": "f6ea6eeb",
   "metadata": {},
   "source": [
    "# 城市设计分析技术Python自学教程14\n",
    "\n",
    "### 面向对象编程03-特殊方法与继承\n",
    "\n",
    "##### [计算城市设计实验室(Computational Urban Design Lab)](https://www.tjcud.cn/)"
   ]
  },
  {
   "cell_type": "markdown",
   "id": "4e35a00c",
   "metadata": {},
   "source": [
    "#### 两种类型测试(type, isinstance)"
   ]
  },
  {
   "cell_type": "code",
   "execution_count": null,
   "id": "4d1c64d0",
   "metadata": {},
   "outputs": [],
   "source": [
    "class A(object): pass\n",
    "a = A()\n",
    "print(type(a))           # A (实际上打印出 < class '__main__.A' >)\n",
    "print(type(a) == A)      # True\n",
    "print(isinstance(a, A))  # True"
   ]
  },
  {
   "cell_type": "markdown",
   "id": "f85df22f",
   "metadata": {},
   "source": [
    "#### 特殊方法\n",
    "#### 全等测试 (__eq__)\n",
    "#### 问题来了：是否 a1 == a2?"
   ]
  },
  {
   "cell_type": "code",
   "execution_count": null,
   "id": "ea78e1a4",
   "metadata": {},
   "outputs": [],
   "source": [
    "class A(object):\n",
    "    def __init__(self, x):\n",
    "        self.x = x\n",
    "a1 = A(5)\n",
    "a2 = A(5)\n",
    "print(a1 == a2)  # False!"
   ]
  },
  {
   "cell_type": "markdown",
   "id": "ef8e35e5",
   "metadata": {},
   "source": [
    "#### 一个能部分解决问题的方案: __eq__\n",
    "__eq__ 方法告诉python如何去判断两个值是否全等"
   ]
  },
  {
   "cell_type": "code",
   "execution_count": null,
   "id": "7875aa38",
   "metadata": {},
   "outputs": [],
   "source": [
    "class A(object):\n",
    "    def __init__(self, x):\n",
    "        self.x = x\n",
    "    def __eq__(self, other):\n",
    "        return (self.x == other.x)\n",
    "a1 = A(5)\n",
    "a2 = A(5)\n",
    "print(a1 == a2)  # True\n",
    "print(a1 == 99)  # 报错！"
   ]
  },
  {
   "cell_type": "markdown",
   "id": "a5c2f3fb",
   "metadata": {},
   "source": [
    "#### 一个更好的方案:\n",
    "这样就不会因为奇奇怪怪的原因而报错了:"
   ]
  },
  {
   "cell_type": "code",
   "execution_count": null,
   "id": "85079841",
   "metadata": {},
   "outputs": [],
   "source": [
    "class A(object):\n",
    "    def __init__(self, x):\n",
    "        self.x = x\n",
    "    def __eq__(self, other):\n",
    "        return (isinstance(other, A) and (self.x == other.x))\n",
    "a1 = A(5)\n",
    "a2 = A(5)\n",
    "print(a1 == a2)  # True\n",
    "print(a1 == 99)  # False "
   ]
  },
  {
   "cell_type": "markdown",
   "id": "a85f6158",
   "metadata": {},
   "source": [
    "#### 转换为字符串（__str__ 和 __repr__）\n",
    "#### 问题：\n",
    "就像 == 一样，Python 并不真正知道如何打印我们的对象......"
   ]
  },
  {
   "cell_type": "code",
   "execution_count": null,
   "id": "0e0a48d3",
   "metadata": {},
   "outputs": [],
   "source": [
    "class A(object):\n",
    "    def __init__(self, x):\n",
    "        self.x = x\n",
    "a = A(5)\n",
    "print(a) # 打印出 <__main__.A object at 0x102916128> (yuck!)"
   ]
  },
  {
   "cell_type": "markdown",
   "id": "f2cafc2f",
   "metadata": {},
   "source": [
    "#### 一个能部分解决问题的方案：__str__\n",
    "\n",
    "__str__ 方法告诉 Python 如何将对象转换为字符串，但在某些情况下（例如对象在列表中时）不使用它："
   ]
  },
  {
   "cell_type": "code",
   "execution_count": null,
   "id": "080bd568",
   "metadata": {},
   "outputs": [],
   "source": [
    "class A(object):\n",
    "    def __init__(self, x):\n",
    "        self.x = x\n",
    "    def __str__(self):\n",
    "        return f'A(x={self.x})'\n",
    "a = A(5)\n",
    "print(a) # 打印出 A(x=5) \n",
    "print([a]) # 打印出 [<__main__.A object at 0x102136278>] "
   ]
  },
  {
   "cell_type": "markdown",
   "id": "2b455b4e",
   "metadata": {},
   "source": [
    "#### 更好的解决方案：__repr__\n",
    "__repr__ 方法用于列表（和其他地方）："
   ]
  },
  {
   "cell_type": "code",
   "execution_count": null,
   "id": "f53ee6ab",
   "metadata": {},
   "outputs": [],
   "source": [
    "# 注意：repr 应该是一种计算机可读的形式，比如 (eval(repr(obj)) == obj)，但我们不会那样使用它。\n",
    "# 所以这是repr的简化使用。\n",
    "\n",
    "class A(object):\n",
    "    def __init__(self, x):\n",
    "        self.x = x\n",
    "    def __repr__(self):\n",
    "        return f'A(x={self.x})'\n",
    "a = A(5)\n",
    "print(a) # 打印出 A(x=5) (better)\n",
    "print([a]) # [A(x=5)]"
   ]
  },
  {
   "cell_type": "markdown",
   "id": "62fdbbfa",
   "metadata": {},
   "source": [
    "#### 类级功能\n",
    "#### 类属性\n",
    "类属性是在类中指定的值，该值由该类的所有实例共享！\n",
    "我们可以从该类的任何实例访问类属性，但是在任何地方更改这些值都会为每个实例更改它们。"
   ]
  },
  {
   "cell_type": "code",
   "execution_count": null,
   "id": "e7444579",
   "metadata": {},
   "outputs": [],
   "source": [
    "class A(object):\n",
    "    dirs = [\"up\", \"down\", \"left\", \"right\"]\n",
    "\n",
    "# 通常通过类直接访问类属性（没有实例！）\n",
    "print(A.dirs) # ['up', 'down', 'left', 'right']\n",
    "\n",
    "# 也可以通过实例访问：\n",
    "a = A()\n",
    "print(a.dirs)\n",
    "\n",
    "# 但所有实例只有一个共享值：\n",
    "a1 = A()\n",
    "a1.dirs.pop() # 不是个好主意\n",
    "a2 = A()\n",
    "print(a2.dirs) # ['up', 'down', 'left'] ('right' 不见了)"
   ]
  },
  {
   "cell_type": "markdown",
   "id": "3820a14a",
   "metadata": {},
   "source": [
    "#### 静态方法\n",
    "可以直接调用类中的静态方法，而不必创建和/或引用特定对象。"
   ]
  },
  {
   "cell_type": "code",
   "execution_count": null,
   "id": "e0fc60c0",
   "metadata": {},
   "outputs": [],
   "source": [
    "class A(object):\n",
    "    @staticmethod\n",
    "    def f(x):\n",
    "        return 10*x\n",
    "\n",
    "print(A.f(42)) # 420 (调用 A.f 而不创建 A 的实例)"
   ]
  },
  {
   "cell_type": "markdown",
   "id": "edf86afa",
   "metadata": {},
   "source": [
    "#### 纸牌演示\n",
    "您不需要掌握以下示例中的 __hash__ 方法："
   ]
  },
  {
   "cell_type": "code",
   "execution_count": null,
   "id": "e76fb4b6",
   "metadata": {},
   "outputs": [],
   "source": [
    "import random\n",
    "\n",
    "class PlayingCard(object):\n",
    "    numberNames = [None, \"Ace\", \"2\", \"3\", \"4\", \"5\", \"6\", \"7\",\n",
    "                   \"8\", \"9\", \"10\", \"Jack\", \"Queen\", \"King\"]\n",
    "    suitNames = [\"Clubs\", \"Diamonds\", \"Hearts\", \"Spades\"]\n",
    "    CLUBS = 0\n",
    "    DIAMONDS = 1\n",
    "    HEARTS = 2\n",
    "    SPADES = 3\n",
    "\n",
    "    @staticmethod\n",
    "    def getDeck(shuffled=True):\n",
    "        deck = [ ]\n",
    "        for number in range(1, 14):\n",
    "            for suit in range(4):\n",
    "                deck.append(PlayingCard(number, suit))\n",
    "        if (shuffled):\n",
    "            random.shuffle(deck)\n",
    "        return deck\n",
    "\n",
    "    def __init__(self, number, suit):\n",
    "        \n",
    "# Ace 的数字是 1，2...10，        \n",
    "# 11 为杰克，12 为皇后，13 为国王        \n",
    "# 花色为 0 代表俱乐部，1 代表钻石，        \n",
    "# 2 红心，3 黑桃\n",
    "\n",
    "        self.number = number\n",
    "        self.suit = suit\n",
    "\n",
    "    def __repr__(self):\n",
    "        number = PlayingCard.numberNames[self.number]\n",
    "        suit = PlayingCard.suitNames[self.suit]\n",
    "        return f'<{number} of {suit}>'\n",
    "\n",
    "    def getHashables(self):\n",
    "        return (self.number, self.suit) # 返回可被哈希算法使用的元组\n",
    "\n",
    "    def __hash__(self):\n",
    "        # 你不用看懂这里\n",
    "        return hash(self.getHashables())\n",
    "\n",
    "    def __eq__(self, other):\n",
    "        return (isinstance(other, PlayingCard) and\n",
    "                (self.number == other.number) and\n",
    "                (self.suit == other.suit))\n",
    "\n",
    "# Show this code in action\n",
    "print(\"PlayingCard 的演示将不断创建新的牌组，并且\")\n",
    "print(\"抽第一张牌，直到我们看到同一张牌两次.\")\n",
    "print()\n",
    "cardsSeen = set()\n",
    "diamondsCount = 0\n",
    " \n",
    "# 现在继续抽卡，直到我们得到重复的卡片\n",
    "while True:\n",
    "    deck = PlayingCard.getDeck()\n",
    "    drawnCard = deck[0]\n",
    "    if (drawnCard.suit == PlayingCard.DIAMONDS):\n",
    "        diamondsCount += 1\n",
    "    print(\"  drawnCard:\", drawnCard)\n",
    "    if (drawnCard in cardsSeen): break\n",
    "    cardsSeen.add(drawnCard)\n",
    "\n",
    "# 然后报告我们抽了多少张牌\n",
    "print(\"共计抽了:\", 1+len(cardsSeen),\"张牌\")\n",
    "print(\"共抽了:\", diamondsCount,\"张方片\")"
   ]
  },
  {
   "cell_type": "markdown",
   "id": "ccfdf0f6",
   "metadata": {},
   "source": [
    "#### 继承\n",
    "子类继承其超类的所有方法，然后可以添加或修改方法。\n",
    "#### 指定超类"
   ]
  },
  {
   "cell_type": "code",
   "execution_count": null,
   "id": "80c9c195",
   "metadata": {},
   "outputs": [],
   "source": [
    "class A(object):\n",
    "    def __init__(self, x):\n",
    "        self.x = x\n",
    "    def f(self):\n",
    "        return 10*self.x\n",
    "\n",
    "class B(A):\n",
    "    def g(self):\n",
    "        return 1000*self.x\n",
    "\n",
    "print(A(5).f()) # 50\n",
    "print(B(7).g()) # 7000\n",
    "print(B(7).f()) # 70 (B 类继承了 A 类的方法 f)\n",
    "print(A(5).g()) # 报错 (A 类没有方法 g)"
   ]
  },
  {
   "cell_type": "markdown",
   "id": "ab253d83",
   "metadata": {},
   "source": [
    "#### 覆盖方法\n",
    "我们可以通过覆盖它来更改子类中方法的行为。"
   ]
  },
  {
   "cell_type": "markdown",
   "id": "4dfd9d5f",
   "metadata": {},
   "source": [
    "#### isinstance 和 type 在子类中的使用"
   ]
  },
  {
   "cell_type": "code",
   "execution_count": null,
   "id": "71171b94",
   "metadata": {},
   "outputs": [],
   "source": [
    "class A(object): pass\n",
    "class B(A): pass\n",
    "a = A()\n",
    "b = B()\n",
    "print(type(a) == A) # True\n",
    "print(type(b) == A) # False\n",
    "print(type(a) == B) # False\n",
    "print(type(b) == B) # True\n",
    "print()\n",
    "print(isinstance(a, A)) # True\n",
    "print(isinstance(b, A)) # True (奇怪吧~)\n",
    "print(isinstance(a, B)) # False\n",
    "print(isinstance(b, B)) # True"
   ]
  },
  {
   "cell_type": "markdown",
   "id": "05fa7dc0",
   "metadata": {},
   "source": [
    "#### 怪兽（demo）"
   ]
  },
  {
   "cell_type": "code",
   "execution_count": null,
   "id": "6416516b",
   "metadata": {},
   "outputs": [],
   "source": [
    "# 这是你的基础类\n",
    "class Monster(object):\n",
    "    def __init__(self, strength, defense):\n",
    "        self.strength = strength\n",
    "        self.defense = defense\n",
    "        self.health = 10\n",
    "\n",
    "    def attack(self): # 返回造成的伤害值\n",
    "        if self.health > 0:\n",
    "            return self.strength\n",
    "\n",
    "    def defend(self, damage): # 对自己造成伤害\n",
    "        self.health -= damage\n",
    "\n",
    "class MagicMonster(Monster):\n",
    "    def __init__(self, strength, defense):\n",
    "        super().__init__(strength, defense) # 大部分属性相同\n",
    "        self.health = 5 # 开始的时候血量少一些\n",
    "\n",
    "    def heal(self): # 只有魔法怪兽可以治疗自己\n",
    "        if 0 < self.health < 5:\n",
    "            self.health += 1\n",
    "\n",
    "class NecroMonster(Monster):\n",
    "    def attack(self): # NecroMonsters 可以在被干掉后继续攻击\n",
    "        return self.strength"
   ]
  },
  {
   "cell_type": "markdown",
   "id": "308d8e6b",
   "metadata": {},
   "source": [
    "#### A额外阅读\n",
    "有关这些主题的更多信息以及许多其他 OOP 相关主题，请查看以下链接：\n",
    "     https://docs.python.org/3/tutorial/classes.html\n",
    "     https://docs.python.org/3/reference/datamodel.html"
   ]
  }
 ],
 "metadata": {
  "kernelspec": {
   "display_name": "Python 3 (ipykernel)",
   "language": "python",
   "name": "python3"
  },
  "language_info": {
   "codemirror_mode": {
    "name": "ipython",
    "version": 3
   },
   "file_extension": ".py",
   "mimetype": "text/x-python",
   "name": "python",
   "nbconvert_exporter": "python",
   "pygments_lexer": "ipython3",
   "version": "3.7.11"
  }
 },
 "nbformat": 4,
 "nbformat_minor": 5
}
