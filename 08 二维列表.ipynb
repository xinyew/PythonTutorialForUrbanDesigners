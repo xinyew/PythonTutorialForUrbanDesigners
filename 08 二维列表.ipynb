{
 "cells": [
  {
   "cell_type": "markdown",
   "id": "8af5f487",
   "metadata": {},
   "source": [
    "# 城市设计分析技术Python自学教程08\n",
    "\n",
    "### 二维列表\n",
    "\n",
    "##### [计算城市设计实验室(Computational Urban Design Lab)](https://www.tjcud.cn/)"
   ]
  },
  {
   "cell_type": "markdown",
   "id": "0ebe84c9",
   "metadata": {},
   "source": [
    "#### 8.1 创建二维列表\n",
    "#### 静态分配"
   ]
  },
  {
   "cell_type": "code",
   "execution_count": null,
   "id": "2cc7d041",
   "metadata": {},
   "outputs": [],
   "source": [
    "# 创建具有固定值的二维列表（静态分配）\n",
    "a = [ [ 2, 3, 4 ] , [ 5, 6, 7 ] ]\n",
    "print(a)"
   ]
  },
  {
   "cell_type": "markdown",
   "id": "ade634c2",
   "metadata": {},
   "source": [
    "#### 动态（可变长度）分配\n",
    "#### 错误：不能使用 *（浅拷贝）"
   ]
  },
  {
   "cell_type": "code",
   "execution_count": null,
   "id": "7a5196fa",
   "metadata": {},
   "outputs": [],
   "source": [
    "# 一次以变量为长度创建二维列表失败的尝试\n",
    "rows = 3\n",
    "cols = 2\n",
    "\n",
    "a = [ [0] * cols ] * rows # 错误：这是一次浅拷贝\n",
    "                          # 只创建了单独的一行，其他行都是这一行的别名!\n",
    "\n",
    "print(\"这样看起来还行，开始时:\")\n",
    "print(\"   a =\", a)\n",
    "\n",
    "a[0][0] = 42\n",
    "print(\"在执行a[0][0]=42后：\")\n",
    "print(\"   a =\", a)"
   ]
  },
  {
   "cell_type": "markdown",
   "id": "55f87dce",
   "metadata": {},
   "source": [
    "#### 正确方式：每一行单独添加"
   ]
  },
  {
   "cell_type": "code",
   "execution_count": null,
   "id": "0045d377",
   "metadata": {},
   "outputs": [],
   "source": [
    "# 以变量为长度创建二维列表\n",
    "rows = 3\n",
    "cols = 2\n",
    "\n",
    "a = []\n",
    "for row in range(rows):\n",
    "    a += [[0]*cols]\n",
    "\n",
    "print(\"这样是真实可行的，一开始:\")\n",
    "print(\"   a =\", a)\n",
    "\n",
    "a[0][0] = 42\n",
    "print(\"在执行a[0][0]=42后：\")\n",
    "print(\"   a =\", a)"
   ]
  },
  {
   "cell_type": "markdown",
   "id": "7877ec55",
   "metadata": {},
   "source": [
    "#### 另一个不错的选择：使用列表推导式"
   ]
  },
  {
   "cell_type": "code",
   "execution_count": null,
   "id": "c56c46ce",
   "metadata": {},
   "outputs": [],
   "source": [
    "rows = 3\n",
    "cols = 2\n",
    "\n",
    "#这就是所谓的列表推导式\n",
    "a = [ ([0] * cols) for row in range(rows) ]\n",
    "\n",
    "print(\"这样是真实可行的，一开始:\")\n",
    "print(\"   a =\", a)\n",
    "\n",
    "a[0][0] = 42\n",
    "print(\"在执行a[0][0]=42后：\")\n",
    "print(\"   a =\", a)"
   ]
  },
  {
   "cell_type": "markdown",
   "id": "905d302e",
   "metadata": {},
   "source": [
    "#### 最好的办法: 创建make2dList()函数"
   ]
  },
  {
   "cell_type": "code",
   "execution_count": null,
   "id": "78f2fbbe",
   "metadata": {},
   "outputs": [],
   "source": [
    "def make2dList(rows, cols):\n",
    "    return [ ([0] * cols) for row in range(rows) ]\n",
    "\n",
    "rows = 3\n",
    "cols = 2\n",
    "\n",
    "a = make2dList(rows, cols)\n",
    "\n",
    "print(\"这样是真实可行的，一开始:\")\n",
    "print(\"   a =\", a)\n",
    "\n",
    "a[0][0] = 42\n",
    "print(\"在执行a[0][0]=42后：\")\n",
    "print(\"   a =\", a)"
   ]
  },
  {
   "cell_type": "markdown",
   "id": "453430ec",
   "metadata": {},
   "source": [
    "#### 8.2 获取二维列表的尺寸"
   ]
  },
  {
   "cell_type": "code",
   "execution_count": null,
   "id": "27a546fc",
   "metadata": {},
   "outputs": [],
   "source": [
    "# 随便创建一个二维列表\n",
    "a = [ [ 2, 3, 5] , [ 1, 4, 7 ] ]\n",
    "print(\"a = \", a)\n",
    "\n",
    "# 现在来找出列表的尺寸\n",
    "rows = len(a)\n",
    "cols = len(a[0])\n",
    "print(\"rows =\", rows)\n",
    "print(\"cols =\", cols)"
   ]
  },
  {
   "cell_type": "markdown",
   "id": "36004639",
   "metadata": {},
   "source": [
    "#### 8.3 二维列表的复制和别名\n",
    "#### 错误：使用浅拷贝"
   ]
  },
  {
   "cell_type": "code",
   "execution_count": null,
   "id": "ffe1523d",
   "metadata": {},
   "outputs": [],
   "source": [
    "import copy\n",
    "\n",
    "# 创建一个二维列表\n",
    "a = [ [ 1, 2, 3 ] , [ 4, 5, 6 ] ]\n",
    "\n",
    "# 复制它\n",
    "b = copy.copy(a) # 出错啦：这是一次浅拷贝\n",
    "\n",
    "# 乍一看应该可以\n",
    "print(\"一开始...\")\n",
    "print(\"   a =\", a)\n",
    "print(\"   b =\", b)\n",
    "\n",
    "# 现在修改a[0][0]的数值\n",
    "a[0][0] = 9\n",
    "print(\"在修改a[0][0] = 9之后：\")\n",
    "print(\"   a =\", a)\n",
    "print(\"   b =\", b)"
   ]
  },
  {
   "cell_type": "markdown",
   "id": "336610e9",
   "metadata": {},
   "source": [
    "#### 正确：使用深拷贝"
   ]
  },
  {
   "cell_type": "code",
   "execution_count": null,
   "id": "4f5a5344",
   "metadata": {},
   "outputs": [],
   "source": [
    "import copy\n",
    "\n",
    "# 创建一个二维列表\n",
    "a = [ [ 1, 2, 3 ] , [ 4, 5, 6 ] ]\n",
    "\n",
    "# 复制它\n",
    "b = copy.deepcopy(a) # 正确!\n",
    "\n",
    "# 乍一看应该可以\n",
    "print(\"一开始...\")\n",
    "print(\"   a =\", a)\n",
    "print(\"   b =\", b)\n",
    "\n",
    "# Now modify a[0][0]\n",
    "a[0][0] = 9\n",
    "print(\"在修改a[0][0] = 9之后：\")\n",
    "print(\"   a =\", a)\n",
    "print(\"   b =\", b)"
   ]
  },
  {
   "cell_type": "markdown",
   "id": "7e41a190",
   "metadata": {},
   "source": [
    "#### 深拷贝的局限性"
   ]
  },
  {
   "cell_type": "code",
   "execution_count": null,
   "id": "b469e22c",
   "metadata": {},
   "outputs": [],
   "source": [
    "a = [[0]*2]*3 # 创建三个单行列表的浅复制（别名）\n",
    "a[0][0] = 42  # 同时修改了三行\n",
    "print(a)      # 打印出 [[42, 0], [42, 0], [42, 0]]\n",
    "\n",
    "# 现在用深拷贝再来一次\n",
    "\n",
    "import copy\n",
    "a = [[0]*2]*3        # 创建了包含三个指向同个单行列表别名的二维列表\n",
    "a = copy.deepcopy(a) # 想让让每一行都不一样\n",
    "a[0][0] = 42         # 这时如果我们只想修改第一行\n",
    "print(a)             # 仍然打印出 [[42, 0], [42, 0], [42, 0]]\n",
    "\n",
    "# deepcopy 完美地保留了任何已经存在的别名!\n",
    "# 最佳方法：除非必要，先不要创建任何别名"
   ]
  },
  {
   "cell_type": "markdown",
   "id": "2fa4b519",
   "metadata": {},
   "source": [
    "#### 进阶：打破别名的深拷贝"
   ]
  },
  {
   "cell_type": "code",
   "execution_count": null,
   "id": "80f53c03",
   "metadata": {},
   "outputs": [],
   "source": [
    "# 进阶：现在再使用一个简单的 deepcopy 替代方案，它可以完成我们认为 deepcopy 所做的事情......\n",
    "# 注意：这使用递归。我们将在未来讨论它是如何工作的。\n",
    "\n",
    "import copy\n",
    "\n",
    "def myDeepCopy(a):\n",
    "    if (isinstance(a, list) or isinstance(a, tuple)):\n",
    "        return [myDeepCopy(element) for element in a]\n",
    "    else:\n",
    "        return copy.copy(a)\n",
    "\n",
    "a = [[0]*2]*3     # 创建三个单行列表的浅复制（别名）\n",
    "a = myDeepCopy(a) # 再一次，想让让每一行都不一样\n",
    "a[0][0] = 42      # 我们希望只修改第一行\n",
    "print(a)          # 终于，打印出 [[42, 0], [0, 0], [0, 0]]\n",
    "\n",
    "# 现在所有的别名都消失了"
   ]
  },
  {
   "cell_type": "markdown",
   "id": "806841a7",
   "metadata": {},
   "source": [
    "#### 8.4 打印二维列表\n",
    "#### 基础版本:"
   ]
  },
  {
   "cell_type": "code",
   "execution_count": null,
   "id": "8b264987",
   "metadata": {},
   "outputs": [],
   "source": [
    "# 打印二维列表的辅助函数\n",
    "# 这将查找二维列表中最大字符串长度的元素\n",
    "\n",
    "def maxItemLength(a):\n",
    "    maxLen = 0\n",
    "    rows = len(a)\n",
    "    cols = len(a[0])\n",
    "    for row in range(rows):\n",
    "        for col in range(cols):\n",
    "            maxLen = max(maxLen, len(str(a[row][col])))\n",
    "    return maxLen\n",
    "\n",
    "# 因为在python里，二维列表打印在同一行，我们需要写自己的打印函数\n",
    "# 这会让我们打印的更加美观\n",
    "def print2dList(a):\n",
    "    if (a == []):\n",
    "        # 避免遇到空列表报错\n",
    "        print([])\n",
    "        return\n",
    "    rows, cols = len(a), len(a[0])\n",
    "    fieldWidth = maxItemLength(a)\n",
    "    print('[')\n",
    "    for row in range(rows):\n",
    "        print(' [ ', end='')\n",
    "        for col in range(cols):\n",
    "            if (col > 0): print(', ', end='')\n",
    "            print(str(a[row][col]).rjust(fieldWidth), end='')\n",
    "        print(' ]')\n",
    "    print(']')\n",
    "\n",
    "# 试试看!\n",
    "a = [ [ 1, 2, 3 ] , [ 4, 5, 67 ] ]\n",
    "print2dList(a)"
   ]
  },
  {
   "cell_type": "markdown",
   "id": "f5dd6f27",
   "metadata": {},
   "source": [
    "#### 炫酷版本 (带边框和行列标签):"
   ]
  },
  {
   "cell_type": "code",
   "execution_count": null,
   "id": "b0e6a730",
   "metadata": {},
   "outputs": [],
   "source": [
    "# 打印二维列表的辅助函数\n",
    "# 这将查找二维列表中最大字符串长度的元素\n",
    "\n",
    "def maxItemLength(a):\n",
    "    maxLen = 0\n",
    "    for row in range(len(a)):\n",
    "        for col in range(len(a[row])):\n",
    "            maxLen = max(maxLen, len(repr(a[row][col])))\n",
    "    return maxLen\n",
    "\n",
    "def print2dList(a):\n",
    "    if a == []:\n",
    "        print([])\n",
    "        return\n",
    "    print()\n",
    "    rows, cols = len(a), len(a[0])\n",
    "    maxCols = max([len(row) for row in a])\n",
    "    fieldWidth = max(maxItemLength(a), len(f'col={maxCols-1}'))\n",
    "    rowLabelSize = 5 + len(str(rows-1))\n",
    "    rowPrefix = ' '*rowLabelSize+' '\n",
    "    rowSeparator = rowPrefix + '|' + ('-'*(fieldWidth+3) + '|')*maxCols\n",
    "    print(rowPrefix, end='  ')\n",
    "    # 在每列的中间打印标签\n",
    "    for col in range(maxCols):\n",
    "        print(f'col={col}'.center(fieldWidth+2), end='  ')\n",
    "    print('\\n' + rowSeparator)\n",
    "    for row in range(rows):\n",
    "        # 打印每行的标签\n",
    "        print(f'row={row}'.center(rowLabelSize), end=' | ')\n",
    "        # 打印右对齐但宽度相同的行的每个项目\n",
    "        for col in range(len(a[row])):\n",
    "            print(repr(a[row][col]).center(fieldWidth+1), end=' | ')\n",
    "        # 打印出每列中缺失的单元格，以防列表参差不齐\n",
    "        missingCellChar = chr(10006)\n",
    "        for col in range(len(a[row]), maxCols):\n",
    "            print(missingCellChar*(fieldWidth+1), end=' | ')\n",
    "        print('\\n' + rowSeparator)\n",
    "    print()\n",
    "\n",
    "# 试试看!\n",
    "a = [ [ 1, -1023, 3 ] , [ 4, 5, 678 ] ]\n",
    "b = [ [123, 4567, 891011], [567890, 'ABC'], ['炫酷!', True, '', -3.14, None]]\n",
    "print2dList(a)\n",
    "print2dList(b)"
   ]
  },
  {
   "cell_type": "markdown",
   "id": "8cba5619",
   "metadata": {},
   "source": [
    "#### 8.5 嵌套循环遍历二维列表"
   ]
  },
  {
   "cell_type": "code",
   "execution_count": null,
   "id": "1f1bf1af",
   "metadata": {},
   "outputs": [],
   "source": [
    "# 随便创建一个二维列表\n",
    "a = [ [ 2, 3, 5] , [ 1, 4, 7 ] ]\n",
    "print(\"一开始: a =\", a)\n",
    "\n",
    "# 计算尺寸\n",
    "rows = len(a)\n",
    "cols = len(a[0])\n",
    "\n",
    "# 遍历每一个元素\n",
    "# 现在，我们让每一个元素加上一\n",
    "# 这样我们可以更好的看到列表的变化\n",
    "for row in range(rows):\n",
    "    for col in range(cols):\n",
    "        # 此代码将运行 行数*列数 次，对二维列表中的每个元素运行一次\n",
    "        a[row][col] += 1\n",
    "\n",
    "# 最后，打印出结果\n",
    "print(\"最后:  a =\", a)"
   ]
  },
  {
   "cell_type": "markdown",
   "id": "711cc337",
   "metadata": {},
   "source": [
    "#### 8.6 按行或列访问二维列表\n",
    "#### 访问整行"
   ]
  },
  {
   "cell_type": "code",
   "execution_count": null,
   "id": "d02b417c",
   "metadata": {},
   "outputs": [],
   "source": [
    "# 别名（不是复制！没有创建新列表）\n",
    "a = [ [ 1, 2, 3 ] , [ 4, 5, 6 ] ]\n",
    "row = 1\n",
    "rowList = a[row]\n",
    "print(rowList)"
   ]
  },
  {
   "cell_type": "markdown",
   "id": "c328d583",
   "metadata": {},
   "source": [
    "#### 访问整列\n"
   ]
  },
  {
   "cell_type": "code",
   "execution_count": null,
   "id": "282cc4d2",
   "metadata": {},
   "outputs": [],
   "source": [
    "# 复制（不是别名！已创建新列表）\n",
    "a = [ [ 1, 2, 3 ] , [ 4, 5, 6 ] ]\n",
    "col = 1\n",
    "colList = [ ]\n",
    "for i in range(len(a)):\n",
    "    colList += [ a[i][col] ]\n",
    "print(colList)"
   ]
  },
  {
   "cell_type": "markdown",
   "id": "2bdbdc52",
   "metadata": {},
   "source": [
    "#### 用列表推导式访问整列"
   ]
  },
  {
   "cell_type": "code",
   "execution_count": null,
   "id": "3dee8f14",
   "metadata": {},
   "outputs": [],
   "source": [
    "# 用了更清晰的列表推导式来访问！\n",
    "a = [ [ 1, 2, 3 ] , [ 4, 5, 6 ] ]\n",
    "col = 1\n",
    "colList = [ a[i][col] for i in range(len(a)) ]\n",
    "print(colList)"
   ]
  },
  {
   "cell_type": "markdown",
   "id": "71f580ed",
   "metadata": {},
   "source": [
    "#### 8.7 非矩形（“参差不齐的”）二维列表"
   ]
  },
  {
   "cell_type": "code",
   "execution_count": null,
   "id": "86954dd9",
   "metadata": {},
   "outputs": [],
   "source": [
    "# 二维列表的每一行并不需要有相同的长度\n",
    "a = [ [ 1, 2, 3 ] ,\n",
    "      [ 4, 5 ],\n",
    "      [ 6 ],\n",
    "      [ 7, 8, 9, 10 ] ]\n",
    "\n",
    "rows = len(a)\n",
    "for row in range(rows):\n",
    "    cols = len(a[row]) # 现在按行来获取每一列的元素\n",
    "    print(\"第\", row, \"行有\", cols, \"列: \", end=\"\")\n",
    "    for col in range(cols):\n",
    "        print(a[row][col], \" \", end=\"\")\n",
    "    print()"
   ]
  },
  {
   "cell_type": "markdown",
   "id": "f525055b",
   "metadata": {},
   "source": [
    "#### 8.8 三维列表"
   ]
  },
  {
   "cell_type": "code",
   "execution_count": null,
   "id": "65cb2956",
   "metadata": {},
   "outputs": [],
   "source": [
    "# 实际上二维列表在 Python 中并不存在。\n",
    "# 它们只是碰巧包含其他列表作为元素的列表。\n",
    "# 所以这也适用于“三维列表”，甚至“思维”或更高维的列表。\n",
    "# 当然，这些也可以是非矩形的！\n",
    "\n",
    "a = [ [ [ 1, 2 ],\n",
    "        [ 3, 4 ] ],\n",
    "      [ [ 5, 6, 7 ],\n",
    "        [ 8, 9 ] ],\n",
    "      [ [ 10 ] ] ]\n",
    "\n",
    "for i in range(len(a)):\n",
    "    for j in range(len(a[i])):\n",
    "        for k in range(len(a[i][j])):\n",
    "            print(f'a[{i}][{j}][{k}] = {a[i][j][k]}')"
   ]
  }
 ],
 "metadata": {
  "kernelspec": {
   "display_name": "Python 3 (ipykernel)",
   "language": "python",
   "name": "python3"
  },
  "language_info": {
   "codemirror_mode": {
    "name": "ipython",
    "version": 3
   },
   "file_extension": ".py",
   "mimetype": "text/x-python",
   "name": "python",
   "nbconvert_exporter": "python",
   "pygments_lexer": "ipython3",
   "version": "3.7.11"
  }
 },
 "nbformat": 4,
 "nbformat_minor": 5
}
