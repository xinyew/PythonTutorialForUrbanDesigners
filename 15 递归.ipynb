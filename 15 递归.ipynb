{
 "cells": [
  {
   "cell_type": "markdown",
   "id": "22d1b900",
   "metadata": {},
   "source": [
    "# 城市设计分析技术Python自学教程15\n",
    "\n",
    "### 递归\n",
    "\n",
    "##### [计算城市设计实验室(Computational Urban Design Lab)](https://www.tjcud.cn/)"
   ]
  },
  {
   "cell_type": "markdown",
   "id": "de14b7a5",
   "metadata": {},
   "source": [
    "#### 15.1 预测一下"
   ]
  },
  {
   "cell_type": "code",
   "execution_count": null,
   "id": "eed2f442",
   "metadata": {},
   "outputs": [],
   "source": [
    "# 这几行代码会打印出什么结果呢？\n",
    "def f(n):\n",
    "    if n == 0:\n",
    "        return \"boo!\"\n",
    "    else:\n",
    "        print(n)\n",
    "        return f(n-1)\n",
    "\n",
    "print(f(5))"
   ]
  },
  {
   "cell_type": "markdown",
   "id": "c8058219",
   "metadata": {},
   "source": [
    "#### 15.2 递归的通用格式\n",
    "递归在技术上意味着某些函数调用自身。然而，从根本上说，使用递归不止于此——它是一种强大的解决问题的思想。"
   ]
  },
  {
   "cell_type": "markdown",
   "id": "50525f56",
   "metadata": {},
   "source": [
    "在递归中，我们将函数分为两种可能的情况：基准条件，返回已设定较小值的结果，以及递归条件，通过对较小值调用相同函数来计算结果。换句话说：我们通过假设问题已经解决来解决问题！"
   ]
  },
  {
   "cell_type": "code",
   "execution_count": null,
   "id": "e6e28d17",
   "metadata": {},
   "outputs": [],
   "source": [
    "def recursiveFunction():\n",
    "    if (这是基准条件):\n",
    "        执行非递归命令\n",
    "    else:\n",
    "        执行递归命令"
   ]
  },
  {
   "cell_type": "markdown",
   "id": "e71b5654",
   "metadata": {},
   "source": [
    "#### 15.3 基础案例\n",
    "实际上我们可以用循环语句来编写下面的案例，但是这也是一个练习使用递归的好机会～"
   ]
  },
  {
   "cell_type": "markdown",
   "id": "adbac776",
   "metadata": {},
   "source": [
    "#### listSum"
   ]
  },
  {
   "cell_type": "code",
   "execution_count": null,
   "id": "cbb58901",
   "metadata": {},
   "outputs": [],
   "source": [
    "# 问题：将给定列表中的所有数字求和\n",
    "def listSum(L):\n",
    "    # 基准条件：列表为空的时候求和为0\n",
    "    if (len(L) == 0):\n",
    "        return 0\n",
    "    else:\n",
    "        # 递归条件：嘉定我们已经知道了第一个数字后整个列表的求和值，把第一个数加到该总和值上\n",
    "\n",
    "        return L[0] + listSum(L[1:])\n",
    "\n",
    "print(listSum([2,3,5,7,11])) # 28"
   ]
  },
  {
   "cell_type": "markdown",
   "id": "caf559a5",
   "metadata": {},
   "source": [
    "#### 列表秋和"
   ]
  },
  {
   "cell_type": "code",
   "execution_count": null,
   "id": "36ec5cdf",
   "metadata": {},
   "outputs": [],
   "source": [
    "# Problem: sum all of the numbers from lo to hi, inclusive\n",
    "def rangeSum(lo, hi):\n",
    "    if (lo > hi):\n",
    "        return 0\n",
    "    else:\n",
    "        return lo + rangeSum(lo+1, hi)\n",
    "\n",
    "print(rangeSum(10,15)) # 75"
   ]
  },
  {
   "cell_type": "markdown",
   "id": "9721e2c3",
   "metadata": {},
   "source": [
    "#### n次幂计算"
   ]
  },
  {
   "cell_type": "code",
   "execution_count": null,
   "id": "03045ff5",
   "metadata": {},
   "outputs": [],
   "source": [
    "# 问题：计算基数给定次幂的值\n",
    "def power(base, expt):\n",
    "    # 假设幂的值为非负整数\n",
    "    if (expt == 0):\n",
    "        return 1\n",
    "    else:\n",
    "        return base * power(base, expt-1)\n",
    "\n",
    "print(power(2,5)) # 32"
   ]
  },
  {
   "cell_type": "markdown",
   "id": "e6866b72",
   "metadata": {},
   "source": [
    "#### 15.4 多重基准/递归条件\n",
    "有时，我们在解决问题时需要包含多个基准或递归条件。\n",
    "#### power"
   ]
  },
  {
   "cell_type": "code",
   "execution_count": null,
   "id": "36b3eea0",
   "metadata": {},
   "outputs": [],
   "source": [
    "def power(base, expt):\n",
    "    # 这个版本允许次数为负\n",
    "    # 但是次数仍然应该是整数\n",
    "    if (expt == 0):\n",
    "        return 1\n",
    "    elif (expt < 0): # 新的递归条件！\n",
    "        return 1.0 / power(base, abs(expt))\n",
    "    else:\n",
    "        return base * power(base, expt-1)\n",
    "\n",
    "print(power(2,5)) # 32\n",
    "print(power(2,-5)) # 1/32 = 0.03125"
   ]
  },
  {
   "cell_type": "markdown",
   "id": "343ef05a",
   "metadata": {},
   "source": [
    "#### 插值"
   ]
  },
  {
   "cell_type": "code",
   "execution_count": null,
   "id": "a35e6fcf",
   "metadata": {},
   "outputs": [],
   "source": [
    "def interleave(list1, list2):\n",
    "    # 允许互相插值的两个列表长度不一\n",
    "    if (len(list1) == 0):\n",
    "        return list2\n",
    "    elif (len(list2) == 0): # 新的基准条件!\n",
    "        return list1\n",
    "    else:\n",
    "        return [list1[0] , list2[0]] + interleave(list1[1:], list2[1:])\n",
    "\n",
    "print(interleave([1,2],[3,4,5,6])) # [1,3,2,4,5,6]"
   ]
  },
  {
   "cell_type": "markdown",
   "id": "e3542711",
   "metadata": {},
   "source": [
    "#### 15.5 递归的实用编程\n",
    "#### 无限递归和堆栈溢出\n",
    "正如我们可以编写无限循环一样，我们也可以编写无限递归函数，这会导致堆栈溢出，产生 RecursionError。"
   ]
  },
  {
   "cell_type": "code",
   "execution_count": null,
   "id": "32b64730",
   "metadata": {},
   "outputs": [],
   "source": [
    "def sumToN(n):\n",
    "    if n == 0:\n",
    "        return 0\n",
    "    else:\n",
    "        return n + sumToN(n-1)\n",
    "\n",
    "print(sumToN(3))  # 6 (正常运行!)\n",
    "print(sumToN(-3)) # 递归错误：超出最大递归深度..."
   ]
  },
  {
   "cell_type": "markdown",
   "id": "499b1182",
   "metadata": {},
   "source": [
    "#### 递归调试\n",
    "调试递归代码可能很棘手，因为我们不仅要知道我们在哪个函数中，还要知道对该函数的哪个特定调用（因为它重复调用自身）！我们可以通过使用可选参数跟踪递归深度，然后根据该深度调整输出来简化它。"
   ]
  },
  {
   "cell_type": "code",
   "execution_count": null,
   "id": "56ed5b8b",
   "metadata": {},
   "outputs": [],
   "source": [
    "def rangeSum(lo, hi, depth=0):\n",
    "    print(\"   \" * depth + \"rangeSum(\" + str(lo) + \", \" + str(hi) + \")\")\n",
    "    if depth == 10:\n",
    "        input(\"暂停 (轻按回车来继续)\")\n",
    "    if (lo > hi):\n",
    "        result = 0\n",
    "    else:\n",
    "        result = lo + rangeSum(lo + 1, hi, depth + 1)\n",
    "    print(\"   \" * depth + \"-->\", result)\n",
    "    return result\n",
    "\n",
    "print(rangeSum(10, 30))"
   ]
  },
  {
   "cell_type": "markdown",
   "id": "29bc1d88",
   "metadata": {},
   "source": [
    "#### 包装函数\n",
    "有时我们想写一个带有某些参数的函数，但在递归调用中使用不同的参数会很有帮助。我们可以通过围绕核心递归函数编写一个包装函数来做到这一点。包装器可以在入路时设置附加参数，也可以在出路时解析并可能修改递归结果。包装函数本身不是递归的，但它调用的函数是！"
   ]
  },
  {
   "cell_type": "code",
   "execution_count": null,
   "id": "b4518556",
   "metadata": {},
   "outputs": [],
   "source": [
    "# 这次使用一个包装函数来追踪到目前为止的总和。\n",
    "def rangeSum(lo, hi):\n",
    "    return rangeSumHelper(lo, hi, 0)\n",
    "\n",
    "def rangeSumHelper(lo, hi, sumSoFar):\n",
    "    if (lo > hi):\n",
    "        return sumSoFar\n",
    "    else:\n",
    "        return rangeSumHelper(lo+1, hi, lo+sumSoFar)\n",
    "\n",
    "print(rangeSum(10,15)) # 75"
   ]
  },
  {
   "cell_type": "markdown",
   "id": "8ba0672c",
   "metadata": {},
   "source": [
    "#### 默认参数值\n",
    "#### 在递归中使用默认参数值\n",
    "正如我们刚刚看到的，我们可以使用包装函数来有效地添加递归所需但未包含在顶级调用中的参数。另一种做同样基本事情的方法是使用默认值。例如，这是使用默认参数递归编写 rangeSum 的一种方法："
   ]
  },
  {
   "cell_type": "code",
   "execution_count": null,
   "id": "500acf3f",
   "metadata": {},
   "outputs": [],
   "source": [
    "# 现在试试看使用默认值而不是包装函数\n",
    "def rangeSum(lo, hi, sumSoFar=0):\n",
    "    if (lo > hi):\n",
    "        return sumSoFar\n",
    "    else:\n",
    "        return rangeSum(lo+1, hi, lo+sumSoFar)\n",
    "\n",
    "print(rangeSum(10,15)) # 75"
   ]
  },
  {
   "cell_type": "markdown",
   "id": "faedfbfa",
   "metadata": {},
   "source": [
    "#### 不要使用可变的值作为默认参数值 (不管是在递归中还是其他地方)\n",
    "Python 只创建一次默认值，并在每次调用时重用这些值。如果你改变这些值，你会得到意想不到的结果，它可以正常工作一次，然后就不行了。例如，这是递归反转列表的典型方法："
   ]
  },
  {
   "cell_type": "code",
   "execution_count": null,
   "id": "1eec8626",
   "metadata": {},
   "outputs": [],
   "source": [
    "# 这是一种典型的、干净的方式，没有包装函数或默认值：\n",
    "def reverseList(L):\n",
    "    if (L == [ ]):\n",
    "        return [ ]\n",
    "    else:\n",
    "        return reverseList(L[1:]) + [L[0]]\n",
    "\n",
    "print(reverseList([2,3,4])) # [4, 3, 2] (正常运行!)\n",
    "print(reverseList([5,6,7])) # [7, 6, 5] (坏了!)"
   ]
  },
  {
   "cell_type": "markdown",
   "id": "b0260e25",
   "metadata": {},
   "source": [
    "再次，以我们刚刚在上面的 rangeSum 中所做的类似方式使用默认值："
   ]
  },
  {
   "cell_type": "code",
   "execution_count": null,
   "id": "9ed5047d",
   "metadata": {},
   "outputs": [],
   "source": [
    "# 警告：这些代码将会运行错误，因为它使用了一个可变的默认值\n",
    "def reverseList(L, reversedSoFar=[]):\n",
    "    if (L == [ ]):\n",
    "        return reversedSoFar\n",
    "    else:\n",
    "        reversedSoFar.insert(0, L[0])\n",
    "        return reverseList(L[1:], reversedSoFar)\n",
    "\n",
    "print(reverseList([2,3,4])) # [4, 3, 2] (第一次成功运行了!)\n",
    "print(reverseList([5,6,7])) # [7, 6, 5, 4, 3, 2] <-- 出错啦!!!"
   ]
  },
  {
   "cell_type": "markdown",
   "id": "89fae842",
   "metadata": {},
   "source": [
    "#### 想办法用没有默认值的方法解决\n",
    "我们有几个不错的选择：\n",
    "#### 不要改变默认值"
   ]
  },
  {
   "cell_type": "code",
   "execution_count": null,
   "id": "2d0230e3",
   "metadata": {},
   "outputs": [],
   "source": [
    "# 修正方案 #1: 不要改变它就好了!\n",
    "def reverseList(L, reversedSoFar=[]):\n",
    "    if (L == [ ]):\n",
    "        return reversedSoFar\n",
    "    else:\n",
    "        # reversedSoFar.insert(0, L[0])\n",
    "        reversedSoFar = [L[0]] + reversedSoFar # 这是非破坏性方法!\n",
    "        return reverseList(L[1:], reversedSoFar)\n",
    "\n",
    "print(reverseList([2,3,4])) # [4, 3, 2] (正常运行了!)\n",
    "print(reverseList([5,6,7])) # [7, 6, 5] (第二次也正常运行!)"
   ]
  },
  {
   "cell_type": "markdown",
   "id": "86c23499",
   "metadata": {},
   "source": [
    "#### 使用None作为默认参数值"
   ]
  },
  {
   "cell_type": "code",
   "execution_count": null,
   "id": "b40df976",
   "metadata": {},
   "outputs": [],
   "source": [
    "# 修正方案 #2: 使用None而不是 []，并且在开始时创建新列表\n",
    "def reverseList(L, reversedSoFar=None):\n",
    "    if (reversedSoFar == None):\n",
    "        reversedSoFar = [ ] # 这行代码在每次运行时都创建了一个新列表!\n",
    "    if (L == [ ]):\n",
    "        return reversedSoFar\n",
    "    else:\n",
    "        reversedSoFar.insert(0, L[0])\n",
    "        return reverseList(L[1:], reversedSoFar)\n",
    "\n",
    "print(reverseList([2,3,4])) # [4, 3, 2] (正常运行了!)\n",
    "print(reverseList([5,6,7])) # [7, 6, 5] (再次运行成功!)"
   ]
  },
  {
   "cell_type": "markdown",
   "id": "e74c5719",
   "metadata": {},
   "source": [
    "#### 使用一个包装函数"
   ]
  },
  {
   "cell_type": "code",
   "execution_count": null,
   "id": "1d108e53",
   "metadata": {},
   "outputs": [],
   "source": [
    "# 修正方案 #3: 使用包装函数而不是默认参数值\n",
    "def reverseList(L):\n",
    "    return reverseListHelper(L, [ ])\n",
    "\n",
    "def reverseListHelper(L, reversedSoFar):\n",
    "    if (L == [ ]):\n",
    "        return reversedSoFar\n",
    "    else:\n",
    "        reversedSoFar.insert(0, L[0])\n",
    "        return reverseListHelper(L[1:], reversedSoFar)\n",
    "\n",
    "print(reverseList([2,3,4])) # [4, 3, 2] (正常运行了!)\n",
    "print(reverseList([5,6,7])) # [7, 6, 5] (再次运行成功!)"
   ]
  },
  {
   "cell_type": "markdown",
   "id": "fd5bd11a",
   "metadata": {},
   "source": [
    "#### 使用不需要默认值的方法"
   ]
  },
  {
   "cell_type": "markdown",
   "id": "e044a5a3",
   "metadata": {},
   "source": [
    "在上面的每个示例中，我们从一个不使用默认值的递归函数开始。在可能的情况下，以这种方式编写函数会更容易、更清晰。当不清楚如何做到这一点时，请使用包装函数或至少使用 None 作为可变类型的默认值。"
   ]
  },
  {
   "cell_type": "markdown",
   "id": "36a43f94",
   "metadata": {},
   "source": [
    "#### 多次递归调用\n",
    "当我们在递归情况下进行多次递归调用时，递归可能是最强大的。这通常可以让我们解决用循环无法轻松解决的问题。您可以将这种方法视为分而治之。为了解决一个问题，我们将它分解成更小的部分，解决每个部分，然后组合解决方案以获得最终答案。\n",
    "列表总和"
   ]
  },
  {
   "cell_type": "code",
   "execution_count": null,
   "id": "caa2a2e9",
   "metadata": {},
   "outputs": [],
   "source": [
    "# 从技术上讲，我们在这里不需要多次递归调用，但这是一个很好的简单示例。\n",
    "# 通过将列表分成两半来对列表求和，然后对每一半求和。\n",
    "def listSum(L):\n",
    "    if (len(L) == 0):\n",
    "        return 0\n",
    "    elif (len(L) == 1):\n",
    "        return L[0]\n",
    "    else:\n",
    "        mid = len(L)//2\n",
    "        return listSum(L[:mid]) + listSum(L[mid:])\n",
    "\n",
    "print(listSum([2,3,5,7,11])) # 28"
   ]
  },
  {
   "cell_type": "markdown",
   "id": "5271e133",
   "metadata": {},
   "source": [
    "#### 斐波那契数列"
   ]
  },
  {
   "cell_type": "code",
   "execution_count": null,
   "id": "50f4dbea",
   "metadata": {},
   "outputs": [],
   "source": [
    "# 在斐波那契数列中，每个元素都是它之前的两个元素之和。这很好地转化为递归代码！\n",
    "def fib(n):\n",
    "    if (n < 2):\n",
    "        return 1 # 注意: fib(0) 和 fib(1) 都是 1\n",
    "    else:\n",
    "        return fib(n-1) + fib(n-2)\n",
    "\n",
    "print([fib(n) for n in range(15)])"
   ]
  },
  {
   "cell_type": "markdown",
   "id": "7d6a1f4d",
   "metadata": {},
   "source": [
    "#### 汉诺塔 "
   ]
  },
  {
   "cell_type": "markdown",
   "id": "d0140af1",
   "metadata": {},
   "source": [
    "#### 第一次尝试 (不使用Python):"
   ]
  },
  {
   "cell_type": "code",
   "execution_count": null,
   "id": "05910c6d",
   "metadata": {},
   "outputs": [],
   "source": [
    "# 这是解决汉诺塔问题的方案 (不需要借助一些魔法来实现qwq!)\n",
    "magically move(n-1, source, temp, target)\n",
    "          move(  1, source, target, temp)\n",
    "magically move(n-1, temp, target, source)"
   ]
  },
  {
   "cell_type": "markdown",
   "id": "dbd1c773",
   "metadata": {},
   "source": [
    "#### 转译为Python语句 (刚刚说到的魔法就是递归!):"
   ]
  },
  {
   "cell_type": "code",
   "execution_count": null,
   "id": "c12ce6e5",
   "metadata": {},
   "outputs": [],
   "source": [
    "def move(n, source, target, temp):\n",
    "    move(n-1, source, temp, target)\n",
    "    move(  1, source, target, temp)\n",
    "    move(n-1, temp, target, source)\n",
    "\n",
    "move(2, 0, 1, 2) # 并不会运行，因为这是一个无限递归"
   ]
  },
  {
   "cell_type": "markdown",
   "id": "f937b2d9",
   "metadata": {},
   "source": [
    "#### 带上基准条件再来一次:"
   ]
  },
  {
   "cell_type": "code",
   "execution_count": null,
   "id": "5e4e3a62",
   "metadata": {},
   "outputs": [],
   "source": [
    "def move(n, source, target, temp):\n",
    "    if (n == 1):\n",
    "        print((source, target), end=\"\")\n",
    "    else:\n",
    "        move(n-1, source, temp, target)\n",
    "        move(  1, source, target, temp)\n",
    "        move(n-1, temp, target, source)\n",
    "\n",
    "move(2, 0, 1, 2)"
   ]
  },
  {
   "cell_type": "markdown",
   "id": "cefb52dc",
   "metadata": {},
   "source": [
    "#### 再次，带上一个漂亮的包装函数："
   ]
  },
  {
   "cell_type": "code",
   "execution_count": null,
   "id": "2d644840",
   "metadata": {},
   "outputs": [],
   "source": [
    "def move(n, source, target, temp):\n",
    "    if (n == 1):\n",
    "        print((source, target), end=\"\")\n",
    "    else:\n",
    "        move(n-1, source, temp, target)\n",
    "        move(  1, source, target, temp)\n",
    "        move(n-1, temp, target, source)\n",
    "\n",
    "def hanoi(n):\n",
    "    print(\"解决n层的汉诺塔问题：\", n)\n",
    "    move(n, 0, 1, 2)\n",
    "    print()\n",
    "\n",
    "hanoi(4)"
   ]
  },
  {
   "cell_type": "markdown",
   "id": "e53c4966",
   "metadata": {},
   "source": [
    "#### 再来一次，打印出调用栈以及递归深度:"
   ]
  },
  {
   "cell_type": "code",
   "execution_count": null,
   "id": "2cd02686",
   "metadata": {},
   "outputs": [],
   "source": [
    "def move(n, source, target, temp, depth=0):\n",
    "    print((\" \" * 3 * depth), \"将\", n,\n",
    "          \"号环从\", source,\"经过\", temp, \"移动到\", target)\n",
    "    if (n == 1):\n",
    "        print((\" \" * 3 * depth), (source, target))\n",
    "    else:\n",
    "        move(n-1, source, temp, target, depth+1)\n",
    "        move(  1, source, target, temp, depth+1)\n",
    "        move(n-1, temp, target, source, depth+1)\n",
    "\n",
    "def hanoi(n):\n",
    "    print(\"解决n层的汉诺塔问题：\", n)\n",
    "    move(n, 0, 1, 2)\n",
    "    print()\n",
    "hanoi(4)"
   ]
  },
  {
   "cell_type": "markdown",
   "id": "8d8bdd4e",
   "metadata": {},
   "source": [
    "#### 使用迭代的方式（循环）来解决汉诺塔问题 (只是试试看是否能够实现):"
   ]
  },
  {
   "cell_type": "code",
   "execution_count": null,
   "id": "15368fa3",
   "metadata": {},
   "outputs": [],
   "source": [
    "def iterativeHanoi(n):\n",
    "    def f(k): return (k%3) if (n%2==0) else (-k%3)\n",
    "    return [(f(move & (move-1)),\n",
    "             f((move|(move-1))+1)) for move in range(1,1 << n)]\n",
    "\n",
    "def recursiveHanoi(n, source=0, target=1, temp=2):\n",
    "    if (n == 1):\n",
    "        return [(source, target)]\n",
    "    else:\n",
    "        return (recursiveHanoi(n-1, source, temp, target) +\n",
    "                recursiveHanoi(  1, source, target, temp) +\n",
    "                recursiveHanoi(n-1, temp, target, source))\n",
    "\n",
    "def compareIterativeAndRecursiveHanoi():\n",
    "    for n in range(1,10):\n",
    "        assert(iterativeHanoi(n) == recursiveHanoi(n))\n",
    "    print(\"迭代和递归的方式得到了完全相同的结果!\")\n",
    "\n",
    "compareIterativeAndRecursiveHanoi()"
   ]
  },
  {
   "cell_type": "markdown",
   "id": "0d429542",
   "metadata": {},
   "source": [
    "#### 合并排序"
   ]
  },
  {
   "cell_type": "code",
   "execution_count": null,
   "id": "6746724d",
   "metadata": {},
   "outputs": [],
   "source": [
    "def merge(A, B):\n",
    "    # 很棒，但是对于大数量排序时效率低下\n",
    "    if ((len(A) == 0) or (len(B) == 0)):\n",
    "        return A+B\n",
    "    else:\n",
    "        if (A[0] < B[0]):\n",
    "            return [A[0]] + merge(A[1:], B)\n",
    "        else:\n",
    "            return [B[0]] + merge(A, B[1:])\n",
    "\n",
    "def merge(A, B):\n",
    "    # 使用了迭代的方式并且是破坏性的，然而非常实用...\n",
    "    C = [ ]\n",
    "    i = j = 0\n",
    "    while ((i < len(A)) or (j < len(B))):\n",
    "        if ((j == len(B)) or ((i < len(A)) and (A[i] <= B[j]))):\n",
    "            C.append(A[i])\n",
    "            i += 1\n",
    "        else:\n",
    "            C.append(B[j])\n",
    "            j += 1\n",
    "    return C\n",
    "\n",
    "def mergeSort(L):\n",
    "    if (len(L) < 2):\n",
    "        return L\n",
    "    else:\n",
    "        # 没必要使用复杂的循环，直接合并排序每一半，然后合并！\n",
    "        mid = len(L)//2\n",
    "        left = mergeSort(L[:mid])\n",
    "        right = mergeSort(L[mid:])\n",
    "        return merge(left, right)\n",
    "\n",
    "print(mergeSort([1,5,3,4,2,0]))"
   ]
  },
  {
   "cell_type": "markdown",
   "id": "4e575b7f",
   "metadata": {},
   "source": [
    "#### 快速排序 (选学)"
   ]
  },
  {
   "cell_type": "code",
   "execution_count": null,
   "id": "866c3e3f",
   "metadata": {},
   "outputs": [],
   "source": [
    "# 在快速排序中，选择要围绕的元素，将所有元素组织到该元素的左侧和右侧，然后对每一侧进行快速排序。\n",
    "def quickSort(L):\n",
    "    if (len(L) < 2):\n",
    "        return L\n",
    "    else:\n",
    "        first = L[0]  # 需要围绕的元素\n",
    "        rest = L[1:]\n",
    "        lo = [x for x in rest if x < first]\n",
    "        hi = [x for x in rest if x >= first]\n",
    "        return quickSort(lo) + [first] + quickSort(hi)\n",
    "\n",
    "print(quickSort([1,5,3,4,2,0]))"
   ]
  }
 ],
 "metadata": {
  "kernelspec": {
   "display_name": "Python 3 (ipykernel)",
   "language": "python",
   "name": "python3"
  },
  "language_info": {
   "codemirror_mode": {
    "name": "ipython",
    "version": 3
   },
   "file_extension": ".py",
   "mimetype": "text/x-python",
   "name": "python",
   "nbconvert_exporter": "python",
   "pygments_lexer": "ipython3",
   "version": "3.7.11"
  }
 },
 "nbformat": 4,
 "nbformat_minor": 5
}
