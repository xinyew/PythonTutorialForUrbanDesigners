{
 "cells": [
  {
   "cell_type": "code",
   "execution_count": null,
   "id": "44a005af",
   "metadata": {},
   "outputs": [],
   "source": [
    "import pandas as pd\n",
    "import requests\n",
    "import folium"
   ]
  },
  {
   "cell_type": "code",
   "execution_count": null,
   "id": "2d42f67f",
   "metadata": {
    "scrolled": true
   },
   "outputs": [],
   "source": [
    "#\n",
    "# ---------- USAGE01: CHANGE THE FILE NAME TO YOUR TABLE OF CIRCLe ARRAYS ---------- #\n",
    "#\n",
    "dataframe = pd.read_csv(\"19 array.csv\", delimiter=\",\", quotechar='\"', low_memory = False)\n",
    "arrayX = dataframe.loc[:,'X'].to_list()\n",
    "arrayY = dataframe.loc[:,'Y'].to_list()\n",
    "index = []\n",
    "\n",
    "arrayX = arrayX[:100]\n",
    "arrayY = arrayY[:100]\n",
    "\n",
    "for i in range(len(arrayX)):\n",
    "    index.append(i) \n",
    "    \n",
    "data = {'ArrayPoints':  index,\n",
    "        'Latitude': arrayY,\n",
    "        'Longitude': arrayX\n",
    "       }\n",
    "\n",
    "dataFrameArraypoints = pd.DataFrame (data, columns = ['ArrayPoints','Latitude', 'Longitude'])\n",
    "\n",
    "dataFrameArraypoints"
   ]
  },
  {
   "cell_type": "code",
   "execution_count": null,
   "id": "16e1f724",
   "metadata": {
    "scrolled": true
   },
   "outputs": [],
   "source": [
    "latitude = arrayY[len(index)//2]\n",
    "longitude = arrayX[len(index)//2]\n",
    "\n",
    "siteMap = folium.Map(location=[latitude, longitude], zoom_start=12)\n",
    "\n",
    "# add markers to map\n",
    "for arrayPoint, lat, lng in zip(dataFrameArraypoints['ArrayPoints'], dataFrameArraypoints['Latitude'], dataFrameArraypoints['Longitude']):\n",
    "    label = '{}'.format(arrayPoint)\n",
    "    label = folium.Popup(label, parse_html=True)\n",
    "    folium.CircleMarker(\n",
    "        [lat, lng],\n",
    "        radius=12,\n",
    "        popup=label,\n",
    "        color='blue',\n",
    "        weight = 1,\n",
    "        fill=False,\n",
    "        parse_html=False).add_to(siteMap)  \n",
    "    \n",
    "siteMap"
   ]
  },
  {
   "cell_type": "code",
   "execution_count": null,
   "id": "b0acc9a9",
   "metadata": {},
   "outputs": [],
   "source": [
    "'''\n",
    "CLIENT_ID = 'CLD5CJUF3UV03402SETYZVT02XIYSRNGBMARVJTVL0YJTNUE'\n",
    "CLIENT_SECRET = '5ATR5J2E03KON35DMUJR232EIEJHABTOIKMRJX0UMVE151GO'\n",
    "\n",
    "CLIENT_ID = '2DZ5T5QG3OHUSSZJXIAKIWWZPLPKCIDO0XNLJPRG0P1AFBMK'\n",
    "CLIENT_SECRET = 'QOC3KB53D2L0Q0DJIHFQ0B5Q3IIBPTEZ4V1HM2JGTFVKQFYQ'\n",
    "\n",
    "CLIENT_ID = 'UGNGW0MIPBYHMTHEMBIP55ZM0GV5ZHZKHSYW1D2T3VTKFZ52'\n",
    "CLIENT_SECRET = '25RONEWXRIVLWLRHK5ZFQUPPM14MTPTHTCUGY4TMGXXOIDR1'\n",
    "\n",
    "CLIENT_ID = 'FZKUZ1SLCH0VBSEFRDDDMFJOSD0FKXNNDV0ZQAEVIJ2ZUGFG'\n",
    "CLIENT_SECRET = 'NS1KJFMYY1R5KM3DJCW5GOAJTEIBCBYRWZT4VIQMWGP2HJL2'\n",
    "\n",
    "'''\n",
    "\n",
    "# go to developer.foursquare.com and create a free account\n",
    "\n",
    "#\n",
    "# ---------- USAGE03: CHANGE TO NEW PAIRS OF ID AND SECRET WHEN CURRENT ONE IS EXHAUSTED ---------- #\n",
    "#\n",
    "CLIENT_ID = 'CLD5CJUF3UV03402SETYZVT02XIYSRNGBMARVJTVL0YJTNUE'\n",
    "CLIENT_SECRET = '5ATR5J2E03KON35DMUJR232EIEJHABTOIKMRJX0UMVE151GO'\n",
    "VERSION = 20220125\n",
    "#defaul radius = 210\n",
    "radius = 470\n",
    "LIMIT = 500\n",
    "\n",
    "#\n",
    "# ---------- USAGE02: CHANGE THE CATEGORY ID TO YOUR PREFERRED ONE ---------- #\n",
    "#\n",
    "categoryId = '4d4b7105d754a06374d81259'"
   ]
  },
  {
   "cell_type": "code",
   "execution_count": null,
   "id": "62e91207",
   "metadata": {},
   "outputs": [],
   "source": [
    "def getPointsOfInterest(names, latitudes, longitudes):\n",
    "    \n",
    "    PoisList=[]\n",
    "    for name, lat, lng in zip(names, latitudes, longitudes):\n",
    "        print(name)\n",
    "            \n",
    "# Part 1: creating the API request URL\n",
    "        url = 'https://api.foursquare.com/v2/venues/explore?&client_id={}&client_secret={}&v={}&ll={},{}&radius={}&limit={}&categoryId={}'.format(\n",
    "            CLIENT_ID, \n",
    "            CLIENT_SECRET, \n",
    "            VERSION, \n",
    "            lat, \n",
    "            lng, \n",
    "            radius, \n",
    "            LIMIT,\n",
    "            categoryId)\n",
    "            \n",
    "# Part 2: making the GET request\n",
    "        results = requests.get(url).json()[\"response\"]['groups'][0]['items']\n",
    "    \n",
    "    \n",
    "    \n",
    "        \n",
    "# Part 3 returning only relevant information for each nearby venue and append to the list \n",
    "        PoisList.append([(\n",
    "            name, \n",
    "            lat, \n",
    "            lng,\n",
    "            v['venue']['name'], \n",
    "            v['venue']['location']['lat'], \n",
    "            v['venue']['location']['lng'],\n",
    "            v['venue']['categories'][0]['name']) for v in results])\n",
    "        \n",
    "    return (PoisList)"
   ]
  },
  {
   "cell_type": "code",
   "execution_count": null,
   "id": "9a8121bb",
   "metadata": {
    "scrolled": true
   },
   "outputs": [],
   "source": [
    "PoisList = getPointsOfInterest(names = dataFrameArraypoints['ArrayPoints'],\n",
    "                              latitudes = dataFrameArraypoints['Latitude'],\n",
    "                            longitudes = dataFrameArraypoints['Longitude'])"
   ]
  },
  {
   "cell_type": "code",
   "execution_count": null,
   "id": "6117954f",
   "metadata": {},
   "outputs": [],
   "source": [
    "PoisList"
   ]
  },
  {
   "cell_type": "code",
   "execution_count": null,
   "id": "26d88265",
   "metadata": {
    "scrolled": true
   },
   "outputs": [],
   "source": [
    "Pois = pd.DataFrame([item for Poi in PoisList for item in Poi])\n",
    "Pois.columns = ['ArrayPoint', \n",
    "                  'ArrayPoint Latitude', \n",
    "                  'ArrayPoint Longitude', \n",
    "                  'Poi', \n",
    "                  'Poi Latitude', \n",
    "                  'Poi Longitude', \n",
    "                  'Poi Category']\n",
    "\n",
    "dataFramePois = Pois.sort_values('Poi')\n",
    "dataFramePois"
   ]
  },
  {
   "cell_type": "code",
   "execution_count": null,
   "id": "9c9771f9",
   "metadata": {},
   "outputs": [],
   "source": [
    "dataFramePois = dataFramePois.drop(columns=['ArrayPoint','ArrayPoint Latitude','ArrayPoint Longitude'])\n",
    "dataFramePois = dataFramePois.drop_duplicates(keep = 'last')\n",
    "dataFramePois.sort_values('Poi')\n",
    "dataFramePois"
   ]
  },
  {
   "cell_type": "code",
   "execution_count": null,
   "id": "532ce4cf",
   "metadata": {},
   "outputs": [],
   "source": [
    "#\n",
    "# ---------- USAGE04: CHANGE THE FILE NAME TO YOUR PREFERRED EXPORT NAME ---------- #\n",
    "#\n",
    "dataFramePois.to_csv('LLB_shop.csv')"
   ]
  },
  {
   "cell_type": "code",
   "execution_count": null,
   "id": "bb3bef25",
   "metadata": {},
   "outputs": [],
   "source": [
    "'''\n",
    "https://developer.foursquare.com/docs/build-with-foursquare/categories/\n",
    "\n",
    "ArtsEntertainment\n",
    "4d4b7104d754a06370d81259\n",
    "\n",
    "CollegeUniversity\n",
    "4d4b7105d754a06372d81259\n",
    "\n",
    "**Event(not necessary in urban research)\n",
    "4d4b7105d754a06373d81259\n",
    "\n",
    "Food\n",
    "4d4b7105d754a06374d81259\n",
    "\n",
    "NightlifeSpot\n",
    "4d4b7105d754a06376d81259\n",
    "\n",
    "OutdoorsRecreation\n",
    "4d4b7105d754a06377d81259\n",
    "\n",
    "ProfessionalOtherPlaces\n",
    "4d4b7105d754a06375d81259\n",
    "\n",
    "Residence\n",
    "4e67e38e036454776db1fb3a\n",
    "\n",
    "ShopService\n",
    "4d4b7105d754a06378d81259\n",
    "\n",
    "TravelTransport\n",
    "4d4b7105d754a06379d81259\n",
    "'''"
   ]
  },
  {
   "cell_type": "code",
   "execution_count": null,
   "id": "5ec0ec4d",
   "metadata": {},
   "outputs": [],
   "source": []
  }
 ],
 "metadata": {
  "kernelspec": {
   "display_name": "Python 3",
   "language": "python",
   "name": "python3"
  },
  "language_info": {
   "codemirror_mode": {
    "name": "ipython",
    "version": 3
   },
   "file_extension": ".py",
   "mimetype": "text/x-python",
   "name": "python",
   "nbconvert_exporter": "python",
   "pygments_lexer": "ipython3",
   "version": "3.8.10"
  }
 },
 "nbformat": 4,
 "nbformat_minor": 5
}