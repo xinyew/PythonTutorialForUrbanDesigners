{
 "cells": [
  {
   "cell_type": "markdown",
   "id": "a7778c27",
   "metadata": {},
   "source": [
    "# 城市设计分析技术Python自学教程04\n",
    "\n",
    "### 循环语句\n",
    "\n",
    "##### [计算城市设计实验室(Computational Urban Design Lab)](https://www.tjcud.cn/)"
   ]
  },
  {
   "cell_type": "markdown",
   "id": "a121309f",
   "metadata": {},
   "source": [
    "#### 4.1 for 循环和范围"
   ]
  },
  {
   "cell_type": "code",
   "execution_count": null,
   "id": "15152a35",
   "metadata": {},
   "outputs": [],
   "source": [
    "# for循环会重复执行指定次数的某些操作\n",
    "\n",
    "def sumFromMToN(m, n):\n",
    "    total = 0\n",
    "    # 注意 range(x, y) 从x开始，在y-1结束\n",
    "    for x in range(m, n+1):\n",
    "        total += x\n",
    "    return total\n",
    "\n",
    "print(sumFromMToN(5, 10) == 5+6+7+8+9+10)"
   ]
  },
  {
   "cell_type": "markdown",
   "id": "392da6e6",
   "metadata": {},
   "source": [
    "#### 实际上，我们并不需要在这里用到循环"
   ]
  },
  {
   "cell_type": "code",
   "execution_count": null,
   "id": "44fabcee",
   "metadata": {},
   "outputs": [],
   "source": [
    "def sumFromMToN(m, n):\n",
    "    return sum(range(m, n+1))\n",
    "\n",
    "print(sumFromMToN(5, 10) == 5+6+7+8+9+10)\n",
    "\n",
    "# 我们甚至可以在一个大括号里完成这个操作，\n",
    "# 这是最快的方式，但实际上不利于帮助我们演示循环的具体用法。 :-)\n",
    "\n",
    "def sumToN(n):\n",
    "    # 辅助函数\n",
    "    return n*(n+1)//2\n",
    "\n",
    "def sumFromMToN_byFormula(m, n):\n",
    "    return (sumToN(n) - sumToN(m-1))\n",
    "\n",
    "print(sumFromMToN_byFormula(5, 10) == 5+6+7+8+9+10)"
   ]
  },
  {
   "cell_type": "markdown",
   "id": "f1305277",
   "metadata": {},
   "source": [
    "#### 如果省略掉第一个参数会怎样？"
   ]
  },
  {
   "cell_type": "code",
   "execution_count": null,
   "id": "4ce1e5e9",
   "metadata": {},
   "outputs": [],
   "source": [
    "def sumToN(n):\n",
    "    total = 0\n",
    "    # range预设的开始值为0\n",
    "    for x in range(n+1):\n",
    "        total += x\n",
    "    return total\n",
    "\n",
    "print(sumToN(5) == 0+1+2+3+4+5)"
   ]
  },
  {
   "cell_type": "markdown",
   "id": "7bda81fd",
   "metadata": {},
   "source": [
    "#### 如果加上第三个参数呢？"
   ]
  },
  {
   "cell_type": "code",
   "execution_count": null,
   "id": "ddb48f7e",
   "metadata": {},
   "outputs": [],
   "source": [
    "def sumEveryKthFromMToN(m, n, k):\n",
    "    total = 0\n",
    "    # 第三个参数是间隔两数之间的差值，也即“步距”\n",
    "    for x in range(m, n+1, k):\n",
    "        total += x\n",
    "    return total\n",
    "\n",
    "print(sumEveryKthFromMToN(5, 20, 7) == (5 + 12 + 19))"
   ]
  },
  {
   "cell_type": "markdown",
   "id": "0368ca9f",
   "metadata": {},
   "source": [
    "#### 求从m到n所有奇数的和"
   ]
  },
  {
   "cell_type": "code",
   "execution_count": null,
   "id": "3e343bd4",
   "metadata": {},
   "outputs": [],
   "source": [
    "# 我们也可以在函数体内部改变步距的大小\n",
    "def sumOfOddsFromMToN(m, n):\n",
    "    total = 0\n",
    "    for x in range(m, n+1):\n",
    "        if (x % 2 == 1):\n",
    "            total += x\n",
    "    return total\n",
    "\n",
    "print(sumOfOddsFromMToN(4, 10) == sumOfOddsFromMToN(5,9) == (5+7+9))"
   ]
  },
  {
   "cell_type": "markdown",
   "id": "f8af5302",
   "metadata": {},
   "source": [
    "#### 反过来如何呢？"
   ]
  },
  {
   "cell_type": "code",
   "execution_count": null,
   "id": "d7d6f1fe",
   "metadata": {},
   "outputs": [],
   "source": [
    "# 我们也可以写从大到小的range（）\n",
    "# (其实这样写并没有什么好处，单纯作为一个演示)\n",
    "def sumOfOddsFromMToN(m, n):\n",
    "    total = 0\n",
    "    for x in range(n, m-1, -1):\n",
    "        if (x % 2 == 1):\n",
    "            total += x\n",
    "    return total\n",
    "\n",
    "print(sumOfOddsFromMToN(4, 10) == sumOfOddsFromMToN(5,9) == (5+7+9))"
   ]
  },
  {
   "cell_type": "markdown",
   "id": "90cae2d1",
   "metadata": {},
   "source": [
    "#### for循环的嵌套"
   ]
  },
  {
   "cell_type": "code",
   "execution_count": null,
   "id": "a20a498a",
   "metadata": {},
   "outputs": [],
   "source": [
    "# 我们也可以在循环体的内部插入下一级的循环体，来执行不同层级的循环任务\n",
    "# 比如说输出坐标\n",
    "def printCoordinates(xMax, yMax):\n",
    "    for x in range(xMax+1):\n",
    "        for y in range(yMax+1):\n",
    "            print('(', x, ',', y, ')  ', end='')\n",
    "        print()\n",
    "\n",
    "printCoordinates(4, 5)"
   ]
  },
  {
   "cell_type": "markdown",
   "id": "9be56d4f",
   "metadata": {},
   "source": [
    "#### 来些星星怎么样？"
   ]
  },
  {
   "cell_type": "code",
   "execution_count": null,
   "id": "f70378e5",
   "metadata": {},
   "outputs": [],
   "source": [
    "def printStarRectangle(n):\n",
    "    # 打印出n*n阵列的星星\n",
    "    for row in range(n):\n",
    "        for col in range(n):\n",
    "            print('*', end='')\n",
    "        print()\n",
    "\n",
    "printStarRectangle(5)"
   ]
  },
  {
   "cell_type": "markdown",
   "id": "526921dc",
   "metadata": {},
   "source": [
    "#### 再来一次："
   ]
  },
  {
   "cell_type": "code",
   "execution_count": null,
   "id": "ad135bf1",
   "metadata": {},
   "outputs": [],
   "source": [
    "# 这个函数在做什么？看仔细咯！\n",
    "\n",
    "def printMysteryStarShape(n):\n",
    "    for row in range(n):\n",
    "        print(row, end=' ')\n",
    "        for col in range(row):\n",
    "            print('*', end=' ')\n",
    "        print()\n",
    "\n",
    "printMysteryStarShape(5)"
   ]
  },
  {
   "cell_type": "markdown",
   "id": "60e97a16",
   "metadata": {},
   "source": [
    "#### while 循环"
   ]
  },
  {
   "cell_type": "code",
   "execution_count": null,
   "id": "1c93127e",
   "metadata": {},
   "outputs": [],
   "source": [
    "# use while loops when there is an indeterminate number of iterations\n",
    "\n",
    "def leftmostDigit(n):\n",
    "    n = abs(n)\n",
    "    while (n >= 10):\n",
    "        n = n//10\n",
    "    return n\n",
    "\n",
    "print(leftmostDigit(72658489290098) == 7)"
   ]
  },
  {
   "cell_type": "markdown",
   "id": "da9d4939",
   "metadata": {},
   "source": [
    "#### 例子：找寻具有某些特质的自然数"
   ]
  },
  {
   "cell_type": "code",
   "execution_count": null,
   "id": "076628a1",
   "metadata": {},
   "outputs": [],
   "source": [
    "# 举个例子：找出第n个4或者7的倍数\n",
    "\n",
    "def isMultipleOf4or7(x):\n",
    "    return ((x % 4) == 0) or ((x % 7) == 0)\n",
    "\n",
    "def nthMultipleOf4or7(n):\n",
    "    found = 0\n",
    "    guess = -1\n",
    "    while (found <= n):\n",
    "        guess += 1\n",
    "        if (isMultipleOf4or7(guess)):\n",
    "            found += 1\n",
    "    return guess\n",
    "\n",
    "print('4或7的倍数: ', end='')\n",
    "for n in range(15):\n",
    "    print(nthMultipleOf4or7(n), end=' ')\n",
    "print()"
   ]
  },
  {
   "cell_type": "markdown",
   "id": "f04b7c26",
   "metadata": {},
   "source": [
    "#### 错误用法：while语句的无限循环"
   ]
  },
  {
   "cell_type": "code",
   "execution_count": null,
   "id": "6668b128",
   "metadata": {},
   "outputs": [],
   "source": [
    "# 将1-10的整数求和\n",
    "# 注意： 此处可以正确运行，但是这里应该使用的是for循环\n",
    "\n",
    "def sumToN(n):\n",
    "    # 注意： 即使这个可以正常运行，但仍然算是差劲的代码.\n",
    "    # 下次记得用for循环\n",
    "    total = 0\n",
    "    counter = 1\n",
    "    while (counter <= n):\n",
    "        total += counter\n",
    "        counter += 1\n",
    "    return total\n",
    "\n",
    "print(sumToN(5) == 1+2+3+4+5)"
   ]
  },
  {
   "cell_type": "markdown",
   "id": "776e1784",
   "metadata": {},
   "source": [
    "#### break 和 continue"
   ]
  },
  {
   "cell_type": "code",
   "execution_count": null,
   "id": "066ff844",
   "metadata": {},
   "outputs": [],
   "source": [
    "# continue, break, 和 pass 是三种可以在循环中使用的关键字\n",
    "# 他们都可以改变循环体执行的结果\n",
    "\n",
    "for n in range(200):\n",
    "    if (n % 3 == 0):\n",
    "        continue # 跳过当前层级内此次的循环\n",
    "    elif (n == 8):\n",
    "        break # 结束接下来此层级的所有循环\n",
    "    else:\n",
    "        pass # 什么都不做，pass在这里就是一个占位置的符号，为了语法正确\n",
    "    print(n, end=' ')\n",
    "print()"
   ]
  },
  {
   "cell_type": "markdown",
   "id": "ce5a7ef7",
   "metadata": {},
   "source": [
    "#### 在无限while循环中使用break语句"
   ]
  },
  {
   "cell_type": "code",
   "execution_count": null,
   "id": "7a1453b2",
   "metadata": {},
   "outputs": [],
   "source": [
    "# 此处用了进阶的关于string的内容，后面会详述具体用法.\n",
    "\n",
    "def readUntilDone():\n",
    "    linesEntered = 0\n",
    "    while (True):\n",
    "        response = input('输入一个字符串（或者输入done来结束运行）: ')\n",
    "        if (response == 'done'):\n",
    "            break\n",
    "        print('  你输入了: ', response)\n",
    "        linesEntered += 1\n",
    "    print('再见!')\n",
    "    return linesEntered\n",
    "\n",
    "linesEntered = readUntilDone()\n",
    "print('你输入了', linesEntered, \"行字符 (不计入'done').\")"
   ]
  },
  {
   "cell_type": "markdown",
   "id": "e7d7c44f",
   "metadata": {},
   "source": [
    "#### 质数检测"
   ]
  },
  {
   "cell_type": "code",
   "execution_count": null,
   "id": "6c4b5640",
   "metadata": {},
   "outputs": [],
   "source": [
    "# 其实有更好也更快的方法，这里为了展示就使用最直观的方法.\n",
    "def isPrime(n):\n",
    "    if (n < 2):\n",
    "        return False\n",
    "    for factor in range(2,n):\n",
    "        if (n % factor == 0):\n",
    "            return False\n",
    "    return True\n",
    "\n",
    "# 找一堆质数出来吧\n",
    "for n in range(100):\n",
    "    if isPrime(n):\n",
    "        print(n, end=' ')\n",
    "print()"
   ]
  },
  {
   "cell_type": "markdown",
   "id": "46e6d931",
   "metadata": {},
   "source": [
    "#### 更快的质数检测"
   ]
  },
  {
   "cell_type": "code",
   "execution_count": null,
   "id": "829fdd24",
   "metadata": {},
   "outputs": [],
   "source": [
    "# 这个也不是最快的方法，先凑合用\n",
    "\n",
    "def fasterIsPrime(n):\n",
    "    if (n < 2):\n",
    "        return False\n",
    "    if (n == 2):\n",
    "        return True\n",
    "    if (n % 2 == 0):\n",
    "        return False\n",
    "    maxFactor = round(n**0.5)\n",
    "    for factor in range(3,maxFactor+1,2):\n",
    "        if (n % factor == 0):\n",
    "            return False\n",
    "    return True\n",
    "\n",
    "# And try out this version:\n",
    "for n in range(100):\n",
    "    if fasterIsPrime(n):\n",
    "        print(n, end=' ')\n",
    "print()"
   ]
  },
  {
   "cell_type": "markdown",
   "id": "1b65efbd",
   "metadata": {},
   "source": [
    "#### 比较速度"
   ]
  },
  {
   "cell_type": "code",
   "execution_count": null,
   "id": "f17a8ac7",
   "metadata": {},
   "outputs": [],
   "source": [
    "def isPrime(n):\n",
    "    if (n < 2):\n",
    "        return False\n",
    "    for factor in range(2,n):\n",
    "        if (n % factor == 0):\n",
    "            return False\n",
    "    return True\n",
    "\n",
    "def fasterIsPrime(n):\n",
    "    if (n < 2):\n",
    "        return False\n",
    "    if (n == 2):\n",
    "        return True\n",
    "    if (n % 2 == 0):\n",
    "        return False\n",
    "    maxFactor = round(n**0.5)\n",
    "    for factor in range(3,maxFactor+1,2):\n",
    "        if (n % factor == 0):\n",
    "            return False\n",
    "    return True\n",
    "\n",
    "# 确认两者输出结果相同\n",
    "for n in range(100):\n",
    "    assert(isPrime(n) == fasterIsPrime(n))\n",
    "print('运行结果一致!')\n",
    "\n",
    "# 现在我们来看看第二个函数是否真的更快\n",
    "import time\n",
    "bigPrime = 499 # 也可以试试 1010809,  10101023, 或 102030407\n",
    "print('isPrime用时(',bigPrime,')', end=' ')\n",
    "time0 = time.time()\n",
    "print(', 返回值 ', isPrime(bigPrime), end=' ')\n",
    "time1 = time.time()\n",
    "print(', 用时 = ',(time1-time0)*1000,'毫秒')\n",
    "\n",
    "print('fasterIsPrime用时(',bigPrime,')', end=' ')\n",
    "time0 = time.time()\n",
    "print(', 返回值 ', fasterIsPrime(bigPrime), end=' ')\n",
    "time1 = time.time()\n",
    "print(', 用时 = ',(time1-time0)*1000,'毫秒')"
   ]
  },
  {
   "cell_type": "markdown",
   "id": "2b05ef83",
   "metadata": {},
   "source": [
    "#### 第n个质数"
   ]
  },
  {
   "cell_type": "code",
   "execution_count": null,
   "id": "03c7fe8d",
   "metadata": {},
   "outputs": [],
   "source": [
    "def isPrime(n):\n",
    "    if (n < 2):\n",
    "        return False\n",
    "    if (n == 2):\n",
    "        return True\n",
    "    if (n % 2 == 0):\n",
    "        return False\n",
    "    maxFactor = round(n**0.5)\n",
    "    for factor in range(3,maxFactor+1,2):\n",
    "        if (n % factor == 0):\n",
    "            return False\n",
    "    return True\n",
    "\n",
    "# 采用跟nthMultipleOf4or7()函数类似的方法来找第n个质数\n",
    "\n",
    "def nthPrime(n):\n",
    "    found = 0\n",
    "    guess = 0\n",
    "    while (found <= n):\n",
    "        guess += 1\n",
    "        if (isPrime(guess)):\n",
    "            found += 1\n",
    "    return guess\n",
    "\n",
    "# 来看看前十个质数吧\n",
    "for n in range(10):\n",
    "    print(n, nthPrime(n))\n",
    "print('Done!')"
   ]
  }
 ],
 "metadata": {
  "kernelspec": {
   "display_name": "Python 3 (ipykernel)",
   "language": "python",
   "name": "python3"
  },
  "language_info": {
   "codemirror_mode": {
    "name": "ipython",
    "version": 3
   },
   "file_extension": ".py",
   "mimetype": "text/x-python",
   "name": "python",
   "nbconvert_exporter": "python",
   "pygments_lexer": "ipython3",
   "version": "3.7.11"
  }
 },
 "nbformat": 4,
 "nbformat_minor": 5
}
