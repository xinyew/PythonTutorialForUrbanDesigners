{
 "cells": [
  {
   "cell_type": "markdown",
   "id": "88e87f11",
   "metadata": {},
   "source": [
    "# 城市设计分析技术Python自学教程02\n",
    "\n",
    "### 变量与函数\n",
    "\n",
    "##### [计算城市设计实验室(Computational Urban Design Lab)](https://www.tjcud.cn/)"
   ]
  },
  {
   "cell_type": "markdown",
   "id": "e5b981a4",
   "metadata": {},
   "source": [
    "#### 2.1 变量\n",
    "#### 变量是引用或存储一段数据的命名值。"
   ]
  },
  {
   "cell_type": "code",
   "execution_count": null,
   "id": "706ce2a3",
   "metadata": {},
   "outputs": [],
   "source": [
    "# 我们用 '变量名 = 值' 的方法来给变量赋值 \n",
    "x = 5\n",
    "print(x) # x的值为5\n",
    "print(x*2) # 值为10"
   ]
  },
  {
   "cell_type": "markdown",
   "id": "d57157ae",
   "metadata": {},
   "source": [
    "#### 与数学里的概念不同，变量可以分配新值，甚至是不同类型的值。"
   ]
  },
  {
   "cell_type": "code",
   "execution_count": null,
   "id": "fb9adf48",
   "metadata": {},
   "outputs": [],
   "source": [
    "y = 10\n",
    "print(y - 2)\n",
    "\n",
    "y = True\n",
    "print(y)"
   ]
  },
  {
   "cell_type": "markdown",
   "id": "653fdf02",
   "metadata": {},
   "source": [
    "#### 变量可以取任何名称，只要它以字母开头并且不包含特殊字符。"
   ]
  },
  {
   "cell_type": "code",
   "execution_count": null,
   "id": "d3920891",
   "metadata": {},
   "outputs": [],
   "source": [
    "numberOfRabbits = 40\n",
    "course = True\n",
    "99problems = 0 # 会崩溃，因为变量名以数字开头"
   ]
  },
  {
   "cell_type": "markdown",
   "id": "46308bba",
   "metadata": {},
   "source": [
    "#### 变量可以通过赋值操作进行更新。"
   ]
  },
  {
   "cell_type": "code",
   "execution_count": null,
   "id": "e66a3cd8",
   "metadata": {},
   "outputs": [],
   "source": [
    "x = 5\n",
    "x += 2 # 与 x = x + 2 同义\n",
    "print(x) # 应为 7\n",
    "\n",
    "# 每一种数学运算都可以运用这种赋值方式\n",
    "y = 350\n",
    "y //= 10\n",
    "print(y) # 应为 35"
   ]
  },
  {
   "cell_type": "markdown",
   "id": "9e92bc5c",
   "metadata": {},
   "source": [
    "#### 2.2 表达式和语句\n",
    "#### 表达式是数据值或计算结果为值的操作。"
   ]
  },
  {
   "cell_type": "code",
   "execution_count": null,
   "id": "c2bbe10c",
   "metadata": {},
   "outputs": [],
   "source": [
    "# 表达式的范例\n",
    "# 请注意，当它在编辑器中运行时，这些值都不会显示（但是在jupyter notebook中会显示）\n",
    "4\n",
    "\"Hello World\"\n",
    "7 + 2\n",
    "True or False\n",
    "(2 < 3) and (9 > 0)"
   ]
  },
  {
   "cell_type": "markdown",
   "id": "8a508afb",
   "metadata": {},
   "source": [
    "#### 语句是执行操作的一行代码。与表达式不同，语句不能在运算中使用。"
   ]
  },
  {
   "cell_type": "code",
   "execution_count": null,
   "id": "c6db11eb",
   "metadata": {},
   "outputs": [],
   "source": [
    "# 语句的范例\n",
    "print(4)\n",
    "x = True"
   ]
  },
  {
   "cell_type": "markdown",
   "id": "3ad867b5",
   "metadata": {},
   "source": [
    "#### 2.3 函数\n",
    "#### 函数是存储在名称下的运算过程（一系列语句），可以通过调用名称重复使用。"
   ]
  },
  {
   "cell_type": "code",
   "execution_count": null,
   "id": "ab518d8a",
   "metadata": {},
   "outputs": [],
   "source": [
    "# 一个函数由两部分组成：函数头和函数体\n",
    "\n",
    "# 函数头定义了名称和参数\n",
    "# 一个函数头的写法如下： def 函数名(参数):\n",
    "# 参数是调用函数时将提供的变量\n",
    "# 标题以冒号结尾，表示后面会有正文\n",
    "\n",
    "# 函数体包含函数执行的动作（语句）\n",
    "# 函数体下写有缩进\n",
    "# 当行不再缩进时，函数体结束\n",
    "# 函数通常包含一个 return 语句，这将在调用函数时提供结果\n",
    "\n",
    "# 范例:\n",
    "\n",
    "def double(x):\n",
    "    print(\"我是计算双倍数值的函数!\")\n",
    "    return 2 * x\n",
    "\n",
    "# 要调用函数，我们使用函数的名称，\n",
    "# 后面是包含我们要使用的数据值的括号，称为函数参数。\n",
    "# 这个函数调用将评估为一个表达式。\n",
    "\n",
    "print(double(2)) # 会打印出 4\n",
    "print(double(5)) # 会打印出 10\n",
    "print(double(1) + 3) # 会打印出 5"
   ]
  },
  {
   "cell_type": "markdown",
   "id": "9c575c04",
   "metadata": {},
   "source": [
    "#### 函数可以有任意数量的参数，或者根本没有。"
   ]
  },
  {
   "cell_type": "code",
   "execution_count": null,
   "id": "3b385741",
   "metadata": {},
   "outputs": [],
   "source": [
    "def f(x, y, z):\n",
    "    return x + y + z\n",
    "\n",
    "print(f(1, 3, 2)) # 返回 6\n",
    "\n",
    "def g():\n",
    "    return 42\n",
    "\n",
    "print(g()) # 返回 42\n",
    "\n",
    "# 注意 - 提供的参数数量必须与参数数量匹配！\n",
    "print(g(2)) # 崩溃！\n",
    "print(f(1, 2)) # 崩溃！"
   ]
  },
  {
   "cell_type": "markdown",
   "id": "5b812eec",
   "metadata": {},
   "source": [
    "#### 2.4 内置函数"
   ]
  },
  {
   "cell_type": "code",
   "execution_count": null,
   "id": "1475334f",
   "metadata": {},
   "outputs": [],
   "source": [
    "# 一些函数已经包含在Python本身里了\n",
    "\n",
    "print(\"类型转化函数:\")\n",
    "print(bool(0))   # 转化为布尔值(真/假)\n",
    "print(float(42)) # 转化为布尔值\n",
    "print(int(2.8))  # 转化为整数\n",
    "\n",
    "print(\"一些基本数学函数:\")\n",
    "print(abs(-5))   # 绝对值\n",
    "print(max(2,3))  # 最大值\n",
    "print(min(2,3))  # 最小值\n",
    "print(pow(2,3))  # 计算x的y次方\n",
    "print(round(2.354, 1)) # 按照所给位数进行四舍五入"
   ]
  },
  {
   "cell_type": "markdown",
   "id": "52f5cdd7",
   "metadata": {},
   "source": [
    "#### 模块功能\n",
    "#### Python 已经实现了许多不同的功能，但不能立即使用。要使用这些功能，您必须导入模块。您可以通过在线阅读 Python 文档来找到这些模块。"
   ]
  },
  {
   "cell_type": "markdown",
   "id": "4b3c6bd8",
   "metadata": {},
   "source": [
    "#### 不导入就调用的情况"
   ]
  },
  {
   "cell_type": "code",
   "execution_count": null,
   "id": "3a414bd9",
   "metadata": {},
   "outputs": [],
   "source": [
    "print(math.factorial(20))  # 我们并没有导入math模组\n",
    "\n",
    "# Python输出:\n",
    "#   名称错误: 名称 'math' 未定义"
   ]
  },
  {
   "cell_type": "markdown",
   "id": "5cfa2084",
   "metadata": {},
   "source": [
    "#### 导入之后调用的情况"
   ]
  },
  {
   "cell_type": "code",
   "execution_count": null,
   "id": "e0045688",
   "metadata": {},
   "outputs": [],
   "source": [
    "import math\n",
    "print(math.factorial(20))  # 好起来了\n",
    "\n",
    "# 请注意，模块名称包含在函数名称之前，以 .作为分隔"
   ]
  },
  {
   "cell_type": "markdown",
   "id": "1f8437b9",
   "metadata": {},
   "source": [
    "#### 2.6 变量范围\n",
    "#### 变量存在于基于何时定义的特定范围内。这意味着它们是不可见的，不能在该范围之外，在代码的其他部分使用。"
   ]
  },
  {
   "cell_type": "code",
   "execution_count": null,
   "id": "e677ca6c",
   "metadata": {},
   "outputs": [],
   "source": [
    "def f(x):\n",
    "    print(\"x:\", x)\n",
    "    y = 5\n",
    "    print(\"y:\", y)\n",
    "    return x + y\n",
    "print(f(4))\n",
    "print(x) # 崩溃!\n",
    "print(y) # 也会崩溃!"
   ]
  },
  {
   "cell_type": "markdown",
   "id": "61c09949",
   "metadata": {},
   "source": [
    "#### 函数中的变量具有局部作用范围。它们只存在于立即函数内部，与不同函数中的同名变量没有关系。"
   ]
  },
  {
   "cell_type": "code",
   "execution_count": null,
   "id": "13f76a20",
   "metadata": {
    "scrolled": true
   },
   "outputs": [],
   "source": [
    "def f(x):\n",
    "    print(\"在函数f中, x =\", x)\n",
    "    x += 5\n",
    "    return x\n",
    "\n",
    "def g(x):\n",
    "    y = f(x*2)\n",
    "    print(\"在函数g中, x =\", x)\n",
    "    z = f(x*3)\n",
    "    print(\"在函数g中, x =\", x)\n",
    "    return y + z\n",
    "\n",
    "print(g(2))\n",
    "\n",
    "print('------------------------')\n",
    "\n",
    "# 再来个例子\n",
    "\n",
    "\n",
    "def f(x):\n",
    "    print(\"在函数f中, x =\", x)\n",
    "    x += 7\n",
    "    return round(x / 3)\n",
    "\n",
    "def g(x):\n",
    "    x *= 10\n",
    "    return 2 * f(x)\n",
    "\n",
    "def h(x):\n",
    "    x += 3\n",
    "    return f(x+4) + g(x)\n",
    "\n",
    "print(h(f(1)))"
   ]
  },
  {
   "cell_type": "markdown",
   "id": "bedfcf79",
   "metadata": {},
   "source": [
    "#### 在函数外部定义时，变量具有全局作用域并且可以在任何地方使用。"
   ]
  },
  {
   "cell_type": "code",
   "execution_count": null,
   "id": "d0a9f8c0",
   "metadata": {},
   "outputs": [],
   "source": [
    "# 一般来说，你应该避免使用全局变量。\n",
    "# 不过，你需要了解它们是如何工作的，因为其他人\n",
    "# 会用到它们，也可能有一些极少数的情况你也应该使用它们！\n",
    "\n",
    "g = 100\n",
    "\n",
    "def f(x):\n",
    "    return x + g\n",
    "\n",
    "print(f(5)) # 105\n",
    "print(f(6)) # 106\n",
    "print(g)    # 100\n",
    "\n",
    "# 再来个例子\n",
    "\n",
    "def f(x):\n",
    "    # 如果我们要使用一个全局变量，必须加上global的声明\n",
    "    # 否则Python会将其视为局部变量\n",
    "    global g\n",
    "    g += 1\n",
    "    return x + g\n",
    "\n",
    "print(f(5)) # 106\n",
    "print(f(6)) # 108\n",
    "print(g)    # 102"
   ]
  },
  {
   "cell_type": "markdown",
   "id": "41667ab7",
   "metadata": {},
   "source": [
    "#### 2.7 Return 语句\n",
    "#### 基本案例"
   ]
  },
  {
   "cell_type": "code",
   "execution_count": null,
   "id": "fd72c5b6",
   "metadata": {},
   "outputs": [],
   "source": [
    "def isPositive(x):\n",
    "    return (x > 0)\n",
    "\n",
    "print(isPositive(5))  # True\n",
    "print(isPositive(-5)) # False\n",
    "print(isPositive(0))  # False"
   ]
  },
  {
   "cell_type": "markdown",
   "id": "f6e2fa22",
   "metadata": {},
   "source": [
    "#### Return 会直接结束函数的运行："
   ]
  },
  {
   "cell_type": "code",
   "execution_count": null,
   "id": "271a07a8",
   "metadata": {},
   "outputs": [],
   "source": [
    "def isPositive(x):\n",
    "    print(\"你好呀!\")   # 正常运行\n",
    "    return (x > 0)\n",
    "    print(\"再见!\") # 并不会运行（dead code）\n",
    "\n",
    "print(isPositive(5))  # 打印出来 “你好呀” 和 True"
   ]
  },
  {
   "cell_type": "markdown",
   "id": "a49d135e",
   "metadata": {},
   "source": [
    "#### 无Return语句就不会返回值"
   ]
  },
  {
   "cell_type": "code",
   "execution_count": null,
   "id": "55e898e8",
   "metadata": {},
   "outputs": [],
   "source": [
    "def f(x):\n",
    "    x + 42\n",
    "\n",
    "print(f(5)) # 打印出None"
   ]
  },
  {
   "cell_type": "markdown",
   "id": "3ed35377",
   "metadata": {},
   "source": [
    "#### 再来个例子："
   ]
  },
  {
   "cell_type": "code",
   "execution_count": null,
   "id": "3cca53ae",
   "metadata": {},
   "outputs": [],
   "source": [
    "def f(x):\n",
    "    result = x + 42\n",
    "\n",
    "print(f(5)) # 打印出None"
   ]
  },
  {
   "cell_type": "markdown",
   "id": "e7624d79",
   "metadata": {},
   "source": [
    "#### 2.8 打印 vs 返回值\n",
    "#### 把print和return搞混是新手常出错的问题"
   ]
  },
  {
   "cell_type": "code",
   "execution_count": null,
   "id": "8a7d90b6",
   "metadata": {},
   "outputs": [],
   "source": [
    "def cubed(x):\n",
    "    print(x**3) # 出错啦!\n",
    "\n",
    "cubed(2)          # 看起来还行!\n",
    "print(cubed(3))   # 从某种意义上来说，确实没错\n",
    "print(2*cubed(4)) # 报错!"
   ]
  },
  {
   "cell_type": "markdown",
   "id": "ea045e47",
   "metadata": {},
   "source": [
    "#### 正确做法 :"
   ]
  },
  {
   "cell_type": "code",
   "execution_count": null,
   "id": "c2bc3a3f",
   "metadata": {},
   "outputs": [],
   "source": [
    "def cubed(x):\n",
    "    return (x**3) # 好多了!\n",
    "\n",
    "cubed(2)          # 这行代码似乎被遗忘了\n",
    "print(cubed(3))   # 正常运行!\n",
    "print(2*cubed(4)) # 正常运行!"
   ]
  },
  {
   "cell_type": "markdown",
   "id": "2056e208",
   "metadata": {},
   "source": [
    "#### 2.9 函数的嵌套"
   ]
  },
  {
   "cell_type": "code",
   "execution_count": null,
   "id": "8d8c5464",
   "metadata": {},
   "outputs": [],
   "source": [
    "def f(w):\n",
    "    return 10*w\n",
    "\n",
    "def g(x, y):\n",
    "    return f(3*x) + y\n",
    "\n",
    "def h(z):\n",
    "    return f(g(z, f(z+1)))\n",
    "\n",
    "print(h(1)) # 提示: 运用“可视化”的函数"
   ]
  },
  {
   "cell_type": "markdown",
   "id": "882b14cf",
   "metadata": {},
   "source": [
    "#### 2.10 辅助函数"
   ]
  },
  {
   "cell_type": "code",
   "execution_count": null,
   "id": "0d3f7a30",
   "metadata": {},
   "outputs": [],
   "source": [
    "# 我们通常编写函数来解决问题。\n",
    "# 我们还可以编写函数来存储多次使用的动作！\n",
    "# 这些被称为辅助函数。\n",
    "\n",
    "def onesDigit(n):\n",
    "    return n%10\n",
    "\n",
    "def largerOnesDigit(x, y):\n",
    "    return max(onesDigit(x), onesDigit(y))\n",
    "\n",
    "print(largerOnesDigit(134, 672)) # 4\n",
    "print(largerOnesDigit(132, 674)) # 依旧是 4"
   ]
  },
  {
   "cell_type": "markdown",
   "id": "001a4ab1",
   "metadata": {},
   "source": [
    "#### 2.11 推荐使用的函数"
   ]
  },
  {
   "cell_type": "code",
   "execution_count": null,
   "id": "8d755463",
   "metadata": {},
   "outputs": [],
   "source": [
    "# 你肯定想在作业中使用一些内置的函数\n",
    "\n",
    "# 第一：内置的 round（四舍五入）函数在对 0.5 四舍五入时有反常的输出结果。\n",
    "# 使用我们自己写的函数 roundHalfUp 来解决这个问题。\n",
    "\n",
    "def roundHalfUp(d):\n",
    "    # 四舍五入到个位数。\n",
    "    # 你不需要了解这个函数是如何工作的。\n",
    "    import decimal\n",
    "    rounding = decimal.ROUND_HALF_UP\n",
    "    return int(decimal.Decimal(d).to_integral_value(rounding=rounding))\n",
    "\n",
    "print(round(0.5)) # 0.5四舍五入居然等于0!\n",
    "print(round(1.5)) # 1.5又变成2了!\n",
    "print(roundHalfUp(0.5)) # 新的函数会将0.5四舍五入为1\n",
    "print(roundHalfUp(1.5)) # 1.5也输出了正确的结果\n",
    "\n",
    "# 第二：在比较浮点数的大小是否相等时, == 并不会像你想象的那样工作正常\n",
    "# 用almostEqual函数来比较浮点数的大小：\n",
    "\n",
    "print(0.1 + 0.1 == 0.2) # True, 但是...\n",
    "d1 = 0.1 + 0.1 + 0.1\n",
    "d2 = 0.3\n",
    "print(d1 == d2) # False!\n",
    "print(d1)       # 打印出 0.30000000000000004？？\n",
    "print(d1 - d2)  # 打印出 5.55111512313e-17 (非常小，但并不是0!)\n",
    "# 警告：永远不要将 == 与浮点数一起使用！\n",
    "\n",
    "# Python 包含一个内置函数 math.isclose()，但该函数在比较接近 0 的值时有一些令人困惑的行为\n",
    "# 所以，让我们制作我们自己的 isclose 版本：\n",
    "\n",
    "def almostEqual(x, y):\n",
    "    return abs(x - y) < 10**-9\n",
    "\n",
    "# 这个会输出对应公差下正确的结果!\n",
    "print(almostEqual(0, 0.0000000000001))\n",
    "print(almostEqual(d1, d2))"
   ]
  },
  {
   "cell_type": "markdown",
   "id": "7f15c730",
   "metadata": {},
   "source": [
    "#### 2.12 测试函数\n",
    "#### 一个错误的测试函数："
   ]
  },
  {
   "cell_type": "code",
   "execution_count": null,
   "id": "80bd2339",
   "metadata": {},
   "outputs": [],
   "source": [
    "def onesDigit(n):\n",
    "    return n%10\n",
    "\n",
    "def testOnesDigit():\n",
    "    print(\"Testing onesDigit()...\", end=\"\")\n",
    "    assert(onesDigit(5) == 5)\n",
    "    assert(onesDigit(123) == 3)\n",
    "    assert(onesDigit(100) == 0)\n",
    "    assert(onesDigit(999) == 9)\n",
    "    print(\"Passed!\")\n",
    "\n",
    "testOnesDigit() # 通过！但为什么这样做不好呢？"
   ]
  },
  {
   "cell_type": "markdown",
   "id": "a153eb96",
   "metadata": {},
   "source": [
    "#### 一种更好的写法："
   ]
  },
  {
   "cell_type": "code",
   "execution_count": null,
   "id": "401e0a98",
   "metadata": {},
   "outputs": [],
   "source": [
    "def onesDigit(n):\n",
    "    return n%10\n",
    "\n",
    "def testOnesDigit():\n",
    "    print(\"Testing onesDigit()...\", end=\"\")\n",
    "    assert(onesDigit(5) == 5)\n",
    "    assert(onesDigit(123) == 3)\n",
    "    assert(onesDigit(100) == 0)\n",
    "    assert(onesDigit(999) == 9)\n",
    "    assert(onesDigit(-123) == 3) # 增加这个测试\n",
    "    print(\"Passed!\")\n",
    "\n",
    "testOnesDigit() # 报错!  所以这个测试函数正确工作了!"
   ]
  }
 ],
 "metadata": {
  "kernelspec": {
   "display_name": "Python 3",
   "language": "python",
   "name": "python3"
  },
  "language_info": {
   "codemirror_mode": {
    "name": "ipython",
    "version": 3
   },
   "file_extension": ".py",
   "mimetype": "text/x-python",
   "name": "python",
   "nbconvert_exporter": "python",
   "pygments_lexer": "ipython3",
   "version": "3.8.10"
  }
 },
 "nbformat": 4,
 "nbformat_minor": 5
}
