{
 "cells": [
  {
   "cell_type": "markdown",
   "id": "10053c99",
   "metadata": {},
   "source": [
    "# 城市设计分析技术Python自学教程03\n",
    "\n",
    "### 条件语句\n",
    "\n",
    "##### [计算城市设计实验室(Computational Urban Design Lab)](https://www.tjcud.cn/)"
   ]
  },
  {
   "cell_type": "markdown",
   "id": "ecd68b35",
   "metadata": {},
   "source": [
    "#### 3.1 if 语句"
   ]
  },
  {
   "cell_type": "code",
   "execution_count": null,
   "id": "b1a3544d",
   "metadata": {},
   "outputs": [],
   "source": [
    "def f(x):\n",
    "    print('A', end='')\n",
    "    if (x == 0):\n",
    "        print('B', end='')\n",
    "        print('C', end='')\n",
    "    print('D')\n",
    "\n",
    "f(0)\n",
    "f(1)"
   ]
  },
  {
   "cell_type": "markdown",
   "id": "38cc4439",
   "metadata": {},
   "source": [
    "#### 一个更有趣的例子:\n"
   ]
  },
  {
   "cell_type": "code",
   "execution_count": null,
   "id": "2fea094c",
   "metadata": {},
   "outputs": [],
   "source": [
    "# 这些例子定义了一些获取绝对值的函数\n",
    "# 但实际上，取绝对值是Python内置的函数之一，你不需要自己编写就可以通过abs()调用它\n",
    "\n",
    "def abs1(n):\n",
    "    if (n < 0):\n",
    "        n = -n\n",
    "    return n\n",
    "\n",
    "# 用单行代码来定义：\n",
    "\n",
    "def abs2(n):\n",
    "    if (n < 0): n = -n # 这种缩进方法只能在if后代码很短的时候用哦\n",
    "    return n\n",
    "\n",
    "# 用多次return的方式来定义：\n",
    "\n",
    "def abs3(n):\n",
    "    if (n < 0):\n",
    "        return -n\n",
    "    return n\n",
    "\n",
    "# 你当然也可以用布尔运算的方式来定义，但是千万别这么干！\n",
    "\n",
    "def abs4(n):\n",
    "    return (n < 0)*(-n) + (n>=0)*(n) # 有必要这么复杂吗。。。\n",
    "\n",
    "# 看看这些函数是否都能正确运行：\n",
    "\n",
    "print('abs1(5) =', abs1(5), 'and abs1(-5) =', abs1(-5))\n",
    "print('abs2(5) =', abs2(5), 'and abs2(-5) =', abs2(-5))\n",
    "print('abs3(5) =', abs3(5), 'and abs3(-5) =', abs3(-5))\n",
    "print('abs4(5) =', abs4(5), 'and abs4(-5) =', abs4(-5))"
   ]
  },
  {
   "cell_type": "markdown",
   "id": "f96a20b1",
   "metadata": {},
   "source": [
    "#### 3.2 if-else 语句\n"
   ]
  },
  {
   "cell_type": "code",
   "execution_count": null,
   "id": "a7005c30",
   "metadata": {},
   "outputs": [],
   "source": [
    "def f(x):\n",
    "    print('A', end='')\n",
    "    if (x == 0):\n",
    "        print('B', end='')\n",
    "        print('C', end='')\n",
    "    else:\n",
    "        print('D', end='')\n",
    "        if (x == 1):\n",
    "            print('E', end='')\n",
    "        else:\n",
    "            print('F', end='')\n",
    "    print('G')\n",
    "\n",
    "f(0)\n",
    "f(1)\n",
    "f(2)"
   ]
  },
  {
   "cell_type": "markdown",
   "id": "c9e81742",
   "metadata": {},
   "source": [
    "#### 重温绝对值函数 abs(n):\n"
   ]
  },
  {
   "cell_type": "code",
   "execution_count": null,
   "id": "df45c50f",
   "metadata": {},
   "outputs": [],
   "source": [
    "def abs5(n):\n",
    "    if (n >= 0):\n",
    "        return n\n",
    "    else:\n",
    "        return -n\n",
    "\n",
    "# 或者：\n",
    "\n",
    "def abs6(n):\n",
    "    if (n >= 0):\n",
    "        sign = +1\n",
    "    else:\n",
    "        sign = -1\n",
    "    return sign * n\n",
    "\n",
    "print('abs5(5) =', abs5(5), 'and abs5(-5) =', abs5(-5))\n",
    "print('abs6(5) =', abs6(5), 'and abs6(-5) =', abs6(-5))"
   ]
  },
  {
   "cell_type": "markdown",
   "id": "7b77a8b8",
   "metadata": {},
   "source": [
    "#### 3.3 if-elif-else 语句\n"
   ]
  },
  {
   "cell_type": "code",
   "execution_count": null,
   "id": "fc5160a1",
   "metadata": {},
   "outputs": [],
   "source": [
    "def f(x):\n",
    "    print('A', end='')\n",
    "    if (x == 0):\n",
    "        print('B', end='')\n",
    "        print('C', end='')\n",
    "    elif (x == 1):\n",
    "        print('D', end='')\n",
    "    else:\n",
    "        print('E', end='')\n",
    "        if (x == 2):\n",
    "            print('F', end='')\n",
    "        else:\n",
    "            print('G', end='')\n",
    "    print('H')\n",
    "\n",
    "f(0)\n",
    "f(1)\n",
    "f(2)\n",
    "f(3)"
   ]
  },
  {
   "cell_type": "markdown",
   "id": "9e115021",
   "metadata": {},
   "source": [
    "#### 一个更有趣的例子:\n"
   ]
  },
  {
   "cell_type": "code",
   "execution_count": null,
   "id": "6595123c",
   "metadata": {},
   "outputs": [],
   "source": [
    "def numberOfRoots(a, b, c):\n",
    "    # 返回二元一次方程 y = a*x**2 + b*x + c 根的个数：\n",
    "    d = b**2 - 4*a*c\n",
    "    if (d > 0):\n",
    "        return 2\n",
    "    elif (d == 0):\n",
    "        return 1\n",
    "    else:\n",
    "        return 0\n",
    "\n",
    "print('y = 4*x**2 + 5*x + 1 有', numberOfRoots(4,5,1), '个根.')\n",
    "print('y = 4*x**2 + 4*x + 1 有', numberOfRoots(4,4,1), '个根.')\n",
    "print('y = 4*x**2 + 3*x + 1 有', numberOfRoots(4,3,1), '个根.')"
   ]
  },
  {
   "cell_type": "markdown",
   "id": "6c4ded88",
   "metadata": {},
   "source": [
    "#### 另一个例子："
   ]
  },
  {
   "cell_type": "code",
   "execution_count": null,
   "id": "a3a6dff8",
   "metadata": {},
   "outputs": [],
   "source": [
    "# 打分\n",
    "\n",
    "def getGrade(score):\n",
    "    if (score >= 90):\n",
    "        grade = 'A'\n",
    "    elif (score >= 80):\n",
    "        grade = 'B'\n",
    "    elif (score >= 70):\n",
    "        grade = 'C'\n",
    "    elif (score >= 60):\n",
    "        grade = 'D'\n",
    "    else:\n",
    "        grade = 'F'\n",
    "    return grade\n",
    "\n",
    "print('103 -->', getGrade(103))\n",
    "print(' 88 -->', getGrade(88))\n",
    "print(' 70 -->', getGrade(70))\n",
    "print(' 61 -->', getGrade(61))\n",
    "print(' 22 -->', getGrade(22))"
   ]
  },
  {
   "cell_type": "markdown",
   "id": "c2d74c15",
   "metadata": {},
   "source": [
    "#### 3.4 if-else 表达式\n"
   ]
  },
  {
   "cell_type": "code",
   "execution_count": null,
   "id": "9ade7640",
   "metadata": {},
   "outputs": [],
   "source": [
    "# if-else表达式 (不是if-else语句!)\n",
    "# 此处重申： 表达式的含义为“一个东西”，语句的含义为“一个操作”\n",
    "\n",
    "def abs7(n):\n",
    "    return n if (n >= 0) else -n\n",
    "\n",
    "print('abs7(5) =', abs7(5), 'and abs7(-5) =', abs7(-5))"
   ]
  },
  {
   "cell_type": "markdown",
   "id": "c59ff1c5",
   "metadata": {},
   "source": [
    "#### 3.5 错误用法\n",
    "\n",
    "#### 注意：本处关注的是“样式”而不是“正确性”。\n",
    "#### 这里的所有例子都能正确运行，但有些例子比其他例子更加巧妙。"
   ]
  },
  {
   "cell_type": "markdown",
   "id": "4dab7ffc",
   "metadata": {},
   "source": [
    "否定的条件语句："
   ]
  },
  {
   "cell_type": "code",
   "execution_count": null,
   "id": "4d03de18",
   "metadata": {},
   "outputs": [],
   "source": [
    "# 不恰当:\n",
    "b = True\n",
    "if (not b):\n",
    "    print('不对')\n",
    "else:\n",
    "    print('对')"
   ]
  },
  {
   "cell_type": "code",
   "execution_count": null,
   "id": "ec11ed80",
   "metadata": {},
   "outputs": [],
   "source": [
    "# 恰当:\n",
    "b = True\n",
    "if (b):\n",
    "    print('对')\n",
    "else:\n",
    "    print('不对')"
   ]
  },
  {
   "cell_type": "markdown",
   "id": "cdc544c4",
   "metadata": {},
   "source": [
    "空的 'if' 子句："
   ]
  },
  {
   "cell_type": "code",
   "execution_count": null,
   "id": "36ee9345",
   "metadata": {},
   "outputs": [],
   "source": [
    "# 不恰当:\n",
    "b = False\n",
    "if (b):\n",
    "    pass\n",
    "else:\n",
    "    print('不对')"
   ]
  },
  {
   "cell_type": "code",
   "execution_count": null,
   "id": "d97596ef",
   "metadata": {},
   "outputs": [],
   "source": [
    "# 恰当:\n",
    "b = False\n",
    "if (not b):\n",
    "    print('不对')"
   ]
  },
  {
   "cell_type": "code",
   "execution_count": null,
   "id": "edf8a614",
   "metadata": {},
   "outputs": [],
   "source": [
    "用多个 'if' 而不用 'and'"
   ]
  },
  {
   "cell_type": "code",
   "execution_count": null,
   "id": "e60c28a5",
   "metadata": {},
   "outputs": [],
   "source": [
    "# 不恰当(虽然没有那么不恰当...):\n",
    "b1 = True\n",
    "b2 = True\n",
    "if (b1):\n",
    "    if (b2):\n",
    "        print('都对!')"
   ]
  },
  {
   "cell_type": "code",
   "execution_count": null,
   "id": "b4b943d0",
   "metadata": {},
   "outputs": [],
   "source": [
    "# 恰当 (这样写会更合适):\n",
    "b1 = True\n",
    "b2 = True\n",
    "if (b1 and b2):\n",
    "        print('都对!')"
   ]
  },
  {
   "cell_type": "markdown",
   "id": "37b34314",
   "metadata": {},
   "source": [
    "#### 使用额外的 'if' 而不是 'else'"
   ]
  },
  {
   "cell_type": "code",
   "execution_count": null,
   "id": "e50ddfff",
   "metadata": {},
   "outputs": [],
   "source": [
    "# 不恰当:\n",
    "b = True\n",
    "if (b):\n",
    "    print('对')\n",
    "if (not b):\n",
    "    print('不对')"
   ]
  },
  {
   "cell_type": "code",
   "execution_count": null,
   "id": "e4b53d6b",
   "metadata": {},
   "outputs": [],
   "source": [
    "# 恰当:\n",
    "b = True\n",
    "if (b):\n",
    "    print('对')\n",
    "else:\n",
    "    print('不对')"
   ]
  },
  {
   "cell_type": "markdown",
   "id": "5341fac9",
   "metadata": {},
   "source": [
    "#### 再来几个例子："
   ]
  },
  {
   "cell_type": "code",
   "execution_count": null,
   "id": "3811ee63",
   "metadata": {},
   "outputs": [],
   "source": [
    "# 不恰当:\n",
    "x = 10\n",
    "if (x < 5):\n",
    "    print('小')\n",
    "if ((x >= 5) and (x < 10)):\n",
    "    print('中')\n",
    "if ((x >= 10) and (x < 15)):\n",
    "    print('大')\n",
    "if (x >= 15):\n",
    "    print('特大')"
   ]
  },
  {
   "cell_type": "code",
   "execution_count": null,
   "id": "22cdfb38",
   "metadata": {},
   "outputs": [],
   "source": [
    "# 恰当:\n",
    "x = 10\n",
    "if (x < 5):\n",
    "    print('小')\n",
    "elif (x < 10):\n",
    "    print('中')\n",
    "elif (x < 15):\n",
    "    print('大')\n",
    "else:\n",
    "    print('特大')"
   ]
  },
  {
   "cell_type": "markdown",
   "id": "d7e46356",
   "metadata": {},
   "source": [
    "#### 最后的例子："
   ]
  },
  {
   "cell_type": "code",
   "execution_count": null,
   "id": "569564bf",
   "metadata": {},
   "outputs": [],
   "source": [
    "# 不恰当:\n",
    "c = 'a'\n",
    "if ((c >= 'A') and (c <= 'Z')):\n",
    "    print('大写!')\n",
    "if ((c >= 'a') and (c <= 'z')):\n",
    "    print('小写!')\n",
    "if ((c < 'A') or\n",
    "    ((c > 'Z') and (c < 'a')) or\n",
    "    (c > 'z')):\n",
    "    print ('不是字母!')"
   ]
  },
  {
   "cell_type": "code",
   "execution_count": null,
   "id": "0647fc32",
   "metadata": {},
   "outputs": [],
   "source": [
    "# 恰当:\n",
    "c = 'a'\n",
    "if ((c >= 'A') and (c <= 'Z')):\n",
    "    print('大写!')\n",
    "elif ((c >= 'a') and (c <= 'z')):\n",
    "    print('小写!')\n",
    "else:\n",
    "    print('不是字母!')"
   ]
  },
  {
   "cell_type": "markdown",
   "id": "b63821dc",
   "metadata": {},
   "source": [
    "#### 运用“算术逻辑”而不是“布尔逻辑”"
   ]
  },
  {
   "cell_type": "code",
   "execution_count": null,
   "id": "3d65b311",
   "metadata": {},
   "outputs": [],
   "source": [
    "# 不恰当:\n",
    "x = 42\n",
    "y = ((x > 0) and 99)"
   ]
  },
  {
   "cell_type": "code",
   "execution_count": null,
   "id": "efa352ef",
   "metadata": {},
   "outputs": [],
   "source": [
    "# 恰当:\n",
    "x = 42\n",
    "if (x > 0):\n",
    "    y = 99"
   ]
  }
 ],
 "metadata": {
  "kernelspec": {
   "display_name": "Python 3 (ipykernel)",
   "language": "python",
   "name": "python3"
  },
  "language_info": {
   "codemirror_mode": {
    "name": "ipython",
    "version": 3
   },
   "file_extension": ".py",
   "mimetype": "text/x-python",
   "name": "python",
   "nbconvert_exporter": "python",
   "pygments_lexer": "ipython3",
   "version": "3.7.11"
  }
 },
 "nbformat": 4,
 "nbformat_minor": 5
}
