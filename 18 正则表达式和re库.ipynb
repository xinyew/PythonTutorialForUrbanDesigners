{
 "cells": [
  {
   "cell_type": "markdown",
   "id": "c39f36b0",
   "metadata": {},
   "source": [
    "# 城市设计分析技术Python自学教程18\n",
    "\n",
    "### 正则表达式和re库\n",
    "\n",
    "##### [计算城市设计实验室(Computational Urban Design Lab)](https://www.tjcud.cn/)"
   ]
  },
  {
   "cell_type": "markdown",
   "id": "6bda860a",
   "metadata": {},
   "source": [
    "### 正则表达式\n",
    "\n",
    "我们将在这个文档里学习的工具是正则表达式。在解析任何类型的非结构化数据时，如果您试图从长字符串中快速查找或提取一些文本，即使您正在编写更复杂的解析器，正则表达式都是非常好用的工具。通常，正则表达式让我们可以使用简单的语法（根据某种定义）查找和匹配文本部分。\n",
    "\n",
    "### 寻找\n",
    "\n",
    "让我们从最基本的例子开始，它只是在文本中搜索一些内容。在这种情况下，我们搜索的文本是“This course will introduce the basics of data science”，我们搜索的字符串是“data science”。这是通过以下代码完成的："
   ]
  },
  {
   "cell_type": "code",
   "execution_count": null,
   "id": "ea9c5b39",
   "metadata": {},
   "outputs": [],
   "source": [
    "import re\n",
    "text = \"This course will introduce the basics of data science\"\n",
    "match = re.search(r\"data science\", text)\n",
    "print(match.start())"
   ]
  },
  {
   "cell_type": "markdown",
   "id": "76357037",
   "metadata": {},
   "source": [
    "这里的重要部分是`re.search(r\"data science\", text)` 的调用。它在 `text` 中搜索字符串“data science”，并返回一个正则表达式“match”对象，该对象包含有关在何处找到此匹配项的信息：​​例如，我们可以找到匹配项所在的字符索引（在 `text` 中）找到，使用 `match.start()` 调用。除了搜索调用之外，还有两三个正则表达式匹配命令可能对您有用：\n",
    "\n",
    "- `re.match()`：匹配从文本字符串的_beginning_开始的正则表达式\n",
    "- `re.finditer()`：查找文本中的所有匹配项，返回匹配对象上的迭代器\n",
    "- `re.findall()`：查找文本中的所有匹配项，仅返回匹配文本的列表（不是匹配对象）\n",
    "\n",
    "例如，以下代码将返回 `None`，因为在字符串的开头没有与“data science”匹配："
   ]
  },
  {
   "cell_type": "code",
   "execution_count": null,
   "id": "47d08f1d",
   "metadata": {},
   "outputs": [],
   "source": [
    "match = re.match(r\"data science\", text)\n",
    "print(match)"
   ]
  },
  {
   "cell_type": "markdown",
   "id": "024946b1",
   "metadata": {},
   "source": [
    "类似地，我们可以使用 `re.finditer()` 来列出字符串中所有 'i' 字符的位置："
   ]
  },
  {
   "cell_type": "code",
   "execution_count": null,
   "id": "9c9a5f60",
   "metadata": {},
   "outputs": [],
   "source": [
    "for match in re.finditer(r\"i\", text):\n",
    "    print(match.start())"
   ]
  },
  {
   "cell_type": "markdown",
   "id": "e0395475",
   "metadata": {},
   "source": [
    "另一方面，`re.findall()` 只返回匹配字符串的列表，没有附加信息，例如它们出现的位置："
   ]
  },
  {
   "cell_type": "code",
   "execution_count": null,
   "id": "a3dd34a6",
   "metadata": {},
   "outputs": [],
   "source": [
    "re.findall(r\"i\", text)"
   ]
  },
  {
   "cell_type": "markdown",
   "id": "64772a60",
   "metadata": {},
   "source": [
    "最后一个调用可能看起来不是特别有用，但尤其是当您使用更复杂的匹配表达式时，这个最后一个调用仍然有用。您还可以“编译”一个正则表达式，然后对该编译对象进行所有相同的调用，如下所示："
   ]
  },
  {
   "cell_type": "code",
   "execution_count": null,
   "id": "d8be8196",
   "metadata": {},
   "outputs": [],
   "source": [
    "regex = re.compile(r\"data science\")\n",
    "regex.search(text)"
   ]
  },
  {
   "cell_type": "code",
   "execution_count": null,
   "id": "96703ace",
   "metadata": {},
   "outputs": [],
   "source": [
    "with open(\"cmu.html\", encoding='utf-8') as f:\n",
    "    cmu_page_xml = f.read()"
   ]
  },
  {
   "cell_type": "markdown",
   "id": "c80d8c1d",
   "metadata": {},
   "source": [
    "然而，考虑到 Python 无论如何都会实时编译正则表达式，不要指望使用上面的方法有很大的速度优势；是否单独使用 `re.compile()` 更像是个人偏好。"
   ]
  },
  {
   "cell_type": "markdown",
   "id": "317b296c",
   "metadata": {},
   "source": [
    "### Matching multiple potential strings\n",
    "\n",
    "While using regular expressions to search for a string within a long piece of text may be a handy tools, the real power of regular expressions comes from the ability to match multiple potential strings with a single regular expression.  This is where the syntax of regular expressions gets nasty, but here are some of the more common rules:\n",
    "\n",
    "- Any character (except special characters, `\".$*+?{}\\[]|()` ), just matches itself.  I.e., the character `a` just matches the character `a`.  This is actually what we used previously, where each character in the `r\"data science\"` regular expression was just looking to match that exact character.\n",
    "- Putting a group of characters within brackets `[abc]` will match any of the characters `a`, `b`, or `c`. You can also use ranges within these brackets, so that `[a-z]` matches any lower case letter.\n",
    "- Putting a caret within the bracket matches anything _but_ these characters, i.e., `[^abc]` matches any character _except_ `a`, `b`, or `c`.\n",
    "- The special character `\\d` will match any digit, i.e. `[0-9]`\n",
    "- The special character `\\w` will match any alphanumeric character plus the underscore; i.e., it is equivalent to `[a-zA-Z0-9_]`.\n",
    "- The special character `\\s` will match whitespace, any of `[ \\t\\n\\r\\f\\v]` (a space, tab, and various newline characters).\n",
    "- The special character `.` (the period) matches _any_ character.  In their original versions, regular expressions were often applies line-by-line to a file, so by default `.` will _not_ match the newline character.  If you want it to match newlines, you pass `re.DOTALL` to the \"flags\" argument of the various regular expression calls.\n",
    "\n",
    "As an example, the following regular expression will match \"data science\" regardless of the capitalization, and with any type of space between the two words."
   ]
  },
  {
   "cell_type": "markdown",
   "id": "fb67fc1d",
   "metadata": {},
   "source": [
    "### 匹配多个潜在字符串\n",
    "\n",
    "虽然使用正则表达式在长文本中搜索字符串可能是一种方便的工具，但正则表达式的真正威力来自于将多个潜在字符串与单个正则表达式匹配的能力。这是正则表达式的语法变得讨厌的地方，但这里有一些更常见的规则：\n",
    "\n",
    "- 任何字符（特殊字符除外，`\".$*+?{}\\[]|()` ），只匹配自身。即，字符`a` 只匹配字符`a`。这实际上是我们以前使用过，其中 `r\"data science\"` 正则表达式中的每个字符只是想匹配那个确切的字符。\n",
    "- 将一组字符放在方括号 `[abc]` 中将匹配方括号中的任何字符 `a`、`b` 或 `c`。您还可以在这些括号内使用范围，比如用 `[a-z]` 匹配任何小写字母。\n",
    "- 将^符号放在括号内匹配任何除这些字符以外的字符，即，`[^abc]` 匹配任除 `a`、`b` 或 `c`以外的字符。\n",
    "- 特殊字符`\\d` 将匹配任何数字，即`[0-9]`\n",
    "- 特殊字符`\\w` 将匹配任何字母数字字符加上下划线；即，它相当于`[a-zA-Z0-9_]`。\n",
    "- 特殊字符`\\s` 将匹配空白、任何`[ \\t\\n\\r\\f\\v]`（空格、制表符和各种换行符）。\n",
    "- 特殊字符`.`（句点）匹配所有字符。在它们的原始版本中，正则表达式通常逐行应用于文件，因此默认情况下`.` 将_不_匹配换行符。如果您希望它匹配换行符，请将 `re.DOTALL` 传递给各种正则表达式调用的“flags”参数。\n",
    "\n",
    "例如，以下正则表达式将匹配“data science”，无论大小写，并且两个单词之间有任何类型的空格。"
   ]
  },
  {
   "cell_type": "code",
   "execution_count": null,
   "id": "36a3bb9c",
   "metadata": {},
   "outputs": [],
   "source": [
    "print(re.search(r\"[Dd]ata\\s[Ss]cience\", text))"
   ]
  },
  {
   "cell_type": "markdown",
   "id": "2481a7e5",
   "metadata": {},
   "source": [
    "请注意，现在匹配对象现在还包括与表达式匹配的特定文本（现在可以是任意数量的可能性之一）。这就是为什么像 `re.findall` 这样的调用即使只返回匹配的表达式但仍然有用。"
   ]
  },
  {
   "cell_type": "markdown",
   "id": "bf63e12a",
   "metadata": {},
   "source": [
    "正则表达式的第二个重要特性是匹配一个字符的多次连续出现的能力。这里最重要的规则是：\n",
    "\n",
    "- 要匹配 `a` 一次，请使用 `a`。\n",
    "- 要匹配 `a` 零次或一次，请使用 `a?`。\n",
    "- 要匹配 `a` 零次或多次，请使用 `a*`。\n",
    "- 要匹配 `a` 一次或多次，请使用 `a+`。\n",
    "- 最后，要精确匹配 `a` n 次，使用 `a{n}`。\n",
    "\n",
    "这些规则可以与规则结合以匹配潜在的非常复杂的表达式。例如，如果我们想要匹配文本“*something* science”，其中*something* 是任何字母数字字符，并且*something* 和单词“science”之间可以有任意数量的任何类型的空格，我们可以使用表达式`r\"\\w+\\s+science\"`。"
   ]
  },
  {
   "cell_type": "code",
   "execution_count": null,
   "id": "a57a416a",
   "metadata": {},
   "outputs": [],
   "source": [
    "print(re.match(\"\\w+\\s+science\", \"data science\"))\n",
    "print(re.match(\"\\w+\\s+science\", \"life science\"))\n",
    "print(re.match(\"\\w+\\s+science\", \"0123_abcd science\"))"
   ]
  },
  {
   "cell_type": "markdown",
   "id": "e575dba2",
   "metadata": {},
   "source": [
    "你可能会注意到的一件事是正则表达式的 `r\"\"` 格式（引号前面带有 'r'）。您实际上可以使用任何字符串作为正则表达式，但由于以下原因，`r` 表达式非常方便。在典型的 Python 字符串中，反斜杠字符表示转义字符，因此例如 `\"\\\\\"` 实际上只是对单个反斜杠进行编码。但是反斜杠_也_在正则表达式中使用。因此，如果我们希望将正则表达式 `\\\\` 表示为字符串（即匹配单个反斜杠），我们需要使用字符串 `\"\\\\\\\\\"`。这很快就会变得非常难以理解。所以 `r\"\"` 符号只是_忽略_任何处理反斜杠的处理，从而使输入正则表达式更加简单。"
   ]
  },
  {
   "cell_type": "code",
   "execution_count": null,
   "id": "cafc32a0",
   "metadata": {},
   "outputs": [],
   "source": [
    "print(\"\\\\\")\n",
    "print(r\"\\\\\")"
   ]
  },
  {
   "cell_type": "markdown",
   "id": "e197fe7f",
   "metadata": {},
   "source": [
    "### 分组\n",
    "\n",
    "除了仅匹配字符串的能力之外，正则表达式还可以让您轻松找到匹配字符串的特定子元素。基本语法如下：如果我们想“记住”匹配表达式的不同部分，我们只需将正则表达式的这些部分括在括号中。例如，正则表达式 `r\"(\\w+)\\s([Ss]cience)\"` 将存储与 `groups()` 中的 `\\w+` 和 `[Ss]cience` 部分匹配的任何元素返回的对象。"
   ]
  },
  {
   "cell_type": "code",
   "execution_count": null,
   "id": "a32354bf",
   "metadata": {},
   "outputs": [],
   "source": [
    "match = re.search(r\"(\\w+)\\s([Ss]cience)\", text)\n",
    "print(match.groups())"
   ]
  },
  {
   "cell_type": "markdown",
   "id": "3f7ed43e",
   "metadata": {},
   "source": [
    "`.group(i)` 表示法还可以让您轻松找到单个的分组，`.group(0)` 是整个文本。"
   ]
  },
  {
   "cell_type": "code",
   "execution_count": null,
   "id": "9d2e11a9",
   "metadata": {},
   "outputs": [],
   "source": [
    "match = re.search(r\"(\\w+)\\s([Ss]cience)\", text)\n",
    "print(match.group(0))\n",
    "print(match.group(1))\n",
    "print(match.group(2))"
   ]
  },
  {
   "cell_type": "markdown",
   "id": "730d2ad5",
   "metadata": {},
   "source": [
    "### 替换\n",
    "\n"
   ]
  },
  {
   "cell_type": "markdown",
   "id": "856edf79",
   "metadata": {},
   "source": [
    "正则表达式还可用于自动将字符串中的一个表达式替换为另一个表达式。这是使用 `re.sub()` 调用完成的。这将返回一个字符串，其中（所有）第一个正则表达式的实例被第二个替换。例如，要将所有出现的“data science”替换为“data schmience”，我们可以使用以下代码："
   ]
  },
  {
   "cell_type": "code",
   "execution_count": null,
   "id": "fca315af",
   "metadata": {},
   "outputs": [],
   "source": [
    "print(re.sub(r\"data science\", r\"data schmience\", text))"
   ]
  },
  {
   "cell_type": "markdown",
   "id": "001f7b5e",
   "metadata": {},
   "source": [
    "当我们在第一个正则表达式中使用组时会意识到这是一个非常强大的工具。之后，我们可以在第二个组中使用 `\\1`、`\\2` 等符号对这些组进行反向引用。因此，如果我们有正则表达式 `r\"(\\w+) ([Ss])cience\"` 来匹配 \"*something* science\"（其中scinece可以大写或不大写），我们会将它替换为字符串“*something” * schmience”，保持 *something* 相同，并保持 science 的大小写相同，使用以下代码："
   ]
  },
  {
   "cell_type": "code",
   "execution_count": null,
   "id": "36f513a0",
   "metadata": {},
   "outputs": [],
   "source": [
    "print(re.sub(r\"(\\w+) ([Ss])cience\", r\"\\1 \\2chmience\", text))\n",
    "print(re.sub(r\"(\\w+) ([Ss])cience\", r\"\\1 \\2chmience\", \"Life Science\"))"
   ]
  },
  {
   "cell_type": "markdown",
   "id": "76d1b235",
   "metadata": {},
   "source": [
    "### 好用的小工具\n",
    "\n"
   ]
  },
  {
   "cell_type": "markdown",
   "id": "18fdfa12",
   "metadata": {},
   "source": [
    "**操作顺序。** 第一点是关于正则表达式的操作顺序。正则表达式中的`|`字符就像一个“或”子句，意思是正则表达式应该可以匹配字符左边或右边的字符。例如，正则表达式`r\"abc|def\"` 将匹配字符串“abc”或“def”。"
   ]
  },
  {
   "cell_type": "code",
   "execution_count": null,
   "id": "9495b633",
   "metadata": {},
   "outputs": [],
   "source": [
    "print(re.match(r\"abc|def\", \"abc\"))\n",
    "print(re.match(r\"abc|def\", \"def\"))"
   ]
  },
  {
   "cell_type": "markdown",
   "id": "a053590b",
   "metadata": {},
   "source": [
    "但是如果我们想匹配字符串“ab*(c or d)*ef”呢？"
   ]
  },
  {
   "cell_type": "code",
   "execution_count": null,
   "id": "a814b23c",
   "metadata": {},
   "outputs": [],
   "source": [
    "print(re.match(r\"abc|def\", \"abdef\"))\n",
    "print(re.match(r\"ab(c|d)ef\", \"abdef\"))"
   ]
  },
  {
   "cell_type": "markdown",
   "id": "31e0cdce",
   "metadata": {},
   "source": [
    "当然，因为我们也使用括号来指定组，这意味着我们将为这里的 *c 或 d* 字符创建一个组。虽然创建一些您不需要的组可能并不会怎样，但如果您_不_想创建这个组，您可以使用符号`r\"ab(?:c|d) ef\"`。我可以看到这个符号没有真正的逻辑，它恰好是“使用这些括号来管理操作顺序但不创建组”的简写。正则表达式充满了这样的有趣内容，虽然你可能不需要记得很清楚，但在很多的情况下会很方便。"
   ]
  },
  {
   "cell_type": "code",
   "execution_count": null,
   "id": "f93cff4b",
   "metadata": {},
   "outputs": [],
   "source": [
    "print(re.match(r\"ab(c|d)ef\", \"abdef\").groups())\n",
    "print(re.match(r\"ab(?:c|d)ef\", \"abdef\").groups())"
   ]
  },
  {
   "cell_type": "markdown",
   "id": "1a7e0e0e",
   "metadata": {},
   "source": [
    "**贪婪和懒惰匹配** 默认情况下，正则表达式将始终匹配_可能的最长字符串_。所以假设我们有正则表达式`r\"<.*>\"`（一个小于号，后跟任意数量的任何字符，后跟一个大于号）。正如您可能想象的那样，如果（以及对于此类，何时）您正在为 XML 之类的格式编写解析器，就会出现这种表达式。如果我们尝试匹配字符串“<tag>hello</tag>”，那么正则表达式将匹配_整个_字符串（因为整个字符串是一个小于号，后跟一些字符，然后是一个大于号）;它不会只匹配字符串的“<tag>”部分。这被称为“贪婪”匹配。"
   ]
  },
  {
   "cell_type": "code",
   "execution_count": null,
   "id": "c24a15db",
   "metadata": {},
   "outputs": [],
   "source": [
    "print(re.match(r\"<.*>\", \"<tag>hello</tag>\"))"
   ]
  },
  {
   "cell_type": "markdown",
   "id": "dc5ab036",
   "metadata": {},
   "source": [
    "如果你不想要这个，而是希望匹配 最短 可能的字符串，可以使用替代正则表达式 `r\"<.*?>\"`。 `*?` 表示法表示“懒惰”匹配，这将只匹配 \"<tag>\" 字符串。"
   ]
  },
  {
   "cell_type": "code",
   "execution_count": null,
   "id": "f26fc0c8",
   "metadata": {},
   "outputs": [],
   "source": [
    "print(re.match(r\"<.*?>\", \"<tag>hello</tag>\"))"
   ]
  },
  {
   "cell_type": "markdown",
   "id": "5b30c9f4",
   "metadata": {},
   "source": [
    "### 最后说明\n",
    "\n",
    "最后要注意的是，虽然浏览正则表达式的所有方面是件好事，但除非经常使用正则表达式，否则您可能不会记住它们；正则表达式的符号很密集，不太容易轻松记住。还有一些更加疯狂的结构，比如著名的正则表达式`r\".?|(..+?)\\\\1+\"` [仅匹配质数字符](https://iluxonchik.github.io /regular-expression-check-if-number-is-prime/)。\n",
    "\n",
    "如果你想用正则表达式做一些复杂的事情，应该查找文档：[https://docs.python.org/3/howto/regex.html](https://docs.python.org/3/howto/regex.html) and [https://docs.python.org/3/library/re.html](https://docs.python.org/3/library/re.html)\n",
    "这些文档将是记住有关您要使用的任何特定语法细节的最佳方式。"
   ]
  },
  {
   "cell_type": "markdown",
   "id": "b6d01dd2",
   "metadata": {},
   "source": [
    "## 参考：\n",
    "\n",
    "- [requests library](http://docs.python-requests.org/en/master/)\n",
    "- Fielding, Roy. [Representational State Transfer (REST)](http://www.ics.uci.edu/~fielding/pubs/dissertation/rest_arch_style.htm) (thesis chapter where REST was first proposed)\n",
    "- [WeFacts](http://wefacts.org) (historical weather data)\n",
    "- [Pandas library](https://pandas.pydata.org)\n",
    "- [json library](https://docs.python.org/3/library/json.html)\n",
    "- [BeautifulSoup library](https://www.crummy.com/software/BeautifulSoup/)\n",
    "- [Python Regular Expression HOWTO](https://docs.python.org/3/howto/regex.html)\n",
    "- [Python regular expression library](https://docs.python.org/3/library/re.html)"
   ]
  }
 ],
 "metadata": {
  "kernelspec": {
   "display_name": "Python 3 (ipykernel)",
   "language": "python",
   "name": "python3"
  },
  "language_info": {
   "codemirror_mode": {
    "name": "ipython",
    "version": 3
   },
   "file_extension": ".py",
   "mimetype": "text/x-python",
   "name": "python",
   "nbconvert_exporter": "python",
   "pygments_lexer": "ipython3",
   "version": "3.7.11"
  }
 },
 "nbformat": 4,
 "nbformat_minor": 5
}
