{
 "cells": [
  {
   "cell_type": "markdown",
   "id": "bb40984b",
   "metadata": {},
   "source": [
    "# 城市设计分析技术Python自学教程01\n",
    "\n",
    "### 数据类型与运算\n",
    "\n",
    "##### [计算城市设计实验室(Computational Urban Design Lab)](https://www.tjcud.cn/)"
   ]
  },
  {
   "cell_type": "markdown",
   "id": "371926d4",
   "metadata": {},
   "source": [
    "#### 1.1 部分内置的数据类型"
   ]
  },
  {
   "cell_type": "code",
   "execution_count": null,
   "id": "28845a99",
   "metadata": {
    "scrolled": false
   },
   "outputs": [],
   "source": [
    "print('部分基本的Python数据类型')\n",
    "print(type(2))           # 整数 --> int\n",
    "print(type(2.2))         # 浮点数 --> float\n",
    "print(type(2 < 2.2))     # 布尔值 --> bool\n",
    "print(type(type(42)))    # 数据类型 --> type\n",
    "\n",
    "print('#####################################################')\n",
    "\n",
    "print('一些我们会在后面用到的数据类型')\n",
    "print(type('2.2'))       # 字符串 --> str（string or text）\n",
    "print(type([1,2,3]))     # 列表 --> list \n",
    "print(type((1,2,3)))     # 元组 --> tuple\n",
    "print(type({1,2}))       # 集合 --> set\n",
    "print(type({1:42}))      # 字典 --> dict (dictionary or map)\n",
    "print(type(2+3j))        # 复数 --> complex  (complex number)"
   ]
  },
  {
   "cell_type": "markdown",
   "id": "22f7dc2a",
   "metadata": {},
   "source": [
    "#### 1.2 部分内置的常数"
   ]
  },
  {
   "cell_type": "code",
   "execution_count": 1,
   "id": "7dfd5adf",
   "metadata": {},
   "outputs": [
    {
     "name": "stdout",
     "output_type": "stream",
     "text": [
      "一些内置常数:\n",
      "True\n",
      "False\n",
      "None\n",
      "一些数学模块中的常数:\n",
      "3.141592653589793\n",
      "2.718281828459045\n"
     ]
    }
   ],
   "source": [
    "print('一些内置常数:')\n",
    "print(True)\n",
    "print(False)\n",
    "print(None)\n",
    "\n",
    "print('一些数学模块中的常数:')\n",
    "import math\n",
    "print(math.pi)\n",
    "print(math.e)"
   ]
  },
  {
   "cell_type": "markdown",
   "id": "a4f34040",
   "metadata": {},
   "source": [
    "#### 1.3 部分内置的运算符\n",
    "\n",
    "| 分类 | 运算符 |\n",
    "| --- | --- |\n",
    "| 算数 | +, -, *, /, //, **, %, - (unary), + (unary) |\n",
    "| 关系 | \t<, <=, >=, >, ==, != |\n",
    "| 赋值 | +=, -=, *=, /=, //=, **=, %=, <<=, >>= |\n",
    "| 逻辑 | and, or, not |"
   ]
  },
  {
   "cell_type": "markdown",
   "id": "375ad374",
   "metadata": {},
   "source": [
    "#### 1.4 整数的除法"
   ]
  },
  {
   "cell_type": "code",
   "execution_count": 2,
   "id": "f01b7bde",
   "metadata": {},
   "outputs": [
    {
     "name": "stdout",
     "output_type": "stream",
     "text": [
      " 用/ 运算符进行\"常规的\"除法:\n",
      " 5/3  = 1.6666666666666667\n",
      "\n",
      " 用//运算符整除:\n",
      " 5//3 = 1\n",
      " 2//3 = 0\n",
      "-1//3 = -1\n",
      "-4//3 = -2\n"
     ]
    }
   ],
   "source": [
    "print(' 用/ 运算符进行\"常规的\"除法:')\n",
    "print(' 5/3  =', ( 5/3))\n",
    "print()\n",
    "print(' 用//运算符整除:')\n",
    "print(' 5//3 =', ( 5//3))\n",
    "print(' 2//3 =', ( 2//3))\n",
    "print('-1//3 =', (-1//3))\n",
    "print('-4//3 =', (-4//3))"
   ]
  },
  {
   "cell_type": "markdown",
   "id": "1377b3e4",
   "metadata": {},
   "source": [
    "#### 1.5 模数和余数"
   ]
  },
  {
   "cell_type": "code",
   "execution_count": 3,
   "id": "83e7b38f",
   "metadata": {},
   "outputs": [
    {
     "name": "stdout",
     "output_type": "stream",
     "text": [
      " 6%3 = 0\n",
      " 5%3 = 2\n",
      " 2%3 = 2\n",
      " 0%3 = 0\n",
      "-4%3 = 2\n"
     ]
    },
    {
     "ename": "ZeroDivisionError",
     "evalue": "integer division or modulo by zero",
     "output_type": "error",
     "traceback": [
      "\u001b[1;31m---------------------------------------------------------------------------\u001b[0m",
      "\u001b[1;31mZeroDivisionError\u001b[0m                         Traceback (most recent call last)",
      "\u001b[1;32m<ipython-input-3-f85202a4c721>\u001b[0m in \u001b[0;36m<module>\u001b[1;34m\u001b[0m\n\u001b[0;32m      4\u001b[0m \u001b[0mprint\u001b[0m\u001b[1;33m(\u001b[0m\u001b[1;34m' 0%3 ='\u001b[0m\u001b[1;33m,\u001b[0m \u001b[1;33m(\u001b[0m \u001b[1;36m0\u001b[0m\u001b[1;33m%\u001b[0m\u001b[1;36m3\u001b[0m\u001b[1;33m)\u001b[0m\u001b[1;33m)\u001b[0m\u001b[1;33m\u001b[0m\u001b[1;33m\u001b[0m\u001b[0m\n\u001b[0;32m      5\u001b[0m \u001b[0mprint\u001b[0m\u001b[1;33m(\u001b[0m\u001b[1;34m'-4%3 ='\u001b[0m\u001b[1;33m,\u001b[0m \u001b[1;33m(\u001b[0m\u001b[1;33m-\u001b[0m\u001b[1;36m4\u001b[0m\u001b[1;33m%\u001b[0m\u001b[1;36m3\u001b[0m\u001b[1;33m)\u001b[0m\u001b[1;33m)\u001b[0m\u001b[1;33m\u001b[0m\u001b[1;33m\u001b[0m\u001b[0m\n\u001b[1;32m----> 6\u001b[1;33m \u001b[0mprint\u001b[0m\u001b[1;33m(\u001b[0m\u001b[1;34m' 3%0 ='\u001b[0m\u001b[1;33m,\u001b[0m \u001b[1;33m(\u001b[0m \u001b[1;36m3\u001b[0m\u001b[1;33m%\u001b[0m\u001b[1;36m0\u001b[0m\u001b[1;33m)\u001b[0m\u001b[1;33m)\u001b[0m\u001b[1;33m\u001b[0m\u001b[1;33m\u001b[0m\u001b[0m\n\u001b[0m",
      "\u001b[1;31mZeroDivisionError\u001b[0m: integer division or modulo by zero"
     ]
    }
   ],
   "source": [
    "print(' 6%3 =', ( 6%3))\n",
    "print(' 5%3 =', ( 5%3))\n",
    "print(' 2%3 =', ( 2%3))\n",
    "print(' 0%3 =', ( 0%3))\n",
    "print('-4%3 =', (-4%3))\n",
    "print(' 3%0 =', ( 3%0))"
   ]
  },
  {
   "cell_type": "markdown",
   "id": "3d7c7836",
   "metadata": {},
   "source": [
    "#### 1.6 更多模数和余数的范例 (%). 请注意 (a%b) 等同于 (a - (a//b)*b):"
   ]
  },
  {
   "cell_type": "code",
   "execution_count": null,
   "id": "b60096d5",
   "metadata": {},
   "outputs": [],
   "source": [
    "def mod(a, b):\n",
    "  return a - (a//b)*b\n",
    "\n",
    "print(41%14, mod(41,14))\n",
    "print(14%41, mod(14,41))\n",
    "print(-32%9, mod(-32,9))\n",
    "print(32%-9, mod(32,-9))"
   ]
  },
  {
   "cell_type": "markdown",
   "id": "36c5e112",
   "metadata": {},
   "source": [
    "#### 1.7 不同数据类型之间的运算"
   ]
  },
  {
   "cell_type": "code",
   "execution_count": 4,
   "id": "d2636f8b",
   "metadata": {},
   "outputs": [
    {
     "name": "stdout",
     "output_type": "stream",
     "text": [
      "6\n",
      "abcabcabc\n",
      "5\n",
      "abcdef\n"
     ]
    },
    {
     "ename": "TypeError",
     "evalue": "unsupported operand type(s) for +: 'int' and 'str'",
     "output_type": "error",
     "traceback": [
      "\u001b[1;31m---------------------------------------------------------------------------\u001b[0m",
      "\u001b[1;31mTypeError\u001b[0m                                 Traceback (most recent call last)",
      "\u001b[1;32m<ipython-input-4-560689a9ad41>\u001b[0m in \u001b[0;36m<module>\u001b[1;34m\u001b[0m\n\u001b[0;32m      3\u001b[0m \u001b[0mprint\u001b[0m\u001b[1;33m(\u001b[0m\u001b[1;36m3\u001b[0m \u001b[1;33m+\u001b[0m \u001b[1;36m2\u001b[0m\u001b[1;33m)\u001b[0m\u001b[1;33m\u001b[0m\u001b[1;33m\u001b[0m\u001b[0m\n\u001b[0;32m      4\u001b[0m \u001b[0mprint\u001b[0m\u001b[1;33m(\u001b[0m\u001b[1;34m'abc'\u001b[0m \u001b[1;33m+\u001b[0m \u001b[1;34m'def'\u001b[0m\u001b[1;33m)\u001b[0m\u001b[1;33m\u001b[0m\u001b[1;33m\u001b[0m\u001b[0m\n\u001b[1;32m----> 5\u001b[1;33m \u001b[0mprint\u001b[0m\u001b[1;33m(\u001b[0m\u001b[1;36m3\u001b[0m \u001b[1;33m+\u001b[0m \u001b[1;34m'def'\u001b[0m\u001b[1;33m)\u001b[0m \u001b[1;31m#出现错误\u001b[0m\u001b[1;33m\u001b[0m\u001b[1;33m\u001b[0m\u001b[0m\n\u001b[0m",
      "\u001b[1;31mTypeError\u001b[0m: unsupported operand type(s) for +: 'int' and 'str'"
     ]
    }
   ],
   "source": [
    "print(3 * 2)\n",
    "print(3 * 'abc')\n",
    "print(3 + 2)\n",
    "print('abc' + 'def')\n",
    "print(3 + 'def') #出现错误"
   ]
  },
  {
   "cell_type": "markdown",
   "id": "2f4cf955",
   "metadata": {},
   "source": [
    "#### 1.8 运算符顺序（优先级和结合性）"
   ]
  },
  {
   "cell_type": "code",
   "execution_count": null,
   "id": "d356dee5",
   "metadata": {},
   "outputs": [],
   "source": [
    "print('优先级:')\n",
    "print(2+3*4)  # 结果为14,而不是20\n",
    "print(5+4%3)  # 结果为6,而不是0(%与*, /,还有//有着相同的优先级)\n",
    "print(2**3*4) # 结果为32,而不是4096(**的优先级高于*, /, //,以及%)\n",
    "\n",
    "print()\n",
    "\n",
    "print('结合性:')\n",
    "print(5-4-3)   # 结果为-2,而不是4 (-的结合性为从左到右)\n",
    "print(4**3**2) # 结果为262144,而不是4096 (**的结合性为从右到左)"
   ]
  },
  {
   "cell_type": "markdown",
   "id": "6554dc56",
   "metadata": {},
   "source": [
    "#### 1.9 浮点数的近似值"
   ]
  },
  {
   "cell_type": "code",
   "execution_count": null,
   "id": "ba560c05",
   "metadata": {},
   "outputs": [],
   "source": [
    "print(0.1 + 0.1 == 0.2)        # 结果为True,但是。。。\n",
    "print(0.1 + 0.1 + 0.1 == 0.3)  # 结果为False!\n",
    "print(0.1 + 0.1 + 0.1)         # 结果为0.30000000000000004 (emmmmmm)\n",
    "print((0.1 + 0.1 + 0.1) - 0.3) # 结果为5.55111512313e-17 (很小，但不是0!)"
   ]
  },
  {
   "cell_type": "markdown",
   "id": "53fb701d",
   "metadata": {},
   "source": [
    "#### 用almostEqual函数来确认是否相等"
   ]
  },
  {
   "cell_type": "code",
   "execution_count": null,
   "id": "18ec47dd",
   "metadata": {},
   "outputs": [],
   "source": [
    "print('题目')\n",
    "d1 = 0.1 + 0.1 + 0.1\n",
    "d2 = 0.3\n",
    "print(d1 == d2)                # False(永远别用==比较浮点数!)\n",
    "\n",
    "print()\n",
    "print('解答')\n",
    "epsilon = 10**-10\n",
    "print(abs(d2 - d1) < epsilon)  # True!\n",
    "\n",
    "print()\n",
    "print('用almostEqual函数再试一次:')\n",
    "\n",
    "def almostEqual(d1, d2):\n",
    "    epsilon = 10**-10\n",
    "    return (abs(d2 - d1) < epsilon)\n",
    "\n",
    "d1 = 0.1 + 0.1 + 0.1\n",
    "d2 = 0.3\n",
    "print(d1 == d2)            # False,和之前一样，\n",
    "print(almostEqual(d1, d2)) # True,现在你得到了一个随手可用的小工具！"
   ]
  },
  {
   "cell_type": "markdown",
   "id": "9b41d826",
   "metadata": {},
   "source": [
    "#### 1.10 短路求值"
   ]
  },
  {
   "cell_type": "code",
   "execution_count": null,
   "id": "8fd904e1",
   "metadata": {},
   "outputs": [],
   "source": [
    "def yes():\n",
    "    return True\n",
    "\n",
    "def no():\n",
    "    return False\n",
    "\n",
    "def crash():\n",
    "    return 1/0 # 报错!\n",
    "\n",
    "print(no() and crash()) # 可以运行!因为and的前半部分已经为False\n",
    "print(crash() and no()) # 报错!\n",
    "print (yes() and crash()) # and前半部分正常运算，但在后半部分崩溃"
   ]
  },
  {
   "cell_type": "markdown",
   "id": "2be2f2a2",
   "metadata": {},
   "source": [
    "#### 用or运算符再来一次"
   ]
  },
  {
   "cell_type": "code",
   "execution_count": null,
   "id": "75c43778",
   "metadata": {},
   "outputs": [],
   "source": [
    "def yes():\n",
    "    return True\n",
    "\n",
    "def no():\n",
    "    return False\n",
    "\n",
    "def crash():\n",
    "    return 1/0 # 报错!\n",
    "\n",
    "print(yes() or crash()) # 可以运行!因为and的前半部分已经为True\n",
    "print(crash() or yes()) # 报错!\n",
    "print(no() or crash())  # or前半部分正常运算，但在后半部分崩溃"
   ]
  },
  {
   "cell_type": "markdown",
   "id": "4f1761db",
   "metadata": {},
   "source": [
    "#### 更多的例子"
   ]
  },
  {
   "cell_type": "code",
   "execution_count": null,
   "id": "d923f687",
   "metadata": {},
   "outputs": [],
   "source": [
    "def isPositive(n):\n",
    "    result = (n > 0)\n",
    "    print(n,'为正数:', result)\n",
    "    return result\n",
    "\n",
    "def isEven(n):\n",
    "    result = (n % 2 == 0)\n",
    "    print(n,'为偶数:', result)\n",
    "    return result\n",
    "\n",
    "print('测试1：-4是否为正数或者偶数')\n",
    "print(isEven(-4) and isPositive(-4)) # 调用了两个函数\n",
    "print('----------')\n",
    "print('测试2：-3是否为正数或者偶数')\n",
    "print(isEven(-3) and isPositive(-3)) # 只调用了一个函数"
   ]
  },
  {
   "cell_type": "markdown",
   "id": "55198b9f",
   "metadata": {},
   "source": [
    "#### 1.11 type()函数 vs isinstance()函数"
   ]
  },
  {
   "cell_type": "code",
   "execution_count": null,
   "id": "236fd072",
   "metadata": {},
   "outputs": [],
   "source": [
    "# type()函数和isinstance()函数都可以被用来检测数据类型\n",
    "# 总体而言，(isinstance(x, T))会比(type(x) == T)更加可靠\n",
    "\n",
    "print(type('abc') == str)\n",
    "print(isinstance('abc', str))\n",
    "\n",
    "# 在我们后面学习面向对象的编程以及继承时，我们会更容易理解isinstance函数更加可靠的原因 \n",
    "# 当你想检测一个数据是否为数字时时（整数，浮点数，复数等等），你可以这样做：\n",
    "\n",
    "def isNumber(x):\n",
    "    return ((type(x) == int) or\n",
    "            (type(x) == float)) # 我们是否确定这里包含了所有的数字类型？\n",
    "\n",
    "print(isNumber(1), isNumber(1.1), isNumber(1+2j), isNumber('哇哦'))\n",
    "\n",
    "# 这样会更加清晰明了，并且在面对复数的时候也可以得出正确的结果：\n",
    "\n",
    "import numbers\n",
    "def isNumber(x):\n",
    "    return isinstance(x, numbers.Number) # 可以运用在任何一种数字上\n",
    "\n",
    "print(isNumber(1), isNumber(1.1), isNumber(1+2j), isNumber('哇哦'))"
   ]
  }
 ],
 "metadata": {
  "kernelspec": {
   "display_name": "Python 3",
   "language": "python",
   "name": "python3"
  },
  "language_info": {
   "codemirror_mode": {
    "name": "ipython",
    "version": 3
   },
   "file_extension": ".py",
   "mimetype": "text/x-python",
   "name": "python",
   "nbconvert_exporter": "python",
   "pygments_lexer": "ipython3",
   "version": "3.8.10"
  }
 },
 "nbformat": 4,
 "nbformat_minor": 5
}
