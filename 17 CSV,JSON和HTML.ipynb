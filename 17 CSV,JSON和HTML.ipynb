{
 "cells": [
  {
   "cell_type": "markdown",
   "id": "dcb3ffa4",
   "metadata": {},
   "source": [
    "# 城市设计分析技术Python自学教程17\n",
    "\n",
    "### CSV,JSON和HTML\n",
    "\n",
    "##### [计算城市设计实验室(Computational Urban Design Lab)](https://www.tjcud.cn/)"
   ]
  },
  {
   "cell_type": "markdown",
   "id": "55f50ddb",
   "metadata": {},
   "source": [
    "### CSV files\n",
    "\n",
    "“CSV”（逗号分隔值）这一名称实际上有些用词不当：因为它不仅指逗号分隔的值，还可以指被其他符号等分隔的文本文件（例如，字段可以由空格或制表符或任何其他字符分隔）。让我们看看以下描述某机场附近天气数据的数据文件："
   ]
  },
  {
   "cell_type": "markdown",
   "id": "8d6cead2",
   "metadata": {},
   "source": [
    "ZTime,Time,OAT,DT,SLP,WD,WS,SKY,PPT,PPT6,Plsr.Event,Plsr.Source\n",
    "20170820040000,20170820000000,178,172,10171,0,0,0,0,-9999,,\n",
    "20170820050000,20170820010000,178,172,10177,0,0,0,0,-9999,,\n",
    "20170820060000,20170820020000,167,161,10181,0,0,0,0,-9999,,\n",
    "20170820070000,20170820030000,161,161,10182,0,0,4,0,-9999,,\n",
    "20170820080000,20170820040000,156,156,10186,180,15,-9999,0,-9999,,\n",
    "20170820090000,20170820050000,161,161,10192,0,0,9,0,-9999,,\n",
    "20170820100000,20170820060000,156,156,10196,0,0,9,0,-9999,,\n",
    "20170820110000,20170820070000,150,150,-9999,0,0,-9999,0,-9999,,\n",
    "..."
   ]
  },
  {
   "cell_type": "markdown",
   "id": "7a533eb4",
   "metadata": {},
   "source": [
    "要在 Python 中解析 CSV 文件，最常用的库是 [Pandas](https://pandas.pydata.org/)，我们可以使用以下代码加载数据："
   ]
  },
  {
   "cell_type": "code",
   "execution_count": null,
   "id": "80e97131",
   "metadata": {},
   "outputs": [],
   "source": [
    "import pandas as pd\n",
    "dataframe = pd.read_csv(\"18 weather.csv\", delimiter=\",\", quotechar='\"')\n",
    "dataframe.head()"
   ]
  },
  {
   "cell_type": "markdown",
   "id": "bbfddac1",
   "metadata": {},
   "source": [
    "我们在这里实际上不需要`delimiter` 或`quotechar` 参数，因为delimiter 的默认参数就是逗号（与此CSV 文件相符合），但是你可以向这个函数传递一个额外的参数来使用不同的分隔符。但这样可能出现的问题是，使用的CSV文件中的数值也可能包含此分隔符；为了解决这个问题，你可以用 `quotechar` 字符将包含分隔符的数值括起来。由于我们这里的文件不包含引号，所以我们并不需要解决这个问题，但它在处理 CSV 文件时很常见。最后要注意的一点是，默认情况下，文件的第一行是一个标题行，列出了文件中每一列的名称。如果这不在文件中，那么你可以使用附加的 `header=None` 参数加载数据。"
   ]
  },
  {
   "cell_type": "markdown",
   "id": "65fd3a9d",
   "metadata": {},
   "source": [
    "### JSON 数据\n",
    "\n",
    "尽管最初构建为适用于 Javascript 语言的数据格式，但 JSON（Javascript 对象表示法）是另一种非常常见的数据共享方式。我们已经在上面的 GitHub API 示例中看到了它，简略而言，JSON 允许存储几种不同的数据类型：\n",
    "\n",
    "- 数字：例如`1.0`，整数或浮点数，但通常总是被解析为浮点数\n",
    "- 布尔值：`true` 或 `false`（或 `null`）\n",
    "- 字符串：用双引号括起来的 `\"string\"` 字符（需要将 `\"` 字符转义为 `\\\"`）\n",
    "- 数组（列表）：`[item1, item2, item3]` 项目列表，其中 item 是任何描述的数据类型\n",
    "- 对象（字典）：`{\"key1\":item1, \"key2\":item2}`，其中键是字符串，而 item 可以任何数据类型\n",
    "\n",
    "请注意，列表和字典可以相互嵌套，例如\n",
    "\n",
    "    {\"key1\":[1.0, 2.0, {\"key2\":\"test\"}], \"key3\":false}\n",
    "\n",
    "这是一个有效的 JSON 数据。\n",
    "\n",
    "让我们看看上面 GitHub API 返回的完整 JSON："
   ]
  },
  {
   "cell_type": "code",
   "execution_count": null,
   "id": "906c1bef",
   "metadata": {},
   "outputs": [],
   "source": [
    "import requests\n",
    "response = requests.get(\"https://api.github.com/user\", auth=(\"zkolter\", \"github_password\"))\n",
    "print(response.status_code)\n",
    "print(response.content)"
   ]
  },
  {
   "cell_type": "markdown",
   "id": "9e00d17c",
   "metadata": {},
   "source": [
    "我们已经看到我们可以使用 `response.json()` 将其转换为 Python 字典，但更常见的是使用 Python 标准库中的 `json` 库：文档页面  [这里](https://docs.python.org/3/library/json.html).  要将我们的 GitHub 响应手动转换为 Python 字典，我们可以使用 `json.loads()`（加载字符串）函数，如下所示。"
   ]
  },
  {
   "cell_type": "code",
   "execution_count": null,
   "id": "aded2f86",
   "metadata": {},
   "outputs": [],
   "source": [
    "import json\n",
    "print(json.loads(response.content))"
   ]
  },
  {
   "cell_type": "markdown",
   "id": "1636d475",
   "metadata": {},
   "source": [
    "如果你将数据作为文件（即，作为使用 Python `open()` 命令打开的文件描述符），则可以改用 `json.load()` 函数。要将 Python 字典转换为 JSON 对象，你应该使用 `json.dumps()` 命令，如下所示。"
   ]
  },
  {
   "cell_type": "code",
   "execution_count": null,
   "id": "18ef0245",
   "metadata": {},
   "outputs": [],
   "source": [
    "data = {\"a\":[1,2,3,{\"b\":2.1}], 'c':4}\n",
    "json.dumps(data)"
   ]
  },
  {
   "cell_type": "markdown",
   "id": "5dda22a7",
   "metadata": {},
   "source": [
    "请注意，与 JSON 不同，Python 代码可以包含单引号来表示字符串，但将其转换为 JSON 会将其替换为双引号。最后，如果你尝试转储包含 JSON 无法表示的类型的对象，则会引发错误。"
   ]
  },
  {
   "cell_type": "code",
   "execution_count": null,
   "id": "2ae79fe9",
   "metadata": {},
   "outputs": [],
   "source": [
    "json.dumps(response)"
   ]
  },
  {
   "cell_type": "markdown",
   "id": "90ef4ed8",
   "metadata": {},
   "source": [
    "### XML/HTML\n",
    "\n",
    "最后，你可能会编码的另一种格式是 XML/HTML 文档，虽然 XML 似乎正在失去作为 API 和数据文件的通用格式，并一步一步被 JSON取代，其主要是因为 JSON 更容易解析。 XML 文件包含由标签描述的分层内容，如下所示："
   ]
  },
  {
   "cell_type": "markdown",
   "id": "4c4c8fce",
   "metadata": {},
   "source": [
    "<tag attribute=\"value\">\n",
    "    <subtag>\n",
    "        Some content for the subtag\n",
    "    </subtag>\n",
    "    <openclosetag attribute=\"value2\"/>\n",
    "</tag>"
   ]
  },
  {
   "cell_type": "markdown",
   "id": "abf04377",
   "metadata": {},
   "source": [
    "XML 包含由方括号表示的“打开”标签，例如 `<tag>`，然后由相应的“关闭”标签 `</tag>` 关闭。标签可以嵌套，并可能具有特殊属性，形式为`attribute_name=\"attribute_value\"`。最后，还有“打开/关闭”标签，它们不包含任何包含的内容，用`<openclosetag/>` 表示。\n",
    "\n",
    "HTML是描述网页的标准，在语法上可能看起来与 XML 相似，但很难正确解析（比如开放标签可能没有关闭标签等）。一般来说，使用HTML 的目的是为网页显示内容，而不是组织数据，因此存在许多无效结构（如前面提到的打开而不关闭），其成为标准只是因为人们习惯于实践中使用它，因此它的数据格式也得到了不断发展。在大多数情况下，你将使用某些 Python 库来对HTML进行解析，其中一个特别好的是 [BeautifulSoup](https://www.crummy.com/software/BeautifulSoup/)。BeautifulSoup实际上是为解析 HTML 编写的（它是抓取网页的常用工具），但它也适用于结构化程度更高的 XML 格式。"
   ]
  },
  {
   "cell_type": "code",
   "execution_count": null,
   "id": "6645d4af",
   "metadata": {},
   "outputs": [],
   "source": [
    "from bs4 import BeautifulSoup\n",
    "\n",
    "root = BeautifulSoup(\"\"\"\n",
    "<tag attribute=\"value\">\n",
    "    <subtag>\n",
    "        Some content for the subtag\n",
    "    </subtag>\n",
    "    <openclosetag attribute=\"value2\"/>\n",
    "    <subtag>\n",
    "        Second one\n",
    "    </subtag>\n",
    "</tag>\n",
    "\"\"\", \"lxml-xml\")\n",
    "\n",
    "print(root, \"\\n\")\n",
    "print(root.tag.subtag, \"\\n\")\n",
    "print(root.tag.openclosetag.attrs)"
   ]
  },
  {
   "cell_type": "markdown",
   "id": "6a54930d",
   "metadata": {},
   "source": [
    "调用`BeautifulSoup()` 来创建要解析的对象，其中第二个参数将指定解析器（“lxml-xml”表示它实际上是 XML 数据，而“lxml”是用于解析 HTML 文件的更常见的解析器）。如上所示，当数据的分层结构较为简单时，比如说此处“标签”后跟一个“子标签”（默认情况下这将返回第一个这样的标签），或者只有一个“打开/关闭”时，你可以简单地通过 BeautifulSoup 对象的类似结构布局访问各个部分层次。当有多个与层次级别同名的标签时，这将变得更加棘手。在这种情况下，你可以使用 `find_all` 函数，该函数返回所有同名子标签的列表，比如找到所有叫\"subtag\"的子标签。"
   ]
  },
  {
   "cell_type": "code",
   "execution_count": null,
   "id": "c27765b2",
   "metadata": {},
   "outputs": [],
   "source": [
    "print(root.tag.find_all(\"subtag\"))"
   ]
  },
  {
   "cell_type": "markdown",
   "id": "7c404e9f",
   "metadata": {},
   "source": [
    "`find_all` 函数的好处是你可以在数据的前几层调用它，而它会遍历整个文档。这让我们可以很容易地得到想要的结果。"
   ]
  },
  {
   "cell_type": "code",
   "execution_count": null,
   "id": "6554be45",
   "metadata": {},
   "outputs": [],
   "source": [
    "print(root.find_all(\"subtag\"))"
   ]
  }
 ],
 "metadata": {
  "kernelspec": {
   "display_name": "Python 3 (ipykernel)",
   "language": "python",
   "name": "python3"
  },
  "language_info": {
   "codemirror_mode": {
    "name": "ipython",
    "version": 3
   },
   "file_extension": ".py",
   "mimetype": "text/x-python",
   "name": "python",
   "nbconvert_exporter": "python",
   "pygments_lexer": "ipython3",
   "version": "3.7.11"
  }
 },
 "nbformat": 4,
 "nbformat_minor": 5
}
