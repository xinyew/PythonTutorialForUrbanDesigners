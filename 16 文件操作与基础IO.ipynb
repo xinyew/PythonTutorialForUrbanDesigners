{
 "cells": [
  {
   "cell_type": "markdown",
   "id": "d3125239",
   "metadata": {},
   "source": [
    "# 城市设计分析技术Python自学教程16\n",
    "\n",
    "### 文件操作与基础IO\n",
    "\n",
    "##### [计算城市设计实验室(Computational Urban Design Lab)](https://www.tjcud.cn/)"
   ]
  },
  {
   "cell_type": "markdown",
   "id": "adedd190",
   "metadata": {},
   "source": [
    "#### 16.1 基本演示"
   ]
  },
  {
   "cell_type": "code",
   "execution_count": null,
   "id": "f00c71f9",
   "metadata": {},
   "outputs": [],
   "source": [
    "def readFile(path):\n",
    "    with open(path, \"rt\") as f:\n",
    "        return f.read()\n",
    "\n",
    "def writeFile(path, contents):\n",
    "    with open(path, \"wt\") as f:\n",
    "        f.write(contents)\n",
    "\n",
    "contentsToWrite = \"这是一个测试!\\n只是个测试!\"\n",
    "writeFile(\"测试.txt\", contentsToWrite)\n",
    "\n",
    "contentsRead = readFile(\"测试.txt\")\n",
    "assert(contentsRead == contentsToWrite)\n",
    "\n",
    "print(\"打开文件 测试.txt 并验证其内容.\")"
   ]
  },
  {
   "cell_type": "markdown",
   "id": "97213369",
   "metadata": {},
   "source": [
    "#### 16.2 文件系统导航\n"
   ]
  },
  {
   "cell_type": "markdown",
   "id": "6cd1c8c8",
   "metadata": {},
   "source": [
    "文件夹可以包含次级文件夹和文件。由于文件夹可以包含其他文件夹，因此它们是一种递归数据结构。事实上，它们是一种称为树的递归结构（其中每个值只有一个父值，并且有一个最顶层或“根”值）。遍历这样的递归数据结构是递归算法的自然使用！\n",
    "\n",
    "下方的程序仅在本地运行，并且要求您首先在与您运行的 Python 文件相同的文件夹中下载并展开 sampleFiles.zip。\n",
    "\n",
    "SmapleFiles.zip下载链接：链接: https://pan.baidu.com/s/1T2MGYIoyN_VD9jDdoJT_Rg  密码: r7np"
   ]
  },
  {
   "cell_type": "markdown",
   "id": "1979d405",
   "metadata": {},
   "source": [
    "#### 16.3 打印文件名"
   ]
  },
  {
   "cell_type": "code",
   "execution_count": null,
   "id": "40898cf4",
   "metadata": {},
   "outputs": [],
   "source": [
    "import os\n",
    "def printFiles(path):\n",
    "    # 基准条件: 是一个文件. 直接打印出路径名称.\n",
    "    if os.path.isfile(path):\n",
    "        print(path)\n",
    "    else:\n",
    "        # 递归条件: 是一个文件夹. 遍历其中的所有文件和文件夹.\n",
    "        for filename in os.listdir(path):\n",
    "            printFiles(path + '/' + filename)\n",
    "\n",
    "printFiles('sampleFiles')\n",
    "\n",
    "# 注意：如果您在 sampleFiles 文件夹或函数的输出中看到 .DS_Store 文件（尤其是在 Mac 上经常发生），\n",
    "# 别担心：这只是一个元数据文件，可以安全地忽略。"
   ]
  },
  {
   "cell_type": "markdown",
   "id": "e103b633",
   "metadata": {},
   "source": [
    "#### 16.4 文件列表"
   ]
  },
  {
   "cell_type": "code",
   "execution_count": null,
   "id": "fe0ea9cc",
   "metadata": {},
   "outputs": [],
   "source": [
    "import os\n",
    "def listFiles(path):\n",
    "    if os.path.isfile(path):\n",
    "        # 基准条件: 返回一个只包含此文件名的列表\n",
    "        return [ path ]\n",
    "    else:\n",
    "        # 递归条件: 创建一个递归遍历了此文件夹中所有文件和文件夹的列表\n",
    "        files = [ ]\n",
    "        for filename in os.listdir(path):\n",
    "            files += listFiles(path + '/' + filename)\n",
    "        return files\n",
    "\n",
    "print(listFiles('sampleFiles'))"
   ]
  },
  {
   "cell_type": "markdown",
   "id": "0e0dcc15",
   "metadata": {},
   "source": [
    "#### 16.5 移除文件\n",
    "\n",
    "注意：使用 os.remove() 时要小心：它是永久性的，无法撤消！"
   ]
  },
  {
   "cell_type": "code",
   "execution_count": null,
   "id": "42794bfa",
   "metadata": {},
   "outputs": [],
   "source": [
    "import os\n",
    "def removeTempFiles(path, suffix='.DS_Store'):\n",
    "    if path.endswith(suffix):\n",
    "        print(f'Removing file: {path}')\n",
    "        os.remove(path)\n",
    "    elif os.path.isdir(path):\n",
    "        for filename in os.listdir(path):\n",
    "            removeTempFiles(path + '/' + filename, suffix)\n",
    "\n",
    "removeTempFiles('sampleFiles')"
   ]
  }
 ],
 "metadata": {
  "kernelspec": {
   "display_name": "Python 3 (ipykernel)",
   "language": "python",
   "name": "python3"
  },
  "language_info": {
   "codemirror_mode": {
    "name": "ipython",
    "version": 3
   },
   "file_extension": ".py",
   "mimetype": "text/x-python",
   "name": "python",
   "nbconvert_exporter": "python",
   "pygments_lexer": "ipython3",
   "version": "3.7.11"
  }
 },
 "nbformat": 4,
 "nbformat_minor": 5
}
