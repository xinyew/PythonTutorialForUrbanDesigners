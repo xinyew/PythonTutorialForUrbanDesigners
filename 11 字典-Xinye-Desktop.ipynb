{
 "cells": [
  {
   "cell_type": "markdown",
   "id": "f20f6074",
   "metadata": {},
   "source": [
    "# 城市设计分析技术Python自学教程11\n",
    "\n",
    "### 字典\n",
    "\n",
    "##### [计算城市设计实验室(Computational Urban Design Lab)](https://www.tjcud.cn/)"
   ]
  },
  {
   "cell_type": "markdown",
   "id": "ae9eabfc",
   "metadata": {},
   "source": [
    "#### 11.1 先来个简单的例子"
   ]
  },
  {
   "cell_type": "code",
   "execution_count": 6,
   "id": "b55f27f1",
   "metadata": {},
   "outputs": [
    {
     "name": "stdout",
     "output_type": "stream",
     "text": [
      "输入一个省会城市名称 --> 南京\n",
      "南京 是 安徽 省的省会\n"
     ]
    }
   ],
   "source": [
    "# 字典是一种将关键字映射到元素的数据结构，就像列表将索引映射到元素一样。\n",
    "# 但是，关键字可以是任何不可变的值！\n",
    "\n",
    "provinceMap = { '成都':'四川', '武汉':'湖北', '长沙':'湖南', '南京':'安徽' }\n",
    "city = input(\"输入一个省会城市名称 --> \")\n",
    "if (city in provinceMap):\n",
    "    print(city.title(), \"是\", provinceMap[city],\"省的省会\")\n",
    "else:\n",
    "    print(\"不好意思，我们没听说过这个城市.\")"
   ]
  },
  {
   "cell_type": "markdown",
   "id": "90313ac2",
   "metadata": {},
   "source": [
    "#### 再来个例子:"
   ]
  },
  {
   "cell_type": "code",
   "execution_count": 8,
   "id": "c038f33d",
   "metadata": {},
   "outputs": [
    {
     "name": "stdout",
     "output_type": "stream",
     "text": [
      "请输入整数 (输入0来结束程序) --> 1\n",
      "我已经见过 1 1 次了\n",
      "请输入整数 (输入0来结束程序) --> 1\n",
      "我已经见过 1 2 次了\n",
      "请输入整数 (输入0来结束程序) --> 1\n",
      "我已经见过 1 3 次了\n",
      "请输入整数 (输入0来结束程序) --> 1\n",
      "我已经见过 1 4 次了\n",
      "请输入整数 (输入0来结束程序) --> 1\n",
      "我已经见过 1 5 次了\n",
      "请输入整数 (输入0来结束程序) --> 1\n",
      "我已经见过 1 6 次了\n",
      "请输入整数 (输入0来结束程序) --> \n"
     ]
    },
    {
     "ename": "ValueError",
     "evalue": "invalid literal for int() with base 10: ''",
     "output_type": "error",
     "traceback": [
      "\u001b[1;31m---------------------------------------------------------------------------\u001b[0m",
      "\u001b[1;31mValueError\u001b[0m                                Traceback (most recent call last)",
      "\u001b[1;32m<ipython-input-8-1c5bd5bdeef4>\u001b[0m in \u001b[0;36m<module>\u001b[1;34m\u001b[0m\n\u001b[0;32m      1\u001b[0m \u001b[0mcounts\u001b[0m \u001b[1;33m=\u001b[0m \u001b[0mdict\u001b[0m\u001b[1;33m(\u001b[0m\u001b[1;33m)\u001b[0m\u001b[1;33m\u001b[0m\u001b[1;33m\u001b[0m\u001b[0m\n\u001b[0;32m      2\u001b[0m \u001b[1;32mwhile\u001b[0m \u001b[1;32mTrue\u001b[0m\u001b[1;33m:\u001b[0m\u001b[1;33m\u001b[0m\u001b[1;33m\u001b[0m\u001b[0m\n\u001b[1;32m----> 3\u001b[1;33m     \u001b[0mn\u001b[0m \u001b[1;33m=\u001b[0m \u001b[0mint\u001b[0m\u001b[1;33m(\u001b[0m\u001b[0minput\u001b[0m\u001b[1;33m(\u001b[0m\u001b[1;34m\"请输入整数 (输入0来结束程序) --> \"\u001b[0m\u001b[1;33m)\u001b[0m\u001b[1;33m)\u001b[0m\u001b[1;33m\u001b[0m\u001b[1;33m\u001b[0m\u001b[0m\n\u001b[0m\u001b[0;32m      4\u001b[0m     \u001b[1;32mif\u001b[0m \u001b[1;33m(\u001b[0m\u001b[0mn\u001b[0m \u001b[1;33m==\u001b[0m \u001b[1;36m0\u001b[0m\u001b[1;33m)\u001b[0m\u001b[1;33m:\u001b[0m \u001b[1;32mbreak\u001b[0m\u001b[1;33m\u001b[0m\u001b[1;33m\u001b[0m\u001b[0m\n\u001b[0;32m      5\u001b[0m     \u001b[1;32mif\u001b[0m \u001b[1;33m(\u001b[0m\u001b[0mn\u001b[0m \u001b[1;32min\u001b[0m \u001b[0mcounts\u001b[0m\u001b[1;33m)\u001b[0m\u001b[1;33m:\u001b[0m\u001b[1;33m\u001b[0m\u001b[1;33m\u001b[0m\u001b[0m\n",
      "\u001b[1;31mValueError\u001b[0m: invalid literal for int() with base 10: ''"
     ]
    }
   ],
   "source": [
    "counts = dict()\n",
    "while True:\n",
    "    n = int(input(\"请输入整数 (输入0来结束程序) --> \"))\n",
    "    if (n == 0): break\n",
    "    if (n in counts):\n",
    "        counts[n] += 1\n",
    "    else:\n",
    "        counts[n] = 1\n",
    "    print(\"我已经见过\", n, counts[n], \"次了\")\n",
    "print(\"Done, counts:\", counts)"
   ]
  },
  {
   "cell_type": "markdown",
   "id": "61d4343d",
   "metadata": {},
   "source": [
    "# 10.2 创建字典\n",
    "#### 创建一个空列表"
   ]
  },
  {
   "cell_type": "code",
   "execution_count": null,
   "id": "780a15ed",
   "metadata": {},
   "outputs": [],
   "source": [
    "d = dict()\n",
    "print(d)    # 打印出 {}\n",
    "\n",
    "# 我们也可以用空的大括号来创建\n",
    "d = { }\n",
    "print(d)    # prints {}"
   ]
  },
  {
   "cell_type": "markdown",
   "id": "ed3d1f25",
   "metadata": {},
   "source": [
    "#### 从一对对的 （关键字，数值）来创建字典"
   ]
  },
  {
   "cell_type": "code",
   "execution_count": 9,
   "id": "cbda1de6",
   "metadata": {},
   "outputs": [
    {
     "name": "stdout",
     "output_type": "stream",
     "text": [
      "{'猫猫': 5, '狗狗': 98, '牛牛': 1}\n"
     ]
    }
   ],
   "source": [
    "pairs = [(\"猫猫\", 5), (\"狗狗\", 98), (\"牛牛\", 1)]\n",
    "d = dict(pairs)\n",
    "print(d)    # 顺序同样不可预测！"
   ]
  },
  {
   "cell_type": "markdown",
   "id": "596503ee",
   "metadata": {},
   "source": [
    "#### 静态分配数值"
   ]
  },
  {
   "cell_type": "code",
   "execution_count": null,
   "id": "58ce14b7",
   "metadata": {},
   "outputs": [],
   "source": [
    "d = { \"猫猫\":5, \"狗狗\":98, \"牛牛\":1 }\n",
    "print(d)    # 同上!"
   ]
  },
  {
   "cell_type": "markdown",
   "id": "bc04702f",
   "metadata": {},
   "source": [
    "#### 10.3 使用字典"
   ]
  },
  {
   "cell_type": "code",
   "execution_count": null,
   "id": "c571fe05",
   "metadata": {},
   "outputs": [],
   "source": [
    "# 我们可以用列表/集合类似的方法来进行字典的相关操作\n",
    "d = { \"a\" : 1, \"b\" : 2, \"c\" : 3 }\n",
    "\n",
    "print(len(d)) # 打印出3，是（关键字，数值）对的个数\n",
    "\n",
    "print(\"a\" in d) # 打印出 True\n",
    "print(2 in d) # 打印出 False - 只是检查关键字而不是数值\n",
    "print(2 not in d) # 打印出 True\n",
    "print(\"a\" not in d) # 打印出 False\n",
    "\n",
    "print(d[\"a\"]) # \n",
    "print(d.get(\"z\", 42)) # 如果关键字在d中，则查找关键字对应的值，如果关键字不在 d 中，则返回第二个（默认）值\n",
    "\n",
    "d[\"e\"] = \"wow\" # 将新的关键字和对应的值添加到字典中，或更新当前关键字对应的值\n",
    "del d[\"e\"] # 从字典中删除指定的关键字和数值对。如果关键字不在 d 中，则报错\n",
    "\n",
    "for key in d:\n",
    "    print(key, d[key]) # 我们可以遍历键，然后打印出键或相应的值"
   ]
  },
  {
   "cell_type": "markdown",
   "id": "d461b3cf",
   "metadata": {},
   "source": [
    "#### 10.4 字典的属性\n",
    "#### 字典将对应的值映射到关键字上"
   ]
  },
  {
   "cell_type": "code",
   "execution_count": null,
   "id": "8eb64d1e",
   "metadata": {},
   "outputs": [],
   "source": [
    "d = dict()\n",
    "d[2] = 100\n",
    "d[4] = 200\n",
    "d[8] = 300\n",
    "print(d)  # 打印顺序无法预测"
   ]
  },
  {
   "cell_type": "markdown",
   "id": "0e8a3774",
   "metadata": {},
   "source": [
    "#### 关键字必须是唯一的"
   ]
  },
  {
   "cell_type": "code",
   "execution_count": null,
   "id": "2b9fa54e",
   "metadata": {},
   "outputs": [],
   "source": [
    "d = dict()\n",
    "d[2] = 100\n",
    "d[2] = 200\n",
    "d[2] = 400\n",
    "print(d)  # { 2:400 }"
   ]
  },
  {
   "cell_type": "markdown",
   "id": "a5899eb3",
   "metadata": {},
   "source": [
    "#### 关键字必须是不可变的"
   ]
  },
  {
   "cell_type": "code",
   "execution_count": null,
   "id": "dc13a732",
   "metadata": {},
   "outputs": [],
   "source": [
    "d = dict()\n",
    "a = [1] # 列表是可变的，所以...\n",
    "d[a] = 42 # 报错： Error: unhashable type: 'list'"
   ]
  },
  {
   "cell_type": "markdown",
   "id": "900bbad5",
   "metadata": {},
   "source": [
    "#### 对应的数值没有限制"
   ]
  },
  {
   "cell_type": "code",
   "execution_count": null,
   "id": "24b47487",
   "metadata": {},
   "outputs": [],
   "source": [
    "# 数值可以是可变的\n",
    "d = dict()\n",
    "a = [1,2]\n",
    "d[\"fred\"] = a\n",
    "print(d[\"fred\"])\n",
    "a += [3]\n",
    "print(d[\"fred\"]) # 看看 a的变化!\n",
    "\n",
    "# 但是关键字必须是不可变的\n",
    "d[a] = 42       # 报错： TypeError: unhashable type: 'list'"
   ]
  },
  {
   "cell_type": "markdown",
   "id": "4cd3f4bf",
   "metadata": {},
   "source": [
    "#### 字典的运行效率也非常高\n",
    "如上所述，字典的关键字被存储为一个集合。这意味着找到存储密钥的位置需要的时间是固定的。这让我们也可以在固定时间内基于关键字查找字典的值！"
   ]
  },
  {
   "cell_type": "markdown",
   "id": "0436b66a",
   "metadata": {},
   "source": [
    "#### 10.5 一些字典的应用案例"
   ]
  },
  {
   "cell_type": "markdown",
   "id": "80b166fe",
   "metadata": {},
   "source": [
    "#### isAnagram(s1, s2)\n",
    "#### 现在我们用字典重新写这个例子."
   ]
  },
  {
   "cell_type": "code",
   "execution_count": null,
   "id": "21836e90",
   "metadata": {},
   "outputs": [],
   "source": [
    "from collections import defaultdict\n",
    "\n",
    "#: 方案 1: 以d[key]=0作为初始化的方式:\n",
    "def letterCounts(s):\n",
    "    counts = dict()\n",
    "    for ch in s.upper():\n",
    "        if ch.isalpha():\n",
    "            if ch not in counts:\n",
    "                counts[ch] = 0\n",
    "            counts[ch] += 1\n",
    "    return counts\n",
    "\n",
    "# 方案 2: 使用 d.get(key, defaultValue):\n",
    "def letterCounts(s):\n",
    "    counts = dict()\n",
    "    for ch in s.upper():\n",
    "        if ch.isalpha():\n",
    "            counts[ch] = counts.get(ch, 0) + 1\n",
    "    return counts\n",
    "\n",
    "# 方案 3: 使用 defaultdict(lambda: defaultValue)函数\n",
    "def letterCounts(s):\n",
    "    counts = defaultdict(lambda: 0)\n",
    "    for ch in s.upper():\n",
    "        if ch.isalpha():\n",
    "            counts[ch] += 1\n",
    "    return counts\n",
    "\n",
    "# 无论如何，这使得 isAnagram 更加清晰而高效：\n",
    "def isAnagram(s1, s2):\n",
    "    return (letterCounts(s1) == letterCounts(s2))\n",
    "\n",
    "def testIsAnagram():\n",
    "    print(\"Testing isAnagram()...\", end=\"\")\n",
    "    assert(isAnagram(\"\", \"\") == True)\n",
    "    assert(isAnagram(\"abCdabCd\", \"abcdabcd\") == True)\n",
    "    assert(isAnagram(\"abcdaBcD\", \"AAbbcddc\") == True)\n",
    "    assert(isAnagram(\"abcdaabcd\", \"aabbcddcb\") == False)\n",
    "    print(\"Passed!\")\n",
    "\n",
    "testIsAnagram()"
   ]
  },
  {
   "cell_type": "markdown",
   "id": "6746c23d",
   "metadata": {},
   "source": [
    "#### mostFrequent(L)"
   ]
  },
  {
   "cell_type": "code",
   "execution_count": null,
   "id": "dfb2ccb8",
   "metadata": {},
   "outputs": [],
   "source": [
    "def mostFrequent(L):\n",
    "    # 返回出现频率最高的数值，如果出现平分就随便输出其中一个\n",
    "    maxValue = None\n",
    "    maxCount = 0\n",
    "    counts = dict()\n",
    "    for element in L:\n",
    "        count = 1 + counts.get(element, 0)\n",
    "        counts[element] = count\n",
    "        if (count > maxCount):\n",
    "            maxCount = count\n",
    "            maxValue = element\n",
    "    return maxValue\n",
    "\n",
    "def testMostFrequent():\n",
    "    print(\"测试 mostFrequent()... \", end=\"\")\n",
    "    assert(mostFrequent([2,5,3,4,6,4,2,4,5]) == 4)\n",
    "    assert(mostFrequent([2,3,4,3,5,3,6,3,7]) == 3)\n",
    "    assert(mostFrequent([42]) == 42)\n",
    "    assert(mostFrequent([]) == None)\n",
    "    print(\"通过!\")\n",
    "\n",
    "testMostFrequent()"
   ]
  },
  {
   "cell_type": "markdown",
   "id": "fbe4a626",
   "metadata": {},
   "source": [
    "#### mostPopularNames()"
   ]
  },
  {
   "cell_type": "code",
   "execution_count": null,
   "id": "c260268e",
   "metadata": {},
   "outputs": [],
   "source": [
    "# 数据来源:\n",
    "# https://www.ssa.gov/oact/babynames/decades/century.html\n",
    "\n",
    "mostPopularNamesData = '''\\\n",
    "1    James   4,735,694   Mary    3,265,105\n",
    "2   John    4,502,387   Patricia    1,560,897\n",
    "3   Robert  4,499,901   Jennifer    1,467,664\n",
    "4   Michael 4,330,025   Linda   1,448,309\n",
    "5   William 3,601,719   Elizabeth   1,428,981\n",
    "6   David   3,563,170   Barbara 1,402,428\n",
    "7   Richard 2,467,544   Susan   1,104,407\n",
    "8   Joseph  2,352,889   Jessica 1,045,519\n",
    "9   Thomas  2,160,330   Sarah   993,847\n",
    "10  Charles 2,106,078   Karen   985,728\n",
    "11  Christopher 2,032,843   Nancy   969,544\n",
    "12  Daniel  1,889,640   Lisa    965,003\n",
    "13  Matthew 1,600,285   Margaret    944,344\n",
    "14  Anthony 1,403,920   Betty   938,638\n",
    "15  Donald  1,348,220   Sandra  873,609\n",
    "16  Mark    1,346,509   Ashley  847,504\n",
    "17  Paul    1,286,846   Dorothy 847,468\n",
    "18  Steven  1,281,302   Kimberly    838,235\n",
    "19  Andrew  1,252,016   Emily   826,262\n",
    "20  Kenneth 1,226,558   Donna   823,285\n",
    "21  Joshua  1,214,872   Michelle    811,401\n",
    "22  Kevin   1,172,372   Carol   807,303\n",
    "23  Brian   1,166,797   Amanda  772,882\n",
    "24  George  1,159,331   Melissa 753,157\n",
    "25  Edward  1,097,742   Deborah 739,809\n",
    "26  Ronald  1,073,062   Stephanie   738,123\n",
    "27  Timothy 1,069,165   Rebecca 729,683\n",
    "28  Jason   1,035,285   Laura   721,299\n",
    "29  Jeffrey 975,104 Sharon  720,816\n",
    "30  Ryan    937,629 Cynthia 705,685\n",
    "31  Jacob   925,412 Kathleen    689,366\n",
    "32  Gary    899,858 Amy 680,682\n",
    "33  Nicholas    891,818 Shirley 668,154\n",
    "34  Eric    877,492 Angela  658,437\n",
    "35  Jonathan    844,121 Helen   652,923\n",
    "36  Stephen 840,005 Anna    629,400\n",
    "37  Larry   802,430 Brenda  606,286\n",
    "38  Justin  777,285 Pamela  592,694\n",
    "39  Scott   769,663 Nicole  588,265\n",
    "40  Brandon 759,155 Samantha    576,029\n",
    "41  Benjamin    730,425 Katherine   574,858\n",
    "42  Samuel  710,086 Emma    570,150\n",
    "43  Frank   707,244 Ruth    563,391\n",
    "44  Gregory 706,987 Christine   563,333\n",
    "45  Raymond 679,913 Catherine   550,466\n",
    "46  Alexander   666,982 Debra   548,279\n",
    "47  Patrick 663,725 Rachel  546,309\n",
    "48  Jack    637,347 Carolyn 542,250\n",
    "49  Dennis  611,319 Janet   541,277\n",
    "50  Jerry   602,696 Virginia    531,894\n",
    "51  Tyler   589,687 Maria   528,760\n",
    "52  Aaron   579,578 Heather 524,161\n",
    "53  Jose    559,823 Diane   515,256\n",
    "54  Henry   553,392 Julie   506,315\n",
    "55  Adam    551,342 Joyce   500,601\n",
    "56  Douglas 549,324 Victoria    481,786\n",
    "57  Nathan  544,555 Kelly   471,257\n",
    "58  Peter   540,603 Christina   471,012\n",
    "59  Zachary 537,934 Lauren  469,625\n",
    "60  Kyle    480,276 Joan    469,101\n",
    "61  Walter  476,581 Evelyn  466,314\n",
    "62  Harold  448,640 Olivia  464,246\n",
    "63  Jeremy  437,552 Judith  449,885\n",
    "64  Ethan   435,390 Megan   437,186\n",
    "65  Carl    431,805 Cheryl  436,878\n",
    "66  Keith   431,764 Martha  434,595\n",
    "67  Roger   429,723 Andrea  434,410\n",
    "68  Gerald  428,208 Frances 429,429\n",
    "69  Christian   425,034 Hannah  426,616\n",
    "70  Terry   422,106 Jacqueline  420,348\n",
    "71  Sean    418,691 Ann 412,411\n",
    "72  Arthur  415,722 Gloria  409,072\n",
    "73  Austin  411,665 Jean    407,127\n",
    "74  Noah    409,039 Kathryn 406,120\n",
    "75  Lawrence    407,197 Alice   404,664\n",
    "76  Jesse   388,484 Teresa  404,603\n",
    "77  Joe 388,230 Sara    401,653\n",
    "78  Bryan   381,581 Janice  400,210\n",
    "79  Billy   379,560 Doris   395,048\n",
    "80  Jordan  378,141 Madison 387,071\n",
    "81  Albert  377,227 Julia   383,225\n",
    "82  Dylan   377,049 Grace   379,239\n",
    "83  Bruce   375,986 Judy    378,014\n",
    "84  Willie  367,775 Abigail 373,862\n",
    "85  Gabriel 352,072 Marie   373,633\n",
    "86  Alan    348,591 Denise  371,019\n",
    "87  Juan    345,375 Beverly 370,608\n",
    "88  Logan   341,413 Amber   369,981\n",
    "89  Wayne   339,139 Theresa 369,848\n",
    "90  Ralph   338,689 Marilyn 369,847\n",
    "91  Roy 338,079 Danielle    367,791\n",
    "92  Eugene  330,306 Diana   358,617\n",
    "93  Randy   327,821 Brittany    358,579\n",
    "94  Vincent 322,824 Natalie 352,644\n",
    "95  Russell 321,274 Sophia  351,883\n",
    "96  Louis   320,157 Rose    351,296\n",
    "97  Philip  315,423 Isabella    342,345\n",
    "98  Bobby   313,302 Alexis  339,548\n",
    "99  Johnny  308,243 Kayla   339,169\n",
    "100 Bradley 306,339 Charlotte   338,315'''\n",
    "\n",
    "# remove the commas in the numbers:\n",
    "mostPopularNamesData = mostPopularNamesData.replace(',','')\n",
    "\n",
    "def mostPopularNames():\n",
    "    mostPopularNameCounts = dict()\n",
    "\n",
    "    for line in mostPopularNamesData.splitlines():\n",
    "        index,name1,count1,name2,count2 = line.split()\n",
    "        mostPopularNameCounts[name1] = int(count1)\n",
    "        mostPopularNameCounts[name2] = int(count2)\n",
    "\n",
    "    while True:\n",
    "        name = input('输出一个名字 (输入空格来结束) --> ')\n",
    "        name = name.capitalize()\n",
    "        if (name == ''): break\n",
    "        if (name in mostPopularNameCounts):\n",
    "            print(f'  {name} 出现了 {mostPopularNameCounts[name]} 次')\n",
    "        else:\n",
    "            print(f'  {name} 不在列表中!')\n",
    "\n",
    "mostPopularNames()"
   ]
  }
 ],
 "metadata": {
  "kernelspec": {
   "display_name": "Python 3",
   "language": "python",
   "name": "python3"
  },
  "language_info": {
   "codemirror_mode": {
    "name": "ipython",
    "version": 3
   },
   "file_extension": ".py",
   "mimetype": "text/x-python",
   "name": "python",
   "nbconvert_exporter": "python",
   "pygments_lexer": "ipython3",
   "version": "3.8.10"
  }
 },
 "nbformat": 4,
 "nbformat_minor": 5
}
