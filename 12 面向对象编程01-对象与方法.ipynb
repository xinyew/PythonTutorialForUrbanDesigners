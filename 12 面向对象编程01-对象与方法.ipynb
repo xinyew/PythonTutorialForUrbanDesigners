{
 "cells": [
  {
   "cell_type": "markdown",
   "id": "b012cc22",
   "metadata": {},
   "source": [
    "# 城市设计分析技术Python自学教程12\n",
    "\n",
    "### 面向对象编程01-对象与方法\n",
    "\n",
    "##### [计算城市设计实验室(Computational Urban Design Lab)](https://www.tjcud.cn/)"
   ]
  },
  {
   "cell_type": "markdown",
   "id": "d8e63a0b",
   "metadata": {},
   "source": [
    "#### 12.1 方法 vs 函数\n",
    "#### 我们叫 s.f() 形式的东西为方法:"
   ]
  },
  {
   "cell_type": "code",
   "execution_count": null,
   "id": "7c37c653",
   "metadata": {},
   "outputs": [],
   "source": [
    "s = 'This could be any string!'\n",
    "\n",
    "print(len(s))     # len 是一个函数\n",
    "\n",
    "print(s.upper())  # upper是一个字符串的方法,使用它需要用 . 符号\n",
    "                  # 这里发生的事儿可以称为， 我们“在字符串 s 上调用 upper 方法”\n",
    "\n",
    "print(s.replace('could', 'may')) # 一些方法可能会需要多个参数"
   ]
  },
  {
   "cell_type": "markdown",
   "id": "b563c555",
   "metadata": {},
   "source": [
    "#### 看看我们如何因不正确地调用方法而得到各种各样的错误："
   ]
  },
  {
   "cell_type": "code",
   "execution_count": null,
   "id": "6c6b003a",
   "metadata": {},
   "outputs": [],
   "source": [
    "n = 123\n",
    "print(len(n))    # 报错：TypeError: object of type 'int' has no len()\n",
    "                 # 这意味着 len() 不能用在 int类型的参数上\n",
    "\n",
    "n = 123\n",
    "print(n.upper()) # 报错： AttributeError: 'int' object has no attribute 'upper'\n",
    "                 # 这意味着 upper() 不能用在 int类型的参数上"
   ]
  },
  {
   "cell_type": "markdown",
   "id": "19e340de",
   "metadata": {},
   "source": [
    "#### 12.2 类和实例"
   ]
  },
  {
   "cell_type": "markdown",
   "id": "687b841d",
   "metadata": {},
   "source": [
    "#### 在Python中，类也被称为 \"类型\".\n",
    "举个例子，这些都是类: int, float, str, bool\n",
    "#### 实例是给定类或类型的值.\n",
    "举个例子，'abc' 是str类的一个实例 (也被称为字符串)"
   ]
  },
  {
   "cell_type": "markdown",
   "id": "e24d276c",
   "metadata": {},
   "source": [
    "#### 12.3 对象和面向对象编程 (OOP)"
   ]
  },
  {
   "cell_type": "markdown",
   "id": "fc232649",
   "metadata": {},
   "source": [
    "#### Python中的每个值都是一个对象.\n",
    "每个实例都是一个对象，它的类型是某个类。\n",
    "每个类也是一个对象（它的类型是类型！）。\n",
    "\n",
    "#### 这就是为什么我们称之为面向对象编程\n",
    "我们现在只用到了一点点对象的概念。\n",
    "很快我们将编写我们自己的类。\n",
    "然后，我们将学习如何进阶编写和使用类和对象。\n",
    "即便如此，由于我们现在已经在使用对象，所以我们已经在使用面向对象编程 (OOP)。"
   ]
  },
  {
   "cell_type": "markdown",
   "id": "d568590f",
   "metadata": {},
   "source": [
    "#### 12.4  使用数据类的可变对象"
   ]
  },
  {
   "cell_type": "markdown",
   "id": "afda8d44",
   "metadata": {},
   "source": [
    "我们可以使用 make_dataclass 来创建类，然后我们可以使用这些类来创建可变对象。\n",
    "这是在单个对象中存储属性集合的一种非常方便的方法。"
   ]
  },
  {
   "cell_type": "code",
   "execution_count": null,
   "id": "dcc7e0f6",
   "metadata": {},
   "outputs": [],
   "source": [
    "# 使用这个方法需要导入:\n",
    "\n",
    "from dataclasses import make_dataclass\n",
    "\n",
    "# 现在我们可以创建一个叫 Dog 的类，其中实例（个体的dog）有三个属性： 名字，年龄和品种\n",
    "\n",
    "Dog = make_dataclass('Dog', ['name', 'age', 'breed'])\n",
    "\n",
    "# 现在我们可以创建一个Dog类的实例（个体的dog）:\n",
    "\n",
    "dog1 = Dog(name='Dino', age=10, breed='shepherd')\n",
    "print(dog1)        # 打印出: Dog(name='Dino', age=10, breed='shepherd')\n",
    "print(dog1.name)   # 打印出: Dino\n",
    "\n",
    "# 接下来，让我们看看这些实例是否是可编辑的\n",
    "\n",
    "dog1.name = 'Fred'\n",
    "print(dog1)        # 打印出: Dog(name='Fred', age=10, breed='shepherd')\n",
    "print(dog1.name)   # 打印出: Fred\n",
    "\n",
    "# 现在，让我们看看所有的属性是否都是必须的:\n",
    "\n",
    "try:\n",
    "    dog2 = Dog(name='Dino', age=10)\n",
    "except Exception as e:\n",
    "    print(e) # 打印出: missing 1 required positional argument: 'breed'\n",
    "\n",
    "# 接下来看看 == 是否能正常使用:\n",
    "\n",
    "dog2 = Dog(name='Spot', age=12, breed='poodle')\n",
    "dog3 = Dog(name='Fred', age=10, breed='shepherd')\n",
    "\n",
    "print(dog1 == dog2) # 打印出: False\n",
    "print(dog1 == dog3) # 打印出: True\n",
    "\n",
    "# 最后，让我们看看Dog的实例能否被添加进集合,毕竟它是可变的:\n",
    "\n",
    "try:\n",
    "    s = { dog1 }\n",
    "except Exception as e:\n",
    "    print(e) # 报错: unhashable type: 'Dog'"
   ]
  }
 ],
 "metadata": {
  "kernelspec": {
   "display_name": "Python 3 (ipykernel)",
   "language": "python",
   "name": "python3"
  },
  "language_info": {
   "codemirror_mode": {
    "name": "ipython",
    "version": 3
   },
   "file_extension": ".py",
   "mimetype": "text/x-python",
   "name": "python",
   "nbconvert_exporter": "python",
   "pygments_lexer": "ipython3",
   "version": "3.7.11"
  }
 },
 "nbformat": 4,
 "nbformat_minor": 5
}
