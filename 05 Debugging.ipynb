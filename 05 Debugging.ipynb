{
 "cells": [
  {
   "cell_type": "markdown",
   "id": "f89cadac",
   "metadata": {},
   "source": [
    "# 城市设计分析技术Python自学教程05\n",
    "\n",
    "### Debugging\n",
    "\n",
    "##### [计算城市设计实验室(Computational Urban Design Lab)](https://www.tjcud.cn/)"
   ]
  },
  {
   "cell_type": "markdown",
   "id": "586f346a",
   "metadata": {},
   "source": [
    "#### 出Bug了！\n",
    "#### 这是一个故意加上bug的小案例"
   ]
  },
  {
   "cell_type": "code",
   "execution_count": null,
   "id": "53f7ad4e",
   "metadata": {},
   "outputs": [],
   "source": [
    "# 这段代码被故意添加了Bug\n",
    "\n",
    "# 一旦开始，代码会永远运行下去\n",
    "\n",
    "def isPrime(n):\n",
    "    if (n < 2):\n",
    "        return False\n",
    "    if (n == 2):\n",
    "        return True\n",
    "    if (n % 2 == 0):\n",
    "        return False\n",
    "    maxFactor = round(n**0.5)\n",
    "    for factor in range(3,maxFactor+1,2):\n",
    "        if (n % factor == 0):\n",
    "            return False\n",
    "    return True\n",
    "\n",
    "def nthPrime(n):\n",
    "    found = 0\n",
    "    guess = 0\n",
    "    while (found <= n):\n",
    "        guess += 1\n",
    "        if (isPrime(guess)):\n",
    "            found + 1\n",
    "    return guess\n",
    "\n",
    "print('接下来的一行会一直错误地运行下去，而不会输出结果:')\n",
    "print(nthPrime(5))"
   ]
  },
  {
   "cell_type": "markdown",
   "id": "1f8f5cdf",
   "metadata": {},
   "source": [
    "#### 一个小妙招：通过打印语句来Debug\n",
    "#### 现在让我们添加一行合适的print代码来看看到底是哪里出了问题"
   ]
  },
  {
   "cell_type": "code",
   "execution_count": null,
   "id": "b08888a6",
   "metadata": {},
   "outputs": [],
   "source": [
    "# 这段代码被故意添加了Bug\n",
    "\n",
    "# 一旦开始，代码会永远运行下去\n",
    "\n",
    "def isPrime(n):\n",
    "    if (n < 2):\n",
    "        return False\n",
    "    if (n == 2):\n",
    "        return True\n",
    "    if (n % 2 == 0):\n",
    "        return False\n",
    "    maxFactor = round(n**0.5)\n",
    "    for factor in range(3,maxFactor+1,2):\n",
    "        if (n % factor == 0):\n",
    "            return False\n",
    "    return True\n",
    "\n",
    "def nthPrime(n):\n",
    "    found = 0\n",
    "    guess = 0\n",
    "    while (found <= n):\n",
    "        print(guess, found) ### <--- 这行就是我们添加的print代码!\n",
    "        guess += 1\n",
    "        if (isPrime(guess)):\n",
    "            found + 1\n",
    "    return guess\n",
    "\n",
    "print('接下来的一行会一直错误地运行下去，而不会输出结果):')\n",
    "print(nthPrime(5))"
   ]
  },
  {
   "cell_type": "markdown",
   "id": "2a17f7a8",
   "metadata": {},
   "source": [
    "#### 更好的办法: 用打印函数配合locals() 与 input()来debug"
   ]
  },
  {
   "cell_type": "code",
   "execution_count": null,
   "id": "afbe03ad",
   "metadata": {},
   "outputs": [],
   "source": [
    "# 这段代码被故意添加了Bug\n",
    "\n",
    "# 一旦开始，代码会永远运行下去\n",
    "\n",
    "def isPrime(n):\n",
    "    if (n < 2):\n",
    "        return False\n",
    "    if (n == 2):\n",
    "        return True\n",
    "    if (n % 2 == 0):\n",
    "        return False\n",
    "    maxFactor = round(n**0.5)\n",
    "    for factor in range(3,maxFactor+1,2):\n",
    "        if (n % factor == 0):\n",
    "            return False\n",
    "    return True\n",
    "\n",
    "def nthPrime(n):\n",
    "    found = 0\n",
    "    guess = 0\n",
    "    while (found <= n):\n",
    "        print(locals()) ### <--- 这行是我们添加的print代码!\n",
    "        input()         ### <--- 这行代码会暂停进程的运行，直到我们用键盘输入回车!\n",
    "        guess += 1\n",
    "        if (isPrime(guess)):\n",
    "            found + 1\n",
    "    return guess\n",
    "\n",
    "print('接下来的一行会一直错误地运行下去，而不会输出结果):')\n",
    "print(nthPrime(5))"
   ]
  },
  {
   "cell_type": "markdown",
   "id": "82968c82",
   "metadata": {},
   "source": [
    "#### 是不是很有帮助呢！"
   ]
  }
 ],
 "metadata": {
  "kernelspec": {
   "display_name": "Python 3",
   "language": "python",
   "name": "python3"
  },
  "language_info": {
   "codemirror_mode": {
    "name": "ipython",
    "version": 3
   },
   "file_extension": ".py",
   "mimetype": "text/x-python",
   "name": "python",
   "nbconvert_exporter": "python",
   "pygments_lexer": "ipython3",
   "version": "3.8.10"
  }
 },
 "nbformat": 4,
 "nbformat_minor": 5
}
