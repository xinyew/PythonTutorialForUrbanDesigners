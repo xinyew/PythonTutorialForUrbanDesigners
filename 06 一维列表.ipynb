{
 "cells": [
  {
   "cell_type": "markdown",
   "id": "431c25db",
   "metadata": {},
   "source": [
    "# 城市设计分析技术Python自学教程06\n",
    "\n",
    "### 一维列表\n",
    "\n",
    "##### [计算城市设计实验室(Computational Urban Design Lab)](https://www.tjcud.cn/)"
   ]
  },
  {
   "cell_type": "markdown",
   "id": "76cfe1b0",
   "metadata": {},
   "source": [
    "#### 6.1 创建列表\n",
    "####       空列表"
   ]
  },
  {
   "cell_type": "code",
   "execution_count": null,
   "id": "5caecd2e",
   "metadata": {},
   "outputs": [],
   "source": [
    "print(\"两种标准的建立空列表的方式:\")\n",
    "a = [ ]\n",
    "b = list()\n",
    "\n",
    "print(type(a), len(a), a)\n",
    "print(type(b), len(b), b)\n",
    "print(a == b)"
   ]
  },
  {
   "cell_type": "markdown",
   "id": "d1303c39",
   "metadata": {},
   "source": [
    "#### 只有单个元素的列表"
   ]
  },
  {
   "cell_type": "code",
   "execution_count": 3,
   "id": "b37b1392",
   "metadata": {},
   "outputs": [
    {
     "name": "stdout",
     "output_type": "stream",
     "text": [
      "<class 'list'> 1 ['hello']\n",
      "<class 'list'> 1 [42]\n",
      "False\n"
     ]
    }
   ],
   "source": [
    "a = [ \"你好呀\" ]\n",
    "b = [ 42 ]\n",
    "\n",
    "print(type(a), len(a), a)\n",
    "print(type(b), len(b), b)\n",
    "print(a == b)"
   ]
  },
  {
   "cell_type": "markdown",
   "id": "9db020b7",
   "metadata": {},
   "source": [
    "#### 多个元素的列表"
   ]
  },
  {
   "cell_type": "code",
   "execution_count": 2,
   "id": "d387b01f",
   "metadata": {},
   "outputs": [
    {
     "name": "stdout",
     "output_type": "stream",
     "text": [
      "<class 'list'> 4 [2, 3, 5, 7]\n",
      "<class 'list'> 5 [0, 1, 2, 3, 4]\n",
      "<class 'list'> 3 ['混合方法', True, 42]\n"
     ]
    }
   ],
   "source": [
    "a = [2, 3, 5, 7]\n",
    "b = list(range(5))\n",
    "c = [\"单个列表中的多种类型\", True, 42]\n",
    "\n",
    "print(type(a), len(a), a)\n",
    "print(type(b), len(b), b)\n",
    "print(type(c), len(c), c)"
   ]
  },
  {
   "cell_type": "markdown",
   "id": "f922dbfa",
   "metadata": {},
   "source": [
    "#### Variable-Length List"
   ]
  },
  {
   "cell_type": "code",
   "execution_count": null,
   "id": "0a848c7f",
   "metadata": {},
   "outputs": [],
   "source": [
    "n = 10\n",
    "a = [0] * n # 新建一个有n个0的列表\n",
    "b = list(range(n))\n",
    "\n",
    "print(type(a), len(a), a)\n",
    "print(type(b), len(b), b)"
   ]
  },
  {
   "cell_type": "markdown",
   "id": "a6a1cf5e",
   "metadata": {},
   "source": [
    "#### 6.2 列表的函数与相关操作"
   ]
  },
  {
   "cell_type": "code",
   "execution_count": null,
   "id": "87f4202a",
   "metadata": {},
   "outputs": [],
   "source": [
    "a = [ 2, 3, 5, 2 ]\n",
    "print(\"a = \", a)\n",
    "print(\"长度 =\", len(a))\n",
    "print(\"最小值 =\", min(a))\n",
    "print(\"最大值 =\", max(a))\n",
    "print(\"求和 =\", sum(a))\n",
    "\n",
    "# 创建一些列表\n",
    "a = [ 2, 3, 5, 3, 7 ]\n",
    "b = [ 2, 3, 5, 3, 7 ]   # 与a相同\n",
    "c = [ 2, 3, 5, 3, 8 ]   # 最后一个元素不同\n",
    "d = [ 2, 3, 5 ]         # 只有a的前几个元素\n",
    "\n",
    "print(\"a =\", a)\n",
    "print(\"b =\", b)\n",
    "print(\"c =\", c)\n",
    "print(\"d =\", d)\n",
    "\n",
    "print(\"------------------\")\n",
    "print(\"a == b\", (a == b))\n",
    "print(\"a == c\", (a == c))\n",
    "print(\"a != b\", (a != b))\n",
    "print(\"a != c\", (a != c))\n",
    "\n",
    "print(\"------------------\")\n",
    "print(\"a < c\", (a < c))\n",
    "print(\"a < d\", (a < d))"
   ]
  },
  {
   "cell_type": "markdown",
   "id": "a7837f8c",
   "metadata": {},
   "source": [
    "#### 6.3 获取列表中的元素 (索引和切片)"
   ]
  },
  {
   "cell_type": "code",
   "execution_count": null,
   "id": "c9470ab0",
   "metadata": {},
   "outputs": [],
   "source": [
    "# 索引和切片在列表中的工作方式与在string中完全相同\n",
    "\n",
    "a = [2, 3, 5, 7, 11, 13]\n",
    "print(\"a        =\", a)\n",
    "\n",
    "# 获取非负索引的元素\n",
    "print(\"a[0]     =\", a[0])\n",
    "print(\"a[2]     =\", a[2])\n",
    "\n",
    "# 获取负数索引的元素\n",
    "print(\"a[-1]    =\", a[-1])\n",
    "print(\"a[-3]    =\", a[-3])\n",
    "\n",
    "# 取得列表切片[开始索引:结束索引:步距]\n",
    "print(\"a[0:2]   =\", a[0:2])\n",
    "print(\"a[1:4]   =\", a[1:4])\n",
    "print(\"a[1:6:2] =\", a[1:6:2])"
   ]
  },
  {
   "cell_type": "markdown",
   "id": "4e415937",
   "metadata": {},
   "source": [
    "#### 6.4 列表的可编辑性与别名\n",
    "\n",
    "#### 与字符串不同，列表是可编辑的，这意味着我们可以更改它们，而无需创建新列表。\n",
    "#### 这也让我们必须更好地理解别名，尤其是当两个列表变量有着相同的值时。\n",
    "#### 别名让像列表这样的可编辑变量变得很有趣（同时也更有挑战性）。"
   ]
  },
  {
   "cell_type": "markdown",
   "id": "f6f717ec",
   "metadata": {},
   "source": [
    "#### 案例："
   ]
  },
  {
   "cell_type": "code",
   "execution_count": 4,
   "id": "dedb1446",
   "metadata": {},
   "outputs": [
    {
     "name": "stdout",
     "output_type": "stream",
     "text": [
      "[42, 99, 5, 7]\n",
      "[42, 99, 5, 7]\n"
     ]
    }
   ],
   "source": [
    "# 创建一个列表\n",
    "a = [ 2, 3, 5, 7 ]\n",
    "\n",
    "# 创建此列表的别名\n",
    "b = a\n",
    "\n",
    "# 现在我们有了同一个列表的两个参照（别名）\n",
    "a[0] = 42\n",
    "b[1] = 99\n",
    "print(a)\n",
    "print(b)"
   ]
  },
  {
   "cell_type": "markdown",
   "id": "c7431b2a",
   "metadata": {},
   "source": [
    "#### 函数的参数都是列表的别名:"
   ]
  },
  {
   "cell_type": "code",
   "execution_count": null,
   "id": "f7cfa7b0",
   "metadata": {},
   "outputs": [],
   "source": [
    "def f(a):\n",
    "    a[0] = 42\n",
    "a = [2, 3, 5, 7]\n",
    "f(a)\n",
    "print(a)\n",
    "\n",
    "# 请注意作为函数参数的列表别名仍然可以通过对此参数重新赋值而破坏\n",
    "\n",
    "a = [3, 2, 1]\n",
    "\n",
    "def foo(a):\n",
    "     a[0] = 1\n",
    "     a = [5, 2, 0] # 我们破坏了作为函数参数的列表别名\n",
    "     a[0] = 4\n",
    "\n",
    "foo(a)\n",
    "print(a)"
   ]
  },
  {
   "cell_type": "markdown",
   "id": "6c7644b8",
   "metadata": {},
   "source": [
    "#### 再来个例子:"
   ]
  },
  {
   "cell_type": "code",
   "execution_count": null,
   "id": "720d1b12",
   "metadata": {},
   "outputs": [],
   "source": [
    "# 创建列表\n",
    "a = [ 2, 3, 5, 7 ]\n",
    "\n",
    "# 创建列表a的一个别名\n",
    "b = a\n",
    "\n",
    "# 创建一个具有相同元素的列表\n",
    "c = [ 2, 3, 5, 7 ]\n",
    "\n",
    "# a和b是同一个列表的两个别名\n",
    "# c是另一个全等列表的引例\n",
    "\n",
    "print(\"开始时:\")\n",
    "print(\"  a==b  :\", a==b)\n",
    "print(\"  a==c  :\", a==c)\n",
    "print(\"  a is b:\", a is b) # “is” 是一个辨别两个值是否相等，或者是否属于同一种变量类型的操作\n",
    "print(\"  a is c:\", a is c)\n",
    "\n",
    "# 现在改变a就是在改变b，因为它们指向同一个列表，而c只是指向另一个具有相同元素的不同列表\n",
    "a[0] = 42\n",
    "print(\"把a[0]改成42后\")\n",
    "print(\"  a=\", a)\n",
    "print(\"  b=\", b)\n",
    "print(\"  c=\", c)\n",
    "print(\"  a==b  :\", a==b)\n",
    "print(\"  a==c  :\", a==c)\n",
    "print(\"  a is b:\", a is b)\n",
    "print(\"  a is c:\", a is c)"
   ]
  },
  {
   "cell_type": "markdown",
   "id": "6a54156f",
   "metadata": {},
   "source": [
    "#### 6.5 复制列表\n",
    "#### 复制 vs 别名"
   ]
  },
  {
   "cell_type": "code",
   "execution_count": 1,
   "id": "d166233d",
   "metadata": {},
   "outputs": [
    {
     "name": "stdout",
     "output_type": "stream",
     "text": [
      "一开始...\n",
      "   a = [2, 3]\n",
      "   b = [2, 3]\n",
      "   c = [2, 3]\n",
      "但是改变a[0] = 42后\n",
      "   a = [42, 3]\n",
      "   b = [42, 3]\n",
      "   c = [2, 3]\n"
     ]
    }
   ],
   "source": [
    "# 由于别名的特殊性,我们并不能像对数字或者字符串变量那样采用简单直接赋值的方式(a = b)来复制列表\n",
    "\n",
    "import copy\n",
    "\n",
    "# 创建一个列表\n",
    "a = [ 2, 3 ]\n",
    "\n",
    "# 试着复制它\n",
    "b = a             # 这样是错的！只是给了个别名\n",
    "c = copy.copy(a)  # 正确做法\n",
    "\n",
    "# 一开始，一切看起来很正常\n",
    "print(\"一开始...\")\n",
    "print(\"   a =\", a)\n",
    "print(\"   b =\", b)\n",
    "print(\"   c =\", c)\n",
    "\n",
    "# 现在改变一下 a[0] 试试看\n",
    "a[0] = 42\n",
    "print(\"但是改变a[0] = 42后\")\n",
    "print(\"   a =\", a)\n",
    "print(\"   b =\", b)\n",
    "print(\"   c =\", c)"
   ]
  },
  {
   "cell_type": "markdown",
   "id": "7db32461",
   "metadata": {},
   "source": [
    "#### 再看个例子："
   ]
  },
  {
   "cell_type": "code",
   "execution_count": 5,
   "id": "eafc9154",
   "metadata": {},
   "outputs": [
    {
     "name": "stdout",
     "output_type": "stream",
     "text": [
      "[42, 3] [2, 3] [2, 3] [2, 3] [2, 3]\n"
     ]
    }
   ],
   "source": [
    "import copy\n",
    "\n",
    "a = [2, 3]\n",
    "\n",
    "b = copy.copy(a)\n",
    "c = a[:]\n",
    "d = a + [ ]\n",
    "e = list(a)\n",
    "\n",
    "a[0] = 42\n",
    "print(a, b, c, d, e)"
   ]
  },
  {
   "cell_type": "markdown",
   "id": "b425465c",
   "metadata": {},
   "source": [
    "#### 6.6 破坏性和非破坏性函数\n",
    "#### 因为列表是可变的，我们可以通过两种方式改变它们：\n",
    "#### 破坏性地（直接修改原始值），以及非破坏性地（创建一个新列表并且不修改原始值）。\n",
    "#### 这也会影响我们编写使用列表的函数的方式。"
   ]
  },
  {
   "cell_type": "markdown",
   "id": "b8673e83",
   "metadata": {},
   "source": [
    "#### 破坏性函数"
   ]
  },
  {
   "cell_type": "code",
   "execution_count": 6,
   "id": "515acde6",
   "metadata": {},
   "outputs": [
    {
     "name": "stdout",
     "output_type": "stream",
     "text": [
      "一开始, a = [1, 2, 3, 4, 5]\n",
      "在调用函数fill(a, 42)后, a = [42, 42, 42, 42, 42]\n"
     ]
    }
   ],
   "source": [
    "# 破坏性函数就是写来改变原始列表的\n",
    "# 它们不用返回任何值，因为调用函数的时候就直接访问了列表的原始值\n",
    "def fill(a, value):\n",
    "    for i in range(len(a)):\n",
    "        a[i] = value\n",
    "\n",
    "a = [1, 2, 3, 4, 5]\n",
    "print(\"一开始, a =\", a)\n",
    "fill(a, 42)\n",
    "print(\"在调用函数fill(a, 42)后, a =\", a)"
   ]
  },
  {
   "cell_type": "markdown",
   "id": "872213af",
   "metadata": {},
   "source": [
    "#### 非破坏性函数"
   ]
  },
  {
   "cell_type": "code",
   "execution_count": null,
   "id": "2fcbc59a",
   "metadata": {},
   "outputs": [],
   "source": [
    "import copy\n",
    "\n",
    "## 先来一个简单的修改列表数据的小教程吧 ##\n",
    "## 我们会在稍后进行详述 ##\n",
    "\n",
    "a = [1, 2, 3, 4]\n",
    "\n",
    "# .remove() 破坏性地 移除了存在于列表中的所给值\n",
    "a.remove(2)\n",
    "print(a) # [1, 3, 4]\n",
    "\n",
    "# .append() 破坏性地 在列表末尾增加一个所给值\n",
    "a.append(70)\n",
    "print(a) # [1, 3, 4, 70]\n",
    "\n",
    "## 现在我们来看看怎么非破坏性地做这些事儿吧 ##\n",
    "\n",
    "def destructiveRemoveAll(a, value):\n",
    "    while (value in a):\n",
    "        a.remove(value)\n",
    "\n",
    "def nonDestructiveRemoveAll(a, value):\n",
    "    # 一般情况下，我们需要通过建立新列表的方式来实现非破坏性修改\n",
    "    # 而不是直接修改原始值\n",
    "    result = []\n",
    "    for element in a:\n",
    "        if (element != value):\n",
    "            result.append(element)\n",
    "    return result # 非破坏性的函数还是需要返回值地!\n",
    "\n",
    "def alternateNonDestructiveRemoveAll(a, value):\n",
    "    # 我们也可以通过破坏别名的方式来编写同样的函数\n",
    "    # 再用破坏性地方法来达到同样的修改目的\n",
    "    a = copy.copy(a)\n",
    "    destructiveRemoveAll(a, value)\n",
    "    return a\n",
    "\n",
    "a = [ 1, 2, 3, 4, 3, 2, 1 ]\n",
    "print(\"一开始\")\n",
    "print(\"   a =\", a)\n",
    "\n",
    "destructiveRemoveAll(a, 2)\n",
    "print(\"在执行 a = destructiveRemoveAll(a, 2)函数后\")\n",
    "print(\"   a =\", a)\n",
    "\n",
    "b = nonDestructiveRemoveAll(a, 3)\n",
    "print(\"在执行 b = nonDestructiveRemoveAll(a, 3)函数后\")\n",
    "print(\"   a =\", a)\n",
    "print(\"   b =\", b)\n",
    "\n",
    "c = alternateNonDestructiveRemoveAll(a, 1)\n",
    "print(\"在执行 c = alternateNonDestructiveRemoveAll(a, 1)函数后\")\n",
    "print(\"   a =\", a)\n",
    "print(\"   c =\", c)"
   ]
  },
  {
   "cell_type": "markdown",
   "id": "e4b5ca35",
   "metadata": {},
   "source": [
    "#### 6.7 在列表中寻找元素\n",
    "#### 检查所需元素是否存在于列表中"
   ]
  },
  {
   "cell_type": "code",
   "execution_count": null,
   "id": "69a1de6e",
   "metadata": {},
   "outputs": [],
   "source": [
    "a = [ 2, 3, 5, 2, 6, 2, 2, 7 ]\n",
    "print(\"a      =\", a)\n",
    "print(\"2在列表 a中：\", (2 in a))\n",
    "print(\"4在列表 a中：\", (4 in a))"
   ]
  },
  {
   "cell_type": "markdown",
   "id": "989e7889",
   "metadata": {},
   "source": [
    "#### 检查所需元素是否不在列表中"
   ]
  },
  {
   "cell_type": "code",
   "execution_count": 7,
   "id": "6222051f",
   "metadata": {},
   "outputs": [
    {
     "name": "stdout",
     "output_type": "stream",
     "text": [
      "a          = [2, 3, 5, 2, 6, 2, 2, 7]\n",
      "2在列表 a中： False\n",
      "2在列表 a中： True\n"
     ]
    }
   ],
   "source": [
    "a = [ 2, 3, 5, 2, 6, 2, 2, 7 ]\n",
    "print(\"a          =\", a)\n",
    "print(\"2在列表 a中：\", (2 not in a))\n",
    "print(\"2在列表 a中：\", (4 not in a))"
   ]
  },
  {
   "cell_type": "markdown",
   "id": "d65cb36e",
   "metadata": {},
   "source": [
    "#### 计算某元素在列表中出现了多少次: list.count(item)"
   ]
  },
  {
   "cell_type": "code",
   "execution_count": null,
   "id": "50e9a119",
   "metadata": {},
   "outputs": [],
   "source": [
    "a = [ 2, 3, 5, 2, 6, 2, 2, 7 ]\n",
    "print(\"a          =\", a)\n",
    "print(\"a.count(1) =\", a.count(1))\n",
    "print(\"a.count(2) =\", a.count(2))\n",
    "print(\"a.count(3) =\", a.count(3))"
   ]
  },
  {
   "cell_type": "markdown",
   "id": "ad5c7aee",
   "metadata": {},
   "source": [
    "#### 找到某元素在列表中的索引: list.index(item) 和 list.index(item, start)\n",
    "#### 案例"
   ]
  },
  {
   "cell_type": "code",
   "execution_count": 8,
   "id": "84569c46",
   "metadata": {},
   "outputs": [
    {
     "name": "stdout",
     "output_type": "stream",
     "text": [
      "a            = [2, 3, 5, 2, 6, 2, 2, 7]\n",
      "a.index(6)   = 4\n",
      "a.index(2)   = 0\n",
      "a.index(2,1) = 3\n",
      "a.index(2,4) = 5\n"
     ]
    }
   ],
   "source": [
    "a = [ 2, 3, 5, 2, 6, 2, 2, 7 ]\n",
    "print(\"a            =\", a)\n",
    "print(\"a.index(6)   =\", a.index(6))\n",
    "print(\"a.index(2)   =\", a.index(2))\n",
    "print(\"a.index(2,1) =\", a.index(2,1))\n",
    "print(\"a.index(2,4) =\", a.index(2,4))"
   ]
  },
  {
   "cell_type": "markdown",
   "id": "2438b20d",
   "metadata": {},
   "source": [
    "#### 这种方法有一个缺陷：当元素不在列表中时会报错"
   ]
  },
  {
   "cell_type": "code",
   "execution_count": null,
   "id": "66436a22",
   "metadata": {},
   "outputs": [],
   "source": [
    "a = [ 2, 3, 5, 2 ]\n",
    "print(\"a          =\", a)\n",
    "print(\"a.index(9) =\", a.index(9)) # 报错!\n",
    "print(\"这行代码永远不会运行!\")"
   ]
  },
  {
   "cell_type": "markdown",
   "id": "ebddb06d",
   "metadata": {},
   "source": [
    "#### 解决方法：使用 in "
   ]
  },
  {
   "cell_type": "code",
   "execution_count": 10,
   "id": "cf883502",
   "metadata": {},
   "outputs": [
    {
     "name": "stdout",
     "output_type": "stream",
     "text": [
      "a = [2, 3, 5, 2]\n",
      "9不在列表 [2, 3, 5, 2] 中\n",
      "现在这行代码会运行了!\n"
     ]
    }
   ],
   "source": [
    "a = [ 2, 3, 5, 2 ]\n",
    "print(\"a =\", a)\n",
    "if (9 in a):\n",
    "    print(\"a.index(9) =\", a.index(9))\n",
    "else:\n",
    "    print(\"9不在列表\", a,\"中\")\n",
    "print(\"现在这行代码会运行了!\")"
   ]
  },
  {
   "cell_type": "markdown",
   "id": "acac9017",
   "metadata": {},
   "source": [
    "#### 6.8 增加列表中的元素\n",
    "#### 破坏性方法：使用 list.append(item)"
   ]
  },
  {
   "cell_type": "code",
   "execution_count": null,
   "id": "5254c894",
   "metadata": {},
   "outputs": [],
   "source": [
    "a = [ 2, 3 ]\n",
    "a.append(7)\n",
    "print(a)"
   ]
  },
  {
   "cell_type": "markdown",
   "id": "90d3de8c",
   "metadata": {},
   "source": [
    "#### 直接通过 list += list2 或者 list.extend(list2) 合并两个列表"
   ]
  },
  {
   "cell_type": "code",
   "execution_count": null,
   "id": "04a729a5",
   "metadata": {},
   "outputs": [],
   "source": [
    "a = [ 2, 3 ]\n",
    "a += [ 11, 13 ]\n",
    "print(a)\n",
    "a.extend([ 17, 19 ])\n",
    "print(a)"
   ]
  },
  {
   "cell_type": "markdown",
   "id": "b6e12c2a",
   "metadata": {},
   "source": [
    "#### 在指定索引处插入元素"
   ]
  },
  {
   "cell_type": "code",
   "execution_count": null,
   "id": "195d7c04",
   "metadata": {},
   "outputs": [],
   "source": [
    "a = [ 2, 3, 5, 7, 11 ]\n",
    "a.insert(2, 42)  # 在索引为2的地方插入42\n",
    "print(a)"
   ]
  },
  {
   "cell_type": "markdown",
   "id": "285d9829",
   "metadata": {},
   "source": [
    "#### 非破坏性方法：创建新列表并以 list1 + list2赋值"
   ]
  },
  {
   "cell_type": "code",
   "execution_count": null,
   "id": "ce51d174",
   "metadata": {},
   "outputs": [],
   "source": [
    "a = [ 2, 3 ]\n",
    "b = a + [ 13, 17 ]\n",
    "print(a)\n",
    "print(b)"
   ]
  },
  {
   "cell_type": "markdown",
   "id": "0c3a04c5",
   "metadata": {},
   "source": [
    "#### 使用列表切片在指定索引处插入元素"
   ]
  },
  {
   "cell_type": "code",
   "execution_count": null,
   "id": "68124c37",
   "metadata": {},
   "outputs": [],
   "source": [
    "a = [ 2, 3 ]\n",
    "b = a[:2] + [5] + a[2:]\n",
    "print(a)\n",
    "print(b)"
   ]
  },
  {
   "cell_type": "markdown",
   "id": "84d7584b",
   "metadata": {},
   "source": [
    "#### 破坏性方法vs非破坏性方法"
   ]
  },
  {
   "cell_type": "code",
   "execution_count": 11,
   "id": "e62de280",
   "metadata": {},
   "outputs": [
    {
     "name": "stdout",
     "output_type": "stream",
     "text": [
      "破坏性方法:\n",
      "[2, 3, 4]\n",
      "[2, 3, 4]\n",
      "非破坏性方法:\n",
      "[2, 3, 4]\n",
      "[2, 3]\n"
     ]
    }
   ],
   "source": [
    "print(\"破坏性方法:\")\n",
    "a = [ 2, 3 ]\n",
    "b = a\n",
    "a += [ 4 ]\n",
    "print(a)\n",
    "print(b)\n",
    "\n",
    "print(\"非破坏性方法:\")\n",
    "a = [ 2, 3 ]\n",
    "b = a\n",
    "a = a + [ 4 ] # 这里对别名a重新赋值，但并没有改变别名b和之前别名a指向的列表\n",
    "print(a)\n",
    "print(b)"
   ]
  },
  {
   "cell_type": "markdown",
   "id": "237d9d3b",
   "metadata": {},
   "source": [
    "#### 6.9 移除元素\n",
    "#### 破坏性方法：使用 list.remove(item)"
   ]
  },
  {
   "cell_type": "code",
   "execution_count": null,
   "id": "03e1a396",
   "metadata": {},
   "outputs": [],
   "source": [
    "a = [ 2, 3, 5, 3, 7, 6, 5, 11, 13 ]\n",
    "print(\"a =\", a)\n",
    "\n",
    "a.remove(5)\n",
    "print(\"在执行a.remove(5)后, a=\", a)\n",
    "\n",
    "a.remove(5)\n",
    "print(\"在执行a.remove(5)后, a=\", a)"
   ]
  },
  {
   "cell_type": "markdown",
   "id": "4c11c07c",
   "metadata": {},
   "source": [
    "#### 使用 list.pop(index)在指定索引处移除元素"
   ]
  },
  {
   "cell_type": "code",
   "execution_count": null,
   "id": "37cbfff1",
   "metadata": {},
   "outputs": [],
   "source": [
    "a = [ 2, 3, 4, 5, 6, 7, 8 ]\n",
    "print(\"a =\", a)\n",
    "\n",
    "item = a.pop(3)\n",
    "print(\"在执行item = a.pop(3)后\")\n",
    "print(\"   item =\", item)\n",
    "print(\"   a =\", a)\n",
    "\n",
    "item = a.pop(3)\n",
    "print(\"再一次执行item = a.pop(3)后\")\n",
    "print(\"   item =\", item)\n",
    "print(\"   a =\", a)\n",
    "\n",
    "# 使用list.pop()移除最后一个元素\n",
    "item = a.pop()\n",
    "print(\"在执行item = a.pop()后\")\n",
    "print(\"   item =\", item)\n",
    "print(\"   a =\", a)"
   ]
  },
  {
   "cell_type": "markdown",
   "id": "1194b9e9",
   "metadata": {},
   "source": [
    "#### 非破坏性方法：在指定索引处取得列表切片"
   ]
  },
  {
   "cell_type": "code",
   "execution_count": null,
   "id": "282b4e4e",
   "metadata": {},
   "outputs": [],
   "source": [
    "a = [ 2, 3, 5, 3, 7, 5, 11, 13 ]\n",
    "print(\"a =\", a)\n",
    "\n",
    "b = a[:2] + a[3:]\n",
    "print(\"After b = a[:2] + a[3:]\")\n",
    "print(\"   a =\", a)\n",
    "print(\"   b =\", b)"
   ]
  },
  {
   "cell_type": "markdown",
   "id": "cf83599a",
   "metadata": {},
   "source": [
    "#### 6.10 列表的遍历\n",
    "#### 使用常规循环方法："
   ]
  },
  {
   "cell_type": "code",
   "execution_count": 12,
   "id": "fb77ee8e",
   "metadata": {},
   "outputs": [
    {
     "name": "stdout",
     "output_type": "stream",
     "text": [
      "这是列表a中的元素以及它们的索引值:\n",
      "a[ 0 ] = 2\n",
      "a[ 1 ] = 3\n",
      "a[ 2 ] = 5\n",
      "a[ 3 ] = 7\n"
     ]
    }
   ],
   "source": [
    "a = [ 2, 3, 5, 7 ]\n",
    "print(\"这是列表a中的元素以及它们的索引值:\")\n",
    "for index in range(len(a)):\n",
    "    print(\"a[\", index, \"] =\", a[index])"
   ]
  },
  {
   "cell_type": "markdown",
   "id": "1206d8ee",
   "metadata": {},
   "source": [
    "#### 使用for each语句"
   ]
  },
  {
   "cell_type": "code",
   "execution_count": null,
   "id": "e18e2c91",
   "metadata": {},
   "outputs": [],
   "source": [
    "# 列表和字符串都是可迭代的数据类型.\n",
    "# 这表示我们可以直接遍历它们中所有的内容!\n",
    "a = [ 2, 3, 5, 7 ]\n",
    "print(\"这是a中所有的元素:\")\n",
    "for item in a:\n",
    "    print(item)"
   ]
  },
  {
   "cell_type": "markdown",
   "id": "54fc7227",
   "metadata": {},
   "source": [
    "#### 警告：不要在 for 循环内修改列表！"
   ]
  },
  {
   "cell_type": "code",
   "execution_count": null,
   "id": "ea3e6025",
   "metadata": {},
   "outputs": [],
   "source": [
    "# 不要在for循环体内部修改列表！列表的索引值可能会出现无法预知的变更.\n",
    "# 但这对于字符串来说无所谓，因为字符串是不可编辑的.\n",
    "a = [ 2, 3, 5, 3, 7 ]\n",
    "print(\"a =\", a)\n",
    "\n",
    "# 并没有移除掉所有的3\n",
    "for index in range(len(a)):\n",
    "    if (a[index] == 3):  # 这个最终会报错!\n",
    "        a.pop(index)\n",
    "\n",
    "print(\"又是一行永远不会运行的代码!\")"
   ]
  },
  {
   "cell_type": "markdown",
   "id": "f32516dd",
   "metadata": {},
   "source": [
    "#### 再次警告：也不要在 for each 循环中修改列表"
   ]
  },
  {
   "cell_type": "code",
   "execution_count": null,
   "id": "e10821b3",
   "metadata": {},
   "outputs": [],
   "source": [
    "# 如果我们在for each循环中修改列表，也许不会报错，但是我们很多时候无法得到期望的结果\n",
    "\n",
    "a = [3, 3, 2, 3, 4]\n",
    "for item in a:       # 这个并不会遍历所有的元素\n",
    "    if (item == 3):\n",
    "      a.remove(item)\n",
    "print(a) # 应该为[2, 4],但仍然有个3在结果中"
   ]
  },
  {
   "cell_type": "markdown",
   "id": "39c047d5",
   "metadata": {},
   "source": [
    "#### 比较好的方式：在while函数中修改列表"
   ]
  },
  {
   "cell_type": "code",
   "execution_count": null,
   "id": "8a13c699",
   "metadata": {},
   "outputs": [],
   "source": [
    "# 在while函数中修改列表的话，索引的变化会更容易被控制 \n",
    "\n",
    "a = [ 2, 3, 5, 3, 7 ]\n",
    "print(\"a =\", a)\n",
    "\n",
    "# 成功删除了所有的3\n",
    "index = 0\n",
    "while (index < len(a)):\n",
    "    if (a[index] == 3):\n",
    "        a.pop(index)\n",
    "    else:\n",
    "        index += 1\n",
    "\n",
    "print(\"这行代码现在会运行了!\")\n",
    "print(\"并且现在a =\", a)"
   ]
  },
  {
   "cell_type": "markdown",
   "id": "7ecd2d14",
   "metadata": {},
   "source": [
    "#### 6.11 列表方法：排序和反转\n",
    "#### 列表有很多内置的方法. 这些方法既可以是非破坏性的也可以是破坏性的."
   ]
  },
  {
   "cell_type": "markdown",
   "id": "ddaeebb3",
   "metadata": {},
   "source": [
    "#### 使用 list.sort() 或者 list.reverse()的破坏性方法"
   ]
  },
  {
   "cell_type": "code",
   "execution_count": null,
   "id": "6c4c3781",
   "metadata": {},
   "outputs": [],
   "source": [
    "a = [ 7, 2, 5, 3, 5, 11, 7 ]\n",
    "print(\"一开始, a =\", a)\n",
    "a.sort()\n",
    "print(\"在执行a.sort()后, a =\",a)\n",
    "\n",
    "a = [ 2, 3, 5, 7 ]\n",
    "print(\"这些是反转后的列表元素:\")\n",
    "a.reverse()\n",
    "for item in a:\n",
    "    print(item)\n",
    "print(a)"
   ]
  },
  {
   "cell_type": "markdown",
   "id": "c0c18ce3",
   "metadata": {},
   "source": [
    "#### 使用sorted(list) and reversed(list)的非破坏性方法"
   ]
  },
  {
   "cell_type": "markdown",
   "id": "43a86e34",
   "metadata": {},
   "source": [
    "#### 更多的列表方法请参考此[链接](https://docs.python.org/3/tutorial/datastructures.html)"
   ]
  },
  {
   "cell_type": "markdown",
   "id": "68a37ada",
   "metadata": {},
   "source": [
    "#### 6.12 元组（不可编辑的列表）\n",
    "#### 元组与列表非常相似，除了不可编辑的特性外. 我们无法改变元组中的元素.\n",
    "#### 元组语法："
   ]
  },
  {
   "cell_type": "code",
   "execution_count": null,
   "id": "7a7b3828",
   "metadata": {},
   "outputs": [],
   "source": [
    "t = (1, 2, 3)\n",
    "print(type(t), len(t), t)\n",
    "\n",
    "a = [1, 2, 3]\n",
    "t = tuple(a)\n",
    "print(type(t), len(t), t)"
   ]
  },
  {
   "cell_type": "markdown",
   "id": "f665630a",
   "metadata": {},
   "source": [
    "#### 元组是不可编辑的"
   ]
  },
  {
   "cell_type": "code",
   "execution_count": null,
   "id": "2ca3bb74",
   "metadata": {},
   "outputs": [],
   "source": [
    "t = (1, 2, 3)\n",
    "print(t[0])\n",
    "\n",
    "t[0] = 42    # 报错!\n",
    "print(t[0])"
   ]
  },
  {
   "cell_type": "markdown",
   "id": "198d9659",
   "metadata": {},
   "source": [
    "#### 同行（元组）赋值"
   ]
  },
  {
   "cell_type": "code",
   "execution_count": null,
   "id": "6adc6ba2",
   "metadata": {},
   "outputs": [],
   "source": [
    "(x, y) = (1, 2)\n",
    "print(x)\n",
    "print(y)\n",
    "\n",
    "# 元组在交换元素的时候非常有用!\n",
    "(x, y) = (y, x)\n",
    "print(x)\n",
    "print(y)"
   ]
  },
  {
   "cell_type": "markdown",
   "id": "ba378621",
   "metadata": {},
   "source": [
    "#### 单个元素的元组"
   ]
  },
  {
   "cell_type": "code",
   "execution_count": 14,
   "id": "7b83d1dc",
   "metadata": {},
   "outputs": [
    {
     "name": "stdout",
     "output_type": "stream",
     "text": [
      "<class 'int'> 210\n",
      "<class 'tuple'> (42, 42, 42, 42, 42)\n"
     ]
    }
   ],
   "source": [
    "t = (42)\n",
    "print(type(t), t*5)\n",
    "\n",
    "t = (42,) # 使用逗号来改变t的类型\n",
    "print(type(t), t*5)"
   ]
  },
  {
   "cell_type": "markdown",
   "id": "09f59863",
   "metadata": {},
   "source": [
    "#### 6.13 列表推导式\n",
    "#### 列表推导式是在一行代码中建立列表的快捷方法"
   ]
  },
  {
   "cell_type": "code",
   "execution_count": null,
   "id": "0c6c85e5",
   "metadata": {},
   "outputs": [],
   "source": [
    "# 好长一段\n",
    "a = []\n",
    "for i in range(10):\n",
    "    a.append(i)\n",
    "print(a)\n",
    "\n",
    "# 稍微短点y\n",
    "a = [i for i in range(10)]\n",
    "print(a)\n",
    "\n",
    "# 其实一行就够了，还能加入if语句\n",
    "a = [(i*100) for i in range(20) if i%5 == 0]\n",
    "print(a)"
   ]
  },
  {
   "cell_type": "markdown",
   "id": "8b27a48c",
   "metadata": {},
   "source": [
    "#### 6.14 列表和字符串的互相转换"
   ]
  },
  {
   "cell_type": "code",
   "execution_count": 18,
   "id": "d3f98b5d",
   "metadata": {},
   "outputs": [
    {
     "name": "stdout",
     "output_type": "stream",
     "text": [
      "['你', '好', '呀', '!']\n",
      "['今', '天', '天', '气', '怎么样?']\n",
      "今天天气怎么样?\n",
      "安藤忠雄屡败屡战\n",
      "安藤忠雄 屡败 屡战\n"
     ]
    }
   ],
   "source": [
    "# 使用list(s)来把一个字符串转化为列表\n",
    "a = list(\"你好呀!\")\n",
    "print(a)  # prints: ['你', '好', '呀', '!']\n",
    "\n",
    "# 使用s1.split(s2)来把 s1 转化为 用 s2分割开的列表\n",
    "a = \"今 天 天 气 怎么样?\".split(\" \")\n",
    "print(a) # prints ['今', '天', '天', '气', '怎么样?']\n",
    "\n",
    "# 使用 \"\".join(a) 来把列表转化为单行的字符串\n",
    "print(\"\".join(a))  # 今天天气怎么样?\n",
    "\n",
    "# \"\".join(a) 也能对一堆字符串（意思是不仅限于单个的字符）使用\n",
    "a = [\"安藤忠雄\", \"屡败\", \"屡战\"] # 安藤忠雄!\n",
    "print(\"\".join(a))  # 打印出 安藤忠雄屡败屡战\n",
    "print(\" \".join(a)) # 打印出 安藤忠雄 屡败 屡战"
   ]
  }
 ],
 "metadata": {
  "kernelspec": {
   "display_name": "Python 3",
   "language": "python",
   "name": "python3"
  },
  "language_info": {
   "codemirror_mode": {
    "name": "ipython",
    "version": 3
   },
   "file_extension": ".py",
   "mimetype": "text/x-python",
   "name": "python",
   "nbconvert_exporter": "python",
   "pygments_lexer": "ipython3",
   "version": "3.8.10"
  }
 },
 "nbformat": 4,
 "nbformat_minor": 5
}
