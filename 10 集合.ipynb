{
 "cells": [
  {
   "cell_type": "markdown",
   "id": "8dc00138",
   "metadata": {},
   "source": [
    "# 城市设计分析技术Python自学教程10\n",
    "\n",
    "### 集合\n",
    "\n",
    "##### [计算城市设计实验室(Computational Urban Design Lab)](https://www.tjcud.cn/)"
   ]
  },
  {
   "cell_type": "markdown",
   "id": "57c5276f",
   "metadata": {},
   "source": [
    "#### 10.1 从一个简单的例子开始"
   ]
  },
  {
   "cell_type": "code",
   "execution_count": null,
   "id": "ad4bd69b",
   "metadata": {},
   "outputs": [],
   "source": [
    "# 集合是一种以无顺序的方式装载了多个元素的数据结构\n",
    "# 我们无法根据索引找到其中的元素，但是可以遍历集合中的元素\n",
    "s = set([2,3,5])\n",
    "print(3 in s)          # 打印出 True\n",
    "print(4 in s)          # 打印出 False\n",
    "for x in range(7):\n",
    "    if (x not in s):\n",
    "        print(x)       # 打印出 0 1 4 6"
   ]
  },
  {
   "cell_type": "markdown",
   "id": "ef8fc619",
   "metadata": {},
   "source": [
    "#### 10.2 创建列集合\n",
    "#### 创建空集合"
   ]
  },
  {
   "cell_type": "code",
   "execution_count": null,
   "id": "cc22cccf",
   "metadata": {},
   "outputs": [],
   "source": [
    "s = set()\n",
    "print(s)     # 打印出 set()，代表空集合"
   ]
  },
  {
   "cell_type": "markdown",
   "id": "95d56df7",
   "metadata": {},
   "source": [
    "#### 从列表建立集合"
   ]
  },
  {
   "cell_type": "code",
   "execution_count": null,
   "id": "75e8cb75",
   "metadata": {},
   "outputs": [],
   "source": [
    "s = set([\"cat\", \"cow\", \"dog\"])\n",
    "print(s)     # 打印出 {'cow', 'dog', 'cat'}"
   ]
  },
  {
   "cell_type": "markdown",
   "id": "146e5b1b",
   "metadata": {},
   "source": [
    "#### 创建一个静态分配集合"
   ]
  },
  {
   "cell_type": "code",
   "execution_count": null,
   "id": "c5c2044a",
   "metadata": {},
   "outputs": [],
   "source": [
    "s = { 2, 3, 5 }\n",
    "print(s)    # 打印出 { 2, 3, 5 }"
   ]
  },
  {
   "cell_type": "markdown",
   "id": "78cebedd",
   "metadata": {},
   "source": [
    "#### 注意！ {} 并不表示一个新的集合"
   ]
  },
  {
   "cell_type": "code",
   "execution_count": null,
   "id": "78848797",
   "metadata": {},
   "outputs": [],
   "source": [
    "s = { }\n",
    "print(type(s) == set)  # 错误!\n",
    "print(type(s))         # 这其实是个字典，我们马上会学到"
   ]
  },
  {
   "cell_type": "markdown",
   "id": "b4355c5e",
   "metadata": {},
   "source": [
    "#### 10.3 使用集合"
   ]
  },
  {
   "cell_type": "code",
   "execution_count": null,
   "id": "c237eb7d",
   "metadata": {},
   "outputs": [],
   "source": [
    "# 集合可以做很多列表和元组可以做到的事儿\n",
    "s = set([1, 2, 3])\n",
    "\n",
    "print(len(s)) # 打印出 3\n",
    "\n",
    "print(2 in s) # 打印出 True\n",
    "print(4 in s) # 打印出 False\n",
    "print(4 not in s) # 打印出 True\n",
    "print(2 not in s) # 打印出 False\n",
    "\n",
    "s.add(7)      # 使用add而不是append来在集合中增加元素\n",
    "s.remove(3)   # 删掉集合中的3，如果没有3就会报错\n",
    "\n",
    "for item in s:\n",
    "    print(item) # 我们可以遍历集合中的元素"
   ]
  },
  {
   "cell_type": "markdown",
   "id": "63199c2c",
   "metadata": {},
   "source": [
    "#### 10.4 集合的属性\n",
    "#### 尽管集合与列表和元组十分类似，但是也有很显著的不同点..."
   ]
  },
  {
   "cell_type": "markdown",
   "id": "17fbadaf",
   "metadata": {},
   "source": [
    "#### 集合中的元素是无序的"
   ]
  },
  {
   "cell_type": "code",
   "execution_count": null,
   "id": "5cf68e31",
   "metadata": {},
   "outputs": [],
   "source": [
    "# 元素在集合中并没有固定的位置\n",
    "# 所以无法进行索引\n",
    "s = set([2,4,8])\n",
    "print(s)          # 打印出 {8, 2, 4} ，在不同的编译器里结果不一样\n",
    "for element in s: # 打印出 8, 2, 4\n",
    "    print(element)"
   ]
  },
  {
   "cell_type": "markdown",
   "id": "0908ba9b",
   "metadata": {},
   "source": [
    "#### 集合中没有相同元素"
   ]
  },
  {
   "cell_type": "code",
   "execution_count": null,
   "id": "070f001b",
   "metadata": {},
   "outputs": [],
   "source": [
    "# 创建或编辑集合时，重复的元素会被移除\n",
    "s = set([2,2,2])\n",
    "print(s)          # 打印出 {2}\n",
    "print(len(s))     # 打印出 1"
   ]
  },
  {
   "cell_type": "markdown",
   "id": "b579d02f",
   "metadata": {},
   "source": [
    "#### 集合中的元素一定是不可修改的"
   ]
  },
  {
   "cell_type": "code",
   "execution_count": null,
   "id": "8c7408f4",
   "metadata": {},
   "outputs": [],
   "source": [
    "# 集合中只能装载无法被修改的元素\n",
    "# 比如数字，元组，字符串和布尔值\n",
    "a = [\"lists\", \"are\", \"mutable\"]\n",
    "s = set([a])       # 报错： TypeError: unhashable type: 'list'\n",
    "print(s)"
   ]
  },
  {
   "cell_type": "markdown",
   "id": "a46ca9cd",
   "metadata": {},
   "source": [
    "#### 再来个例子:"
   ]
  },
  {
   "cell_type": "code",
   "execution_count": null,
   "id": "0c106d8c",
   "metadata": {},
   "outputs": [],
   "source": [
    "s1 = set([\"sets\", \"are\", \"mutable\", \"too\"])\n",
    "s2 = set([s1])     # 报错： TypeError: unhashable type: 'set'\n",
    "print(s)"
   ]
  },
  {
   "cell_type": "markdown",
   "id": "08642390",
   "metadata": {},
   "source": [
    "#### 集合的相关运算非常高效\n",
    "集合存在的意义在于它们非常高效，大多数常见的操作都以 O(1)效率运行，包括添加元素、删除元素和检查是否存在。"
   ]
  },
  {
   "cell_type": "markdown",
   "id": "cd1409e1",
   "metadata": {},
   "source": [
    "#### 10.5 集合的工作方式：散列法（hashing）\n",
    "集合使用一种称为散列的算法方法来实现其惊人的运行效率。"
   ]
  },
  {
   "cell_type": "markdown",
   "id": "1ece79c2",
   "metadata": {},
   "source": [
    "散列函数将任何值作为输入值来返回一个整数。\n",
    "该函数每次在给定值上调用时都返回相同的整数，并且通常应该为不同的值返回不同的整数，尽管情况并非总是如此。\n",
    "我们实际上不需要自己构建哈希函数，因为 Python 已经有一个名为 hash 的内置函数。"
   ]
  },
  {
   "cell_type": "markdown",
   "id": "91fe5540",
   "metadata": {},
   "source": [
    "Python 通过创建一个哈希表将项目存储在一个集合中，哈希表是一个包含 N 个列表（称为“桶”）的列表。 \n",
    "Python 使用 hash(element) % n 根据元素的哈希值为元素选择桶。\n",
    "每个桶中的值没有排序，但每个桶的大小限制为某个常数 K。"
   ]
  },
  {
   "cell_type": "markdown",
   "id": "258f7f04",
   "metadata": {},
   "source": [
    "我们得到 O(1)（恒定时间），如下所示：\n",
    "\n",
    "计算桶索引 hash(element) % n - 需要 O(1)。\n",
    "\n",
    "检索存储桶 hashTable[bucketIndex] —— 需要 O(1)。\n",
    "\n",
    "将元素追加到存储桶中——需要 O(1)。\n",
    "\n",
    "\n",
    "我们得到 O(1)（恒定时间）成员资格测试（'in'），如下所示：\n",
    "\n",
    "计算桶索引 hash(element) % n - 需要 O(1)。\n",
    "\n",
    "检索存储桶 hashTable[bucketIndex] —— 需要 O(1)。\n",
    "\n",
    "检查桶中的每个值是否等于元素——需要 O(1)，因为桶中最多有 K 个值，而 K 是一个常数。"
   ]
  },
  {
   "cell_type": "markdown",
   "id": "b65cc240",
   "metadata": {},
   "source": [
    "问：我们如何保证每个桶不大于大小 K？\n",
    "答：好问题！\n",
    "如果我们需要将第 (K+1) 个值添加到存储桶中，我们会调整哈希表的大小，使其变大两倍，然后我们重新哈希每个值，基本上将其添加到新的哈希表中。\n",
    "这需要 O(N) 时间，但我们很少这样做，因此摊销的最坏情况仍然是 O(1)。"
   ]
  },
  {
   "cell_type": "markdown",
   "id": "018f2f90",
   "metadata": {},
   "source": [
    "#### 集合如何比列表更快的实际示例如下所示："
   ]
  },
  {
   "cell_type": "code",
   "execution_count": null,
   "id": "8fc61656",
   "metadata": {},
   "outputs": [],
   "source": [
    "# 0. 导入库\n",
    "import time\n",
    "n = 10000\n",
    "\n",
    "# 1. 创建列表 [2,4,6,...,n] 然后查找[1,2,3,...,n] 中的元素是否存在于其中\n",
    "\n",
    "# 不计算创建列表使用的时间\n",
    "a = list(range(2,n+1,2))\n",
    "\n",
    "print(\"使用一个列表...\", end=\"\")\n",
    "start = time.time()\n",
    "count = 0\n",
    "for x in range(n+1):\n",
    "    if x in a:\n",
    "        count += 1\n",
    "end = time.time()\n",
    "elapsed1 = end - start\n",
    "print(f'数量={count}， 用时 = {elapsed1:0.5f} 秒')\n",
    "\n",
    "# 2. 用集合再来一次\n",
    "print(\"使用一个集合.... \", end=\"\")\n",
    "start = time.time()\n",
    "s = set(a)\n",
    "count = 0\n",
    "for x in range(n+1):\n",
    "    if x in s:\n",
    "        count += 1\n",
    "end = time.time()\n",
    "elapsed2 = end - start\n",
    "print(f'数量={count}， 用时 = {elapsed2:0.5f} 秒')\n",
    "print(f'在 n={n}时, 集合比列表快 ~{elapsed1/elapsed2:0.1f} 倍!')\n",
    "print(\"n越大效果越明显哦!\")"
   ]
  },
  {
   "cell_type": "markdown",
   "id": "f91eeae7",
   "metadata": {},
   "source": [
    "#### 10.6 一些集合的实际运用\n",
    "#### isPermutation(L)"
   ]
  },
  {
   "cell_type": "code",
   "execution_count": null,
   "id": "3d44bdfc",
   "metadata": {},
   "outputs": [],
   "source": [
    "def isPermutation(L):\n",
    "    # 返回 True 如果L是 [0,...,n-1]的变体（拥有相同元素但是顺序不同），否则返回False\n",
    "    return (set(L) == set(range(len(L))))\n",
    "\n",
    "def testIsPermutation():\n",
    "    print(\"测试 isPermutation()...\", end=\"\")\n",
    "    assert(isPermutation([0,2,1,4,3]) == True)\n",
    "    assert(isPermutation([1,3,0,4,2]) == True)\n",
    "    assert(isPermutation([1,3,5,4,2]) == False)\n",
    "    assert(isPermutation([1,4,0,4,2]) == False)\n",
    "    print(\"通过!\")\n",
    "\n",
    "testIsPermutation()"
   ]
  },
  {
   "cell_type": "markdown",
   "id": "713c4933",
   "metadata": {},
   "source": [
    "#### repeats(L)"
   ]
  },
  {
   "cell_type": "code",
   "execution_count": null,
   "id": "2dd2d41e",
   "metadata": {},
   "outputs": [],
   "source": [
    "def repeats(L):\n",
    "    # 以按顺序排列的方式返回L中重复的元素\n",
    "    seen = set()\n",
    "    seenAgain = set()\n",
    "    for element in L:\n",
    "        if (element in seen):\n",
    "            seenAgain.add(element)\n",
    "        seen.add(element)\n",
    "    return sorted(seenAgain)\n",
    "\n",
    "def testRepeats():\n",
    "    print(\"测试 repeats()...\", end=\"\")\n",
    "    assert(repeats([1,2,3,2,1]) == [1,2])\n",
    "    assert(repeats([1,2,3,2,2,4]) == [2])\n",
    "    assert(repeats(list(range(100))) == [ ])\n",
    "    assert(repeats(list(range(100))*5) == list(range(100)))\n",
    "    print(\"通过!\")\n",
    "\n",
    "testRepeats()"
   ]
  }
 ],
 "metadata": {
  "kernelspec": {
   "display_name": "Python 3 (ipykernel)",
   "language": "python",
   "name": "python3"
  },
  "language_info": {
   "codemirror_mode": {
    "name": "ipython",
    "version": 3
   },
   "file_extension": ".py",
   "mimetype": "text/x-python",
   "name": "python",
   "nbconvert_exporter": "python",
   "pygments_lexer": "ipython3",
   "version": "3.7.11"
  }
 },
 "nbformat": 4,
 "nbformat_minor": 5
}
